{
 "cells": [
  {
   "cell_type": "code",
   "execution_count": 1,
   "id": "5e1375b7",
   "metadata": {},
   "outputs": [
    {
     "name": "stdout",
     "output_type": "stream",
     "text": [
      "Using matplotlib backend: Qt5Agg\n"
     ]
    },
    {
     "data": {
      "text/html": [
       "        <script type=\"text/javascript\">\n",
       "        window.PlotlyConfig = {MathJaxConfig: 'local'};\n",
       "        if (window.MathJax) {MathJax.Hub.Config({SVG: {font: \"STIX-Web\"}});}\n",
       "        if (typeof require !== 'undefined') {\n",
       "        require.undef(\"plotly\");\n",
       "        requirejs.config({\n",
       "            paths: {\n",
       "                'plotly': ['https://cdn.plot.ly/plotly-2.4.2.min']\n",
       "            }\n",
       "        });\n",
       "        require(['plotly'], function(Plotly) {\n",
       "            window._Plotly = Plotly;\n",
       "        });\n",
       "        }\n",
       "        </script>\n",
       "        "
      ]
     },
     "metadata": {},
     "output_type": "display_data"
    }
   ],
   "source": [
    "import pandas as pd\n",
    "import numpy as np\n",
    "\n",
    "#visualization\n",
    "%matplotlib\n",
    "import matplotlib.pyplot as plt\n",
    "import matplotlib.pylab as pylab\n",
    "import seaborn as sns\n",
    "from pandas.plotting import scatter_matrix\n",
    "\n",
    "from wordcloud import WordCloud\n",
    "import seaborn as sns\n",
    "import pandas_profiling as pp\n",
    "import plotly.graph_objects as go\n",
    "from plotly.offline import init_notebook_mode, iplot\n",
    "init_notebook_mode(connected=True)\n"
   ]
  },
  {
   "cell_type": "code",
   "execution_count": 2,
   "id": "541c0542",
   "metadata": {},
   "outputs": [],
   "source": [
    "from sklearn.preprocessing import OneHotEncoder, LabelEncoder\n",
    "from sklearn import feature_selection\n",
    "from sklearn import model_selection\n",
    "from sklearn import metrics"
   ]
  },
  {
   "cell_type": "code",
   "execution_count": 3,
   "id": "9db669e6",
   "metadata": {},
   "outputs": [],
   "source": [
    "xls = pd.ExcelFile(\"C:/Users/Asus/Desktop/Analyst/Customers Insight Analyst/abab.xlsx\")\n",
    "\n",
    "koins = xls.parse(1) #2 is the sheet number"
   ]
  },
  {
   "cell_type": "code",
   "execution_count": 4,
   "id": "842f79be",
   "metadata": {
    "scrolled": false
   },
   "outputs": [
    {
     "name": "stdout",
     "output_type": "stream",
     "text": [
      "<class 'pandas.core.frame.DataFrame'>\n",
      "RangeIndex: 2511 entries, 0 to 2510\n",
      "Data columns (total 11 columns):\n",
      " #   Column           Non-Null Count  Dtype         \n",
      "---  ------           --------------  -----         \n",
      " 0   user_name        2511 non-null   object        \n",
      " 1   loan_duration    2511 non-null   int64         \n",
      " 2   loan_grade       2511 non-null   object        \n",
      " 3   lender_interest  2511 non-null   float64       \n",
      " 4   totalpurc        2511 non-null   object        \n",
      " 5   total_purchase   2511 non-null   float64       \n",
      " 6   order_status     2511 non-null   object        \n",
      " 7   order_type       2511 non-null   object        \n",
      " 8   order_date       2511 non-null   datetime64[ns]\n",
      " 9   product          2511 non-null   object        \n",
      " 10  sub_product      2511 non-null   object        \n",
      "dtypes: datetime64[ns](1), float64(2), int64(1), object(7)\n",
      "memory usage: 215.9+ KB\n"
     ]
    }
   ],
   "source": [
    "koins.info()"
   ]
  },
  {
   "cell_type": "code",
   "execution_count": 5,
   "id": "953d5667",
   "metadata": {
    "scrolled": true
   },
   "outputs": [
    {
     "data": {
      "text/html": [
       "<div>\n",
       "<style scoped>\n",
       "    .dataframe tbody tr th:only-of-type {\n",
       "        vertical-align: middle;\n",
       "    }\n",
       "\n",
       "    .dataframe tbody tr th {\n",
       "        vertical-align: top;\n",
       "    }\n",
       "\n",
       "    .dataframe thead th {\n",
       "        text-align: right;\n",
       "    }\n",
       "</style>\n",
       "<table border=\"1\" class=\"dataframe\">\n",
       "  <thead>\n",
       "    <tr style=\"text-align: right;\">\n",
       "      <th></th>\n",
       "      <th>user_name</th>\n",
       "      <th>loan_duration</th>\n",
       "      <th>loan_grade</th>\n",
       "      <th>lender_interest</th>\n",
       "      <th>totalpurc</th>\n",
       "      <th>total_purchase</th>\n",
       "      <th>order_status</th>\n",
       "      <th>order_type</th>\n",
       "      <th>order_date</th>\n",
       "      <th>product</th>\n",
       "      <th>sub_product</th>\n",
       "    </tr>\n",
       "  </thead>\n",
       "  <tbody>\n",
       "    <tr>\n",
       "      <th>0</th>\n",
       "      <td>User 1580</td>\n",
       "      <td>2</td>\n",
       "      <td>A5</td>\n",
       "      <td>14.4</td>\n",
       "      <td>&gt;=100000-4999999</td>\n",
       "      <td>100000.0</td>\n",
       "      <td>success</td>\n",
       "      <td>auto</td>\n",
       "      <td>2021-05-31</td>\n",
       "      <td>KoinP2P</td>\n",
       "      <td>koin_invoice</td>\n",
       "    </tr>\n",
       "    <tr>\n",
       "      <th>1</th>\n",
       "      <td>User 1581</td>\n",
       "      <td>3</td>\n",
       "      <td>B2</td>\n",
       "      <td>14.0</td>\n",
       "      <td>&lt;100000</td>\n",
       "      <td>0.0</td>\n",
       "      <td>failed</td>\n",
       "      <td>auto</td>\n",
       "      <td>2021-05-31</td>\n",
       "      <td>KoinP2P</td>\n",
       "      <td>koin_invoice</td>\n",
       "    </tr>\n",
       "    <tr>\n",
       "      <th>2</th>\n",
       "      <td>User 1582</td>\n",
       "      <td>3</td>\n",
       "      <td>B2</td>\n",
       "      <td>14.0</td>\n",
       "      <td>&lt;100000</td>\n",
       "      <td>0.0</td>\n",
       "      <td>failed</td>\n",
       "      <td>auto</td>\n",
       "      <td>2021-05-31</td>\n",
       "      <td>KoinP2P</td>\n",
       "      <td>koin_invoice</td>\n",
       "    </tr>\n",
       "    <tr>\n",
       "      <th>3</th>\n",
       "      <td>User 1583</td>\n",
       "      <td>2</td>\n",
       "      <td>A5</td>\n",
       "      <td>14.4</td>\n",
       "      <td>&gt;=100000-4999999</td>\n",
       "      <td>500000.0</td>\n",
       "      <td>success</td>\n",
       "      <td>manual</td>\n",
       "      <td>2021-05-31</td>\n",
       "      <td>KoinP2P</td>\n",
       "      <td>koin_invoice</td>\n",
       "    </tr>\n",
       "    <tr>\n",
       "      <th>4</th>\n",
       "      <td>User 1584</td>\n",
       "      <td>1</td>\n",
       "      <td>B2</td>\n",
       "      <td>16.6</td>\n",
       "      <td>&gt;=100000-4999999</td>\n",
       "      <td>500000.0</td>\n",
       "      <td>success</td>\n",
       "      <td>auto</td>\n",
       "      <td>2021-05-31</td>\n",
       "      <td>KoinP2P</td>\n",
       "      <td>koin_invoice</td>\n",
       "    </tr>\n",
       "  </tbody>\n",
       "</table>\n",
       "</div>"
      ],
      "text/plain": [
       "   user_name  loan_duration loan_grade  lender_interest         totalpurc  \\\n",
       "0  User 1580              2         A5             14.4  >=100000-4999999   \n",
       "1  User 1581              3         B2             14.0           <100000   \n",
       "2  User 1582              3         B2             14.0           <100000   \n",
       "3  User 1583              2         A5             14.4  >=100000-4999999   \n",
       "4  User 1584              1         B2             16.6  >=100000-4999999   \n",
       "\n",
       "   total_purchase order_status order_type order_date  product   sub_product  \n",
       "0        100000.0      success       auto 2021-05-31  KoinP2P  koin_invoice  \n",
       "1             0.0       failed       auto 2021-05-31  KoinP2P  koin_invoice  \n",
       "2             0.0       failed       auto 2021-05-31  KoinP2P  koin_invoice  \n",
       "3        500000.0      success     manual 2021-05-31  KoinP2P  koin_invoice  \n",
       "4        500000.0      success       auto 2021-05-31  KoinP2P  koin_invoice  "
      ]
     },
     "execution_count": 5,
     "metadata": {},
     "output_type": "execute_result"
    }
   ],
   "source": [
    "koins.head()"
   ]
  },
  {
   "cell_type": "code",
   "execution_count": 6,
   "id": "61147c8d",
   "metadata": {},
   "outputs": [
    {
     "name": "stdout",
     "output_type": "stream",
     "text": [
      "user_name          1556\n",
      "loan_duration        11\n",
      "loan_grade           15\n",
      "lender_interest      71\n",
      "totalpurc             4\n",
      "total_purchase       96\n",
      "order_status          4\n",
      "order_type            2\n",
      "order_date           31\n",
      "product               2\n",
      "sub_product           4\n",
      "dtype: int64\n"
     ]
    }
   ],
   "source": [
    "#Looking unique values\n",
    "print(koins.nunique())"
   ]
  },
  {
   "cell_type": "code",
   "execution_count": 7,
   "id": "98ab046c",
   "metadata": {},
   "outputs": [
    {
     "data": {
      "text/plain": [
       "user_name          0\n",
       "loan_duration      0\n",
       "loan_grade         0\n",
       "lender_interest    0\n",
       "totalpurc          0\n",
       "total_purchase     0\n",
       "order_status       0\n",
       "order_type         0\n",
       "order_date         0\n",
       "product            0\n",
       "sub_product        0\n",
       "dtype: int64"
      ]
     },
     "execution_count": 7,
     "metadata": {},
     "output_type": "execute_result"
    }
   ],
   "source": [
    "#checking missing values\n",
    "koins.isnull().sum()"
   ]
  },
  {
   "cell_type": "code",
   "execution_count": 8,
   "id": "ea039f61",
   "metadata": {},
   "outputs": [],
   "source": [
    "def missingdata(koins):\n",
    "    total = koins.isnull().sum().sort_values(ascending = False)\n",
    "    percent = (koins.isnull().sum()/koins.isnull().count()*100).sort_values(ascending = False)\n",
    "    ms=pd.concat([total, percent], axis=1, keys=['Total', 'Persentase'])\n",
    "    return ms"
   ]
  },
  {
   "cell_type": "code",
   "execution_count": 9,
   "id": "353f72d3",
   "metadata": {
    "scrolled": false
   },
   "outputs": [
    {
     "data": {
      "text/html": [
       "<div>\n",
       "<style scoped>\n",
       "    .dataframe tbody tr th:only-of-type {\n",
       "        vertical-align: middle;\n",
       "    }\n",
       "\n",
       "    .dataframe tbody tr th {\n",
       "        vertical-align: top;\n",
       "    }\n",
       "\n",
       "    .dataframe thead th {\n",
       "        text-align: right;\n",
       "    }\n",
       "</style>\n",
       "<table border=\"1\" class=\"dataframe\">\n",
       "  <thead>\n",
       "    <tr style=\"text-align: right;\">\n",
       "      <th></th>\n",
       "      <th>Total</th>\n",
       "      <th>Persentase</th>\n",
       "    </tr>\n",
       "  </thead>\n",
       "  <tbody>\n",
       "    <tr>\n",
       "      <th>user_name</th>\n",
       "      <td>0</td>\n",
       "      <td>0.0</td>\n",
       "    </tr>\n",
       "    <tr>\n",
       "      <th>loan_duration</th>\n",
       "      <td>0</td>\n",
       "      <td>0.0</td>\n",
       "    </tr>\n",
       "    <tr>\n",
       "      <th>loan_grade</th>\n",
       "      <td>0</td>\n",
       "      <td>0.0</td>\n",
       "    </tr>\n",
       "    <tr>\n",
       "      <th>lender_interest</th>\n",
       "      <td>0</td>\n",
       "      <td>0.0</td>\n",
       "    </tr>\n",
       "    <tr>\n",
       "      <th>totalpurc</th>\n",
       "      <td>0</td>\n",
       "      <td>0.0</td>\n",
       "    </tr>\n",
       "    <tr>\n",
       "      <th>total_purchase</th>\n",
       "      <td>0</td>\n",
       "      <td>0.0</td>\n",
       "    </tr>\n",
       "    <tr>\n",
       "      <th>order_status</th>\n",
       "      <td>0</td>\n",
       "      <td>0.0</td>\n",
       "    </tr>\n",
       "    <tr>\n",
       "      <th>order_type</th>\n",
       "      <td>0</td>\n",
       "      <td>0.0</td>\n",
       "    </tr>\n",
       "    <tr>\n",
       "      <th>order_date</th>\n",
       "      <td>0</td>\n",
       "      <td>0.0</td>\n",
       "    </tr>\n",
       "    <tr>\n",
       "      <th>product</th>\n",
       "      <td>0</td>\n",
       "      <td>0.0</td>\n",
       "    </tr>\n",
       "    <tr>\n",
       "      <th>sub_product</th>\n",
       "      <td>0</td>\n",
       "      <td>0.0</td>\n",
       "    </tr>\n",
       "  </tbody>\n",
       "</table>\n",
       "</div>"
      ],
      "text/plain": [
       "                 Total  Persentase\n",
       "user_name            0         0.0\n",
       "loan_duration        0         0.0\n",
       "loan_grade           0         0.0\n",
       "lender_interest      0         0.0\n",
       "totalpurc            0         0.0\n",
       "total_purchase       0         0.0\n",
       "order_status         0         0.0\n",
       "order_type           0         0.0\n",
       "order_date           0         0.0\n",
       "product              0         0.0\n",
       "sub_product          0         0.0"
      ]
     },
     "execution_count": 9,
     "metadata": {},
     "output_type": "execute_result"
    }
   ],
   "source": [
    "missingdata(koins)"
   ]
  },
  {
   "cell_type": "code",
   "execution_count": 10,
   "id": "a1287765",
   "metadata": {},
   "outputs": [
    {
     "data": {
      "text/html": [
       "<div>\n",
       "<style scoped>\n",
       "    .dataframe tbody tr th:only-of-type {\n",
       "        vertical-align: middle;\n",
       "    }\n",
       "\n",
       "    .dataframe tbody tr th {\n",
       "        vertical-align: top;\n",
       "    }\n",
       "\n",
       "    .dataframe thead th {\n",
       "        text-align: right;\n",
       "    }\n",
       "</style>\n",
       "<table border=\"1\" class=\"dataframe\">\n",
       "  <thead>\n",
       "    <tr style=\"text-align: right;\">\n",
       "      <th></th>\n",
       "      <th>user_name</th>\n",
       "      <th>loan_duration</th>\n",
       "      <th>loan_grade</th>\n",
       "      <th>lender_interest</th>\n",
       "      <th>totalpurc</th>\n",
       "      <th>total_purchase</th>\n",
       "      <th>order_status</th>\n",
       "      <th>order_type</th>\n",
       "      <th>order_date</th>\n",
       "      <th>product</th>\n",
       "      <th>sub_product</th>\n",
       "    </tr>\n",
       "  </thead>\n",
       "  <tbody>\n",
       "    <tr>\n",
       "      <th>0</th>\n",
       "      <td>User 1580</td>\n",
       "      <td>2</td>\n",
       "      <td>A5</td>\n",
       "      <td>14.4</td>\n",
       "      <td>&gt;=100000-4999999</td>\n",
       "      <td>100000.0</td>\n",
       "      <td>success</td>\n",
       "      <td>auto</td>\n",
       "      <td>2021-05-31</td>\n",
       "      <td>KoinP2P</td>\n",
       "      <td>koin_invoice</td>\n",
       "    </tr>\n",
       "    <tr>\n",
       "      <th>1</th>\n",
       "      <td>User 1581</td>\n",
       "      <td>3</td>\n",
       "      <td>B2</td>\n",
       "      <td>14.0</td>\n",
       "      <td>&lt;100000</td>\n",
       "      <td>0.0</td>\n",
       "      <td>failed</td>\n",
       "      <td>auto</td>\n",
       "      <td>2021-05-31</td>\n",
       "      <td>KoinP2P</td>\n",
       "      <td>koin_invoice</td>\n",
       "    </tr>\n",
       "    <tr>\n",
       "      <th>2</th>\n",
       "      <td>User 1582</td>\n",
       "      <td>3</td>\n",
       "      <td>B2</td>\n",
       "      <td>14.0</td>\n",
       "      <td>&lt;100000</td>\n",
       "      <td>0.0</td>\n",
       "      <td>failed</td>\n",
       "      <td>auto</td>\n",
       "      <td>2021-05-31</td>\n",
       "      <td>KoinP2P</td>\n",
       "      <td>koin_invoice</td>\n",
       "    </tr>\n",
       "    <tr>\n",
       "      <th>3</th>\n",
       "      <td>User 1583</td>\n",
       "      <td>2</td>\n",
       "      <td>A5</td>\n",
       "      <td>14.4</td>\n",
       "      <td>&gt;=100000-4999999</td>\n",
       "      <td>500000.0</td>\n",
       "      <td>success</td>\n",
       "      <td>manual</td>\n",
       "      <td>2021-05-31</td>\n",
       "      <td>KoinP2P</td>\n",
       "      <td>koin_invoice</td>\n",
       "    </tr>\n",
       "    <tr>\n",
       "      <th>4</th>\n",
       "      <td>User 1584</td>\n",
       "      <td>1</td>\n",
       "      <td>B2</td>\n",
       "      <td>16.6</td>\n",
       "      <td>&gt;=100000-4999999</td>\n",
       "      <td>500000.0</td>\n",
       "      <td>success</td>\n",
       "      <td>auto</td>\n",
       "      <td>2021-05-31</td>\n",
       "      <td>KoinP2P</td>\n",
       "      <td>koin_invoice</td>\n",
       "    </tr>\n",
       "    <tr>\n",
       "      <th>...</th>\n",
       "      <td>...</td>\n",
       "      <td>...</td>\n",
       "      <td>...</td>\n",
       "      <td>...</td>\n",
       "      <td>...</td>\n",
       "      <td>...</td>\n",
       "      <td>...</td>\n",
       "      <td>...</td>\n",
       "      <td>...</td>\n",
       "      <td>...</td>\n",
       "      <td>...</td>\n",
       "    </tr>\n",
       "    <tr>\n",
       "      <th>2506</th>\n",
       "      <td>User 32</td>\n",
       "      <td>1</td>\n",
       "      <td>A1</td>\n",
       "      <td>14.0</td>\n",
       "      <td>&gt;=100000-4999999</td>\n",
       "      <td>100000.0</td>\n",
       "      <td>success</td>\n",
       "      <td>manual</td>\n",
       "      <td>2021-05-01</td>\n",
       "      <td>KoinP2P</td>\n",
       "      <td>koin_invoice</td>\n",
       "    </tr>\n",
       "    <tr>\n",
       "      <th>2507</th>\n",
       "      <td>User 33</td>\n",
       "      <td>1</td>\n",
       "      <td>A1</td>\n",
       "      <td>14.0</td>\n",
       "      <td>&gt;=100000-4999999</td>\n",
       "      <td>100000.0</td>\n",
       "      <td>success</td>\n",
       "      <td>manual</td>\n",
       "      <td>2021-05-01</td>\n",
       "      <td>KoinP2P</td>\n",
       "      <td>koin_invoice</td>\n",
       "    </tr>\n",
       "    <tr>\n",
       "      <th>2508</th>\n",
       "      <td>User 34</td>\n",
       "      <td>1</td>\n",
       "      <td>A1</td>\n",
       "      <td>14.0</td>\n",
       "      <td>&gt;=100000-4999999</td>\n",
       "      <td>100000.0</td>\n",
       "      <td>success</td>\n",
       "      <td>manual</td>\n",
       "      <td>2021-05-01</td>\n",
       "      <td>KoinP2P</td>\n",
       "      <td>koin_invoice</td>\n",
       "    </tr>\n",
       "    <tr>\n",
       "      <th>2509</th>\n",
       "      <td>User 35</td>\n",
       "      <td>1</td>\n",
       "      <td>A1</td>\n",
       "      <td>14.0</td>\n",
       "      <td>&gt;=100000-4999999</td>\n",
       "      <td>100000.0</td>\n",
       "      <td>success</td>\n",
       "      <td>manual</td>\n",
       "      <td>2021-05-01</td>\n",
       "      <td>KoinP2P</td>\n",
       "      <td>koin_invoice</td>\n",
       "    </tr>\n",
       "    <tr>\n",
       "      <th>2510</th>\n",
       "      <td>User 36</td>\n",
       "      <td>1</td>\n",
       "      <td>A1</td>\n",
       "      <td>14.0</td>\n",
       "      <td>&gt;=100000-4999999</td>\n",
       "      <td>100000.0</td>\n",
       "      <td>success</td>\n",
       "      <td>manual</td>\n",
       "      <td>2021-05-01</td>\n",
       "      <td>KoinP2P</td>\n",
       "      <td>koin_invoice</td>\n",
       "    </tr>\n",
       "  </tbody>\n",
       "</table>\n",
       "<p>2447 rows × 11 columns</p>\n",
       "</div>"
      ],
      "text/plain": [
       "      user_name  loan_duration loan_grade  lender_interest         totalpurc  \\\n",
       "0     User 1580              2         A5             14.4  >=100000-4999999   \n",
       "1     User 1581              3         B2             14.0           <100000   \n",
       "2     User 1582              3         B2             14.0           <100000   \n",
       "3     User 1583              2         A5             14.4  >=100000-4999999   \n",
       "4     User 1584              1         B2             16.6  >=100000-4999999   \n",
       "...         ...            ...        ...              ...               ...   \n",
       "2506    User 32              1         A1             14.0  >=100000-4999999   \n",
       "2507    User 33              1         A1             14.0  >=100000-4999999   \n",
       "2508    User 34              1         A1             14.0  >=100000-4999999   \n",
       "2509    User 35              1         A1             14.0  >=100000-4999999   \n",
       "2510    User 36              1         A1             14.0  >=100000-4999999   \n",
       "\n",
       "      total_purchase order_status order_type order_date  product   sub_product  \n",
       "0           100000.0      success       auto 2021-05-31  KoinP2P  koin_invoice  \n",
       "1                0.0       failed       auto 2021-05-31  KoinP2P  koin_invoice  \n",
       "2                0.0       failed       auto 2021-05-31  KoinP2P  koin_invoice  \n",
       "3           500000.0      success     manual 2021-05-31  KoinP2P  koin_invoice  \n",
       "4           500000.0      success       auto 2021-05-31  KoinP2P  koin_invoice  \n",
       "...              ...          ...        ...        ...      ...           ...  \n",
       "2506        100000.0      success     manual 2021-05-01  KoinP2P  koin_invoice  \n",
       "2507        100000.0      success     manual 2021-05-01  KoinP2P  koin_invoice  \n",
       "2508        100000.0      success     manual 2021-05-01  KoinP2P  koin_invoice  \n",
       "2509        100000.0      success     manual 2021-05-01  KoinP2P  koin_invoice  \n",
       "2510        100000.0      success     manual 2021-05-01  KoinP2P  koin_invoice  \n",
       "\n",
       "[2447 rows x 11 columns]"
      ]
     },
     "execution_count": 10,
     "metadata": {},
     "output_type": "execute_result"
    }
   ],
   "source": [
    "koin=koins.drop_duplicates()\n",
    "koin"
   ]
  },
  {
   "cell_type": "code",
   "execution_count": 11,
   "id": "a0e9dd29",
   "metadata": {},
   "outputs": [
    {
     "data": {
      "application/vnd.plotly.v1+json": {
       "config": {
        "plotlyServerURL": "https://plot.ly"
       },
       "data": [
        {
         "name": "koin_invoice",
         "type": "box",
         "x": [
          14.4,
          14,
          14,
          14.4,
          16.6,
          14.4,
          14.4,
          14.4,
          17.2,
          14.4,
          14.4,
          17.2,
          17.8,
          14.4,
          14.4,
          14.4,
          17.8,
          16.6,
          14.4,
          16.6,
          16.6,
          15.6,
          15.6,
          14.4,
          14.4,
          16.6,
          16.6,
          17.2,
          17.2,
          15.3,
          18,
          14,
          17.8,
          14,
          17.8,
          18,
          14,
          16.6,
          16,
          16,
          14,
          14.4,
          16.6,
          17.8,
          18,
          16,
          14,
          15.3,
          16.6,
          14,
          14,
          14.4,
          14,
          17.2,
          14,
          14,
          17.8,
          16.6,
          16,
          16,
          14.4,
          14.4,
          14.4,
          14.4,
          14.4,
          14,
          17.8,
          21,
          14.4,
          14.4,
          14.4,
          14.4,
          14.4,
          14,
          17.2,
          18,
          14.4,
          14.4,
          14.4,
          17.2,
          14.4,
          21,
          14.4,
          18,
          14,
          15.3,
          14.4,
          17.2,
          15.6,
          16.6,
          17.2,
          14,
          14,
          18,
          17.2,
          17.8,
          16.6,
          16.6,
          18,
          14.4,
          14.4,
          14.4,
          14.4,
          14.4,
          18,
          14.4,
          15.6,
          15.6,
          14.4,
          14.4,
          14.4,
          17.2,
          18,
          14,
          14.4,
          17.2,
          17.8,
          17.8,
          16.6,
          16.6,
          14.4,
          14.4,
          14.4,
          14.4,
          17.82,
          18,
          14.4,
          14.4,
          15.3,
          17.2,
          17.8,
          14.4,
          15.3,
          14.4,
          14.4,
          14.4,
          21,
          14.4,
          15.6,
          14.4,
          18,
          14,
          14.4,
          14.4,
          14.4,
          14.4,
          14.4,
          17.2,
          15.3,
          17.2,
          16.6,
          14.4,
          14.4,
          15.6,
          15.3,
          21,
          21,
          21,
          17.2,
          16.6,
          16.6,
          17.2,
          15.6,
          15,
          17.82,
          17.82,
          21,
          15.3,
          18,
          14,
          18,
          14.4,
          14.4,
          14.4,
          14.4,
          14.4,
          14.4,
          14.4,
          14.4,
          14.4,
          14.4,
          14.4,
          21,
          18,
          14.4,
          14.4,
          14.4,
          14.4,
          14.4,
          17.2,
          14.4,
          14.4,
          14.4,
          14.4,
          14.4,
          15.3,
          14.4,
          18,
          18,
          18,
          18,
          18,
          14,
          16,
          18,
          19.71,
          14,
          19.71,
          14,
          14,
          14,
          18,
          19.71,
          19.71,
          14,
          19.71,
          19.71,
          18,
          18,
          14,
          16.2,
          19,
          14.2,
          14.2,
          14.2,
          14.2,
          14.2,
          14.2,
          14.2,
          15.5,
          17,
          17,
          14.2,
          15.5,
          15.5,
          19,
          17,
          15.44,
          15.44,
          17.4,
          17.4,
          19,
          16.2,
          14,
          17.4,
          15.44,
          17.4,
          14.2,
          14,
          14,
          16.2,
          14.2,
          14.2,
          14.79,
          14,
          17,
          14.2,
          14.2,
          14.2,
          14.2,
          19,
          14,
          14,
          14.79,
          14,
          18,
          19,
          17,
          17,
          15.5,
          17,
          15.5,
          15.5,
          17.4,
          14,
          17.4,
          17.4,
          17.4,
          14.2,
          14.2,
          14.2,
          14.2,
          14.2,
          14.2,
          14.2,
          14.2,
          14.2,
          14.2,
          14.2,
          14.2,
          14.2,
          14.2,
          14.2,
          14.2,
          14.2,
          14.2,
          14.2,
          14.2,
          14.2,
          14.2,
          14.2,
          14.2,
          14.2,
          14.2,
          14.2,
          14.2,
          14.2,
          15.44,
          15.5,
          14,
          18,
          15.44,
          14.79,
          18,
          16.2,
          19,
          14,
          14,
          14,
          14.2,
          16.2,
          14.2,
          14.2,
          14.2,
          14.2,
          14.2,
          16.63,
          17,
          17,
          17,
          19,
          15.5,
          18,
          18,
          17,
          14,
          15.44,
          14,
          18,
          14,
          18,
          19,
          18,
          15.5,
          17,
          17,
          17,
          15.44,
          18,
          14,
          14,
          17.4,
          17.4,
          15.5,
          17.4,
          17,
          17.4,
          15.5,
          15.5,
          17.4,
          15.44,
          17.4,
          17,
          17.4,
          15.44,
          17.4,
          15.5,
          15.5,
          17.4,
          18,
          17,
          17.4,
          17.4,
          17.4,
          15.44,
          17.4,
          15.5,
          14,
          17.4,
          17.4,
          16.63,
          17,
          17.4,
          14,
          15.5,
          17.4,
          15.5,
          17.4,
          18,
          18,
          17.4,
          17.4,
          18,
          15.44,
          17.4,
          18,
          18,
          18,
          14,
          17.4,
          14,
          14,
          17.4,
          15.5,
          17,
          17,
          17.4,
          17.4,
          17.4,
          14,
          14,
          14,
          17.4,
          14,
          17.4,
          18,
          15.44,
          17,
          17.4,
          17,
          17,
          17.4,
          14,
          15.44,
          17.4,
          17.4,
          17.4,
          17.4,
          17.4,
          17.4,
          17.4,
          15.5,
          17,
          17,
          17.4,
          18,
          17,
          16.2,
          16.2,
          17.4,
          14,
          17,
          17.4,
          17,
          17.4,
          14,
          15.3,
          17.4,
          16.2,
          16.2,
          17.4,
          17.4,
          15.3,
          16.2,
          15.3,
          16.2,
          16.2,
          16.2,
          16.2,
          17,
          17,
          17.4,
          17.4,
          16.2,
          17.4,
          14,
          16.2,
          14.79,
          14,
          17.4,
          14,
          14,
          17.4,
          14,
          17.4,
          17.4,
          17.4,
          17.4,
          17.4,
          16.2,
          14.79,
          17.4,
          14.79,
          14.79,
          16.2,
          14.79,
          17.4,
          14,
          17.4,
          14,
          14,
          14.79,
          16.2,
          16.2,
          17.4,
          16.2,
          16.2,
          16.2,
          15.3,
          16.2,
          16.2,
          16.2,
          17,
          17,
          17.4,
          16.2,
          17,
          14.79,
          16.2,
          17.4,
          17.4,
          17.4,
          14,
          17.4,
          17.4,
          16.2,
          16.2,
          14.79,
          14.79,
          17.4,
          14,
          16.2,
          14.79,
          16.2,
          17.4,
          17.4,
          14,
          15.3,
          16.2,
          16.2,
          15.3,
          16.63,
          16.2,
          15.3,
          15.3,
          16.2,
          16.2,
          15.3,
          15.3,
          15.3,
          15.3,
          15.3,
          15.3,
          16.2,
          16.2,
          16.2,
          15.3,
          15.3,
          15.3,
          16.2,
          16.2,
          16.2,
          16.63,
          15.3,
          15.3,
          15.3,
          15.3,
          16.63,
          16.2,
          15.3,
          16.2,
          15.3,
          15.3,
          16.2,
          16.63,
          15.3,
          15.3,
          15.3,
          15.3,
          15.3,
          15.3,
          16.63,
          16.63,
          16.63,
          16.63,
          16.63,
          16.63,
          16.63,
          16.63,
          16.63,
          16.63,
          16.63,
          16.63,
          16.63,
          16.63,
          16.63,
          16.63,
          16.63,
          16.63,
          16.63,
          16.63,
          16.63,
          16.63,
          16.63,
          16.63,
          16.63,
          16.63,
          16.63,
          14.79,
          16.63,
          16.63,
          16.63,
          16.63,
          16.63,
          16.63,
          14.79,
          16.63,
          16.63,
          16.63,
          16.63,
          16.63,
          16.63,
          14.79,
          16.63,
          16.63,
          16.63,
          16.63,
          16.63,
          16.63,
          16.63,
          16.63,
          14,
          14,
          14,
          14,
          14,
          14,
          14,
          14,
          14,
          14,
          14,
          14,
          14,
          14,
          14,
          14,
          14,
          14,
          16.63,
          14,
          14,
          15.75,
          16.63,
          14,
          14,
          14,
          15.75,
          14,
          14,
          15.75,
          14,
          15.75,
          15.75,
          15.75,
          15.75,
          14,
          14,
          16.63,
          14.48,
          14.58,
          14.58,
          15.75,
          14,
          14.2,
          14,
          14,
          14,
          14,
          14,
          14,
          14,
          14,
          14.58,
          14,
          14.58,
          14.48,
          14.58,
          14.48,
          14.2,
          14,
          15,
          14.2,
          16.34,
          16.34,
          14,
          14,
          14.2,
          14.2,
          14,
          16.34,
          16.34,
          16.34,
          14,
          14,
          14,
          14,
          14,
          14,
          14,
          14,
          14,
          15.75,
          14,
          14.2,
          14,
          14,
          14,
          14,
          14,
          14,
          14.2,
          15.2,
          15.2,
          15,
          14.58,
          14.58,
          14,
          14,
          14,
          14,
          14,
          14.58,
          14.2,
          14,
          14,
          14,
          14,
          14,
          14,
          14,
          14.58,
          14,
          14,
          14.58,
          15,
          16.34,
          14.2,
          14.58,
          14,
          15.75,
          14.2,
          14,
          14,
          14,
          14.58,
          15.75,
          16.34,
          15,
          14.48,
          14.58,
          14.58,
          14,
          14,
          15.75,
          16.34,
          14,
          14,
          14,
          14,
          14,
          14,
          14,
          16.34,
          14.58,
          14.2,
          14,
          14,
          14,
          14,
          15,
          15,
          16.34,
          14,
          14,
          14,
          14,
          14,
          14,
          14,
          14.2,
          14.58,
          14.58,
          14.48,
          14.58,
          14.58,
          15.75,
          15.75,
          16.34,
          14.2,
          16.34,
          16.34,
          16.34,
          16.34,
          16.34,
          15,
          14.2,
          16.34,
          16.34,
          16.34,
          16.34,
          14.48,
          14.58,
          14.48,
          14.48,
          14,
          16.34,
          16.34,
          16.34,
          16.34,
          16.34,
          16.34,
          16.34,
          16.34,
          14.2,
          16.34,
          16.34,
          16.34,
          16.34,
          16.34,
          16.34,
          16.34,
          14.2,
          14.58,
          14.2,
          16.34,
          14,
          14,
          16.34,
          14.48,
          14.2,
          16.34,
          16.34,
          16.34,
          14.2,
          16.34,
          14,
          14.48,
          14.2,
          16.34,
          16.34,
          16.34,
          14.2,
          14.2,
          16.34,
          16.34,
          16.34,
          16.34,
          16.34,
          16.34,
          14.2,
          16.34,
          16.34,
          16.34,
          16.34,
          16.34,
          16.34,
          16.34,
          16.34,
          14,
          14.2,
          16.34,
          16.34,
          14.2,
          14.2,
          14.2,
          14.2,
          14.2,
          14.2,
          16.34,
          15,
          15,
          15,
          15,
          15,
          15,
          16.34,
          16.34,
          14,
          16.34,
          14.48,
          14.2,
          16.34,
          14,
          14.48,
          16.34,
          14.48,
          14.58,
          14,
          14.48,
          14.58,
          16.34,
          14.2,
          14,
          16.34,
          15,
          16.34,
          16.34,
          14,
          16.34,
          16.34,
          16.34,
          14.2,
          14.58,
          14.58,
          14.48,
          14.58,
          15,
          15,
          14,
          14.2,
          16.34,
          14.2,
          14,
          14.58,
          16.34,
          16.34,
          16.34,
          16.34,
          14.2,
          16.34,
          14,
          14.2,
          16.34,
          14.58,
          14,
          16.34,
          14.2,
          16.34,
          16.34,
          16.34,
          16.34,
          14.2,
          16.34,
          16.34,
          14.2,
          15,
          16.34,
          14,
          14.2,
          14.48,
          14.58,
          14.58,
          14.48,
          14.58,
          14,
          14.2,
          16.2,
          14.2,
          14.2,
          14.2,
          14.2,
          14.2,
          14.2,
          14.2,
          14.2,
          14.2,
          14.2,
          14.2,
          14.2,
          14.2,
          14.2,
          14.2,
          14.2,
          14.2,
          14.2,
          14,
          14,
          17.53,
          17.53,
          17.53,
          17.53,
          17.53,
          17.53,
          17.53,
          17.53,
          17.8,
          17.8,
          17.8,
          17.53,
          17.53,
          17.53,
          17.53,
          17.53,
          17.53,
          17.8,
          17.53,
          17.53,
          17.53,
          17.53,
          17.8,
          17.8,
          17.8,
          17.8,
          17.8,
          17.8,
          17.8,
          17.8,
          17.8,
          17.8,
          17.8,
          17.8,
          17.8,
          17.8,
          17.8,
          17.8,
          17.8,
          17.8,
          17.8,
          17.8,
          17.8,
          17.8,
          17.8,
          17.8,
          17.8,
          17.8,
          17.8,
          17.8,
          17.53,
          17.8,
          17.8,
          17.8,
          17.8,
          17.8,
          17.8,
          17.8,
          17.53,
          17.8,
          17.8,
          17.8,
          17.53,
          17.8,
          17.53,
          17.8,
          17.53,
          17.53,
          17.53,
          17.8,
          17.8,
          17.53,
          17.53,
          17.53,
          17.53,
          17.53,
          17.53,
          17.53,
          17.53,
          17.53,
          17.53,
          17.53,
          17.53,
          17.8,
          17.8,
          17.53,
          17.8,
          17.53,
          17.53,
          17.53,
          17.53,
          17.8,
          17.8,
          17.8,
          17.53,
          17.8,
          17.53,
          17.8,
          17.53,
          17.53,
          17.8,
          17.53,
          17.8,
          17.53,
          17.8,
          17.53,
          17.8,
          17.8,
          17.53,
          17.53,
          17.8,
          17.8,
          17.8,
          17.53,
          17.8,
          17.8,
          17.8,
          17.8,
          17.53,
          17.53,
          17.53,
          17.53,
          17.8,
          17.8,
          17.53,
          17.53,
          17.53,
          17.8,
          17.53,
          17.53,
          17.8,
          17.53,
          17.8,
          17.8,
          17.8,
          17.53,
          17.53,
          17.53,
          17.53,
          17.53,
          17.53,
          17.8,
          17.53,
          17.53,
          17.53,
          17.53,
          17.53,
          17.53,
          17.53,
          17.8,
          17.53,
          17.53,
          17.53,
          17.53,
          17.8,
          17.53,
          17.8,
          17.53,
          17.53,
          17.53,
          17.8,
          17.8,
          17.8,
          17.8,
          17.53,
          17.8,
          17.53,
          17.53,
          17.53,
          17.53,
          17.53,
          17.53,
          17.53,
          17.8,
          16.88,
          17.53,
          17.8,
          17.8,
          17.53,
          17.53,
          17.53,
          17.53,
          17.53,
          17.8,
          17.53,
          17.53,
          17.53,
          17.53,
          17.53,
          17.53,
          17.53,
          17.53,
          17.53,
          17.53,
          17.53,
          17.53,
          16.88,
          16.88,
          17.53,
          17.53,
          17.8,
          17.8,
          17.53,
          17.8,
          17.8,
          17.8,
          17.8,
          17.8,
          17.8,
          17.8,
          17.8,
          17.8,
          17.8,
          17.8,
          17.8,
          17.8,
          17.53,
          17.8,
          17.8,
          17.8,
          17.8,
          17.8,
          17.8,
          17.53,
          17.8,
          17.53,
          17.53,
          17.53,
          17.53,
          17.8,
          16.88,
          17.8,
          17.53,
          17.8,
          17.53,
          17.53,
          17.8,
          17.8,
          17.53,
          17.8,
          17.8,
          17.8,
          17.8,
          17.8,
          17.8,
          17.8,
          17.53,
          17.8,
          17.8,
          16.2,
          15.5,
          15.5,
          16.88,
          15.3,
          15.3,
          14.4,
          16.88,
          16.88,
          17.53,
          16.88,
          16.88,
          15.5,
          15.5,
          15.5,
          17.53,
          16,
          16.2,
          16.88,
          16.88,
          17.53,
          16,
          17.82,
          16,
          16.88,
          17.82,
          17.53,
          15.3,
          14.4,
          14.4,
          17.8,
          16.88,
          17.82,
          15.5,
          15.5,
          15.5,
          16.88,
          16.2,
          16.88,
          16.88,
          16,
          15.5,
          17.53,
          16.88,
          17.53,
          17.8,
          17.82,
          16,
          16,
          16.88,
          17.8,
          17.53,
          17.82,
          17.82,
          17.82,
          14,
          17.53,
          17.53,
          14,
          14,
          17.82,
          16.88,
          14,
          16.2,
          14,
          17.82,
          17.82,
          16.2,
          14,
          17.53,
          16.2,
          16.2,
          17.82,
          17.82,
          17.82,
          16.2,
          14,
          16.2,
          14,
          14,
          17.82,
          16.2,
          16.88,
          16.2,
          16.2,
          16.88,
          16.88,
          16.88,
          16.88,
          16,
          16.2,
          16.88,
          16.88,
          16,
          16,
          16,
          16,
          16,
          16.2,
          16.2,
          16.88,
          16,
          16.63,
          16.2,
          16.88,
          16.88,
          16.2,
          16.2,
          16.88,
          16.63,
          16.2,
          16.88,
          16.88,
          16.88,
          16.2,
          16.63,
          16.88,
          16.63,
          16.2,
          16.2,
          16.63,
          16.88,
          16,
          16.63,
          16,
          16.63,
          16.63,
          16.2,
          16.2,
          16.2,
          16.88,
          16.63,
          16.2,
          15.3,
          16.88,
          16.2,
          16.2,
          16.63,
          16.63,
          16.88,
          16.2,
          16.63,
          16.88,
          16.88,
          16.88,
          16.88,
          16.88,
          16.63,
          16.2,
          16.88,
          16.88,
          14.65,
          16.2,
          16.63,
          16.2,
          16.2,
          16.88,
          16.2,
          15.3,
          15.3,
          16.2,
          16.2,
          15.75,
          16.63,
          15.3,
          16.88,
          16.88,
          15.3,
          16.2,
          16.63,
          16.2,
          16.2,
          16.88,
          16.88,
          16.88,
          16.88,
          15.3,
          16.2,
          16.63,
          16.88,
          16.88,
          16.2,
          16.88,
          16.2,
          16.2,
          16.88,
          16.2,
          15.75,
          15.75,
          16.88,
          16.88,
          16.88,
          15.75,
          14.79,
          14.79,
          16.88,
          16.88,
          16.88,
          16.88,
          16.88,
          16.88,
          16.88,
          15.75,
          15.75,
          16.88,
          15.75,
          16,
          16.88,
          15.75,
          15.75,
          15.75,
          15.75,
          15.75,
          15.75,
          15.75,
          16,
          15.75,
          15.75,
          14.79,
          14.79,
          16.88,
          16.88,
          16.88,
          16.88,
          16,
          15.3,
          15.3,
          16,
          16.88,
          16.88,
          16.88,
          16.88,
          16,
          15.75,
          15.75,
          15.75,
          16.88,
          16.88,
          16.88,
          15.75,
          15.75,
          15.75,
          16,
          15.75,
          16.88,
          15.75,
          16.88,
          14.79,
          16,
          15.75,
          16.88,
          15.3,
          15.75,
          15.3,
          15.3,
          15.3,
          15.3,
          15.75,
          15.75,
          15.75,
          16.88,
          16,
          15.75,
          15.75,
          16.5,
          16,
          16.5,
          16.5,
          15.75,
          15.75,
          16.5,
          16.5,
          16.88,
          15.75,
          15.75,
          15.75,
          16.88,
          16.88,
          16.88,
          15.75,
          16.5,
          16,
          16,
          15.75,
          15.75,
          15.75,
          16,
          15.75,
          15.75,
          15.75,
          15.75,
          15.75,
          15.75,
          15.75,
          15.75,
          16.5,
          16.5,
          16.5,
          15.75,
          15.75,
          15.75,
          16,
          15.75,
          15.75,
          15.75,
          16,
          16.5,
          16.88,
          16,
          14.4,
          16.88,
          15.75,
          16,
          16.88,
          16.5,
          16,
          15.75,
          15.75,
          16,
          16,
          16,
          15.75,
          16.88,
          16.5,
          16.88,
          16.88,
          16,
          16,
          16,
          16,
          15.75,
          15.75,
          14,
          18,
          14,
          15.75,
          14,
          14,
          16.5,
          17.4,
          16.88,
          18,
          16,
          15.75,
          17.4,
          16,
          17.4,
          16.5,
          14,
          14,
          14.79,
          16.88,
          16,
          14.79,
          14.79,
          17.4,
          16.88,
          16.88,
          15.75,
          14.4,
          15.75,
          14.79,
          18,
          17,
          18,
          16,
          14.4,
          14.4,
          18,
          16,
          16,
          14,
          14,
          16.88,
          16,
          14,
          17.4,
          14,
          15.75,
          16.5,
          16,
          16,
          14,
          14,
          17.4,
          18,
          17.4,
          18,
          16,
          15.75,
          14.79,
          14,
          14,
          16,
          14,
          16,
          16.88,
          14.79,
          15.75,
          14,
          15.75,
          15.75,
          14,
          16,
          14,
          18,
          14,
          14,
          18,
          16,
          14,
          15.75,
          15.75,
          14.79,
          14,
          16.88,
          14.79,
          15.75,
          18,
          17.4,
          14,
          14.4,
          15.75,
          14,
          17.4,
          15.75,
          17.4,
          18,
          16,
          16.88,
          14.79,
          16,
          16.88,
          17,
          17.4,
          17.4,
          18,
          14,
          16,
          14,
          18,
          17.4,
          14,
          14.65,
          14,
          14,
          16,
          16.88,
          14.79,
          14,
          16,
          14,
          14.79,
          16.88,
          18,
          16,
          16,
          16,
          14.79,
          14.4,
          14,
          14,
          14,
          16,
          14,
          16,
          16,
          16,
          16,
          16.88,
          16.88,
          16.5,
          16.5,
          14.79,
          14,
          17,
          14,
          17.4,
          16.88,
          16,
          17.4,
          17.4,
          16.88,
          15.75,
          15.75,
          16,
          16,
          16,
          14,
          14.79,
          16.5,
          14,
          14,
          16,
          14,
          16,
          14,
          18,
          17.4,
          17.4,
          17,
          18,
          18,
          15.75,
          15.75,
          16.88,
          16.88,
          16.88,
          18,
          14.4,
          14.4,
          16.88,
          16.88,
          16.88,
          18,
          15.75,
          17.4,
          16,
          14,
          15.75,
          14,
          18,
          17.4,
          18,
          15.75,
          16.88,
          17.4,
          18,
          18,
          16.88,
          16.88,
          18,
          16.88,
          18,
          18,
          18,
          14,
          16,
          14,
          14,
          14,
          16.2,
          16.88,
          14,
          17.4,
          18,
          14,
          14,
          14,
          16.88,
          16.88,
          16.88,
          15.75,
          14,
          17.4,
          16,
          17.4,
          14.4,
          14,
          17.4,
          16,
          17.4,
          14,
          14,
          18,
          17.4,
          18,
          17.4,
          14,
          14,
          14,
          14,
          16,
          16,
          17.4,
          14,
          18,
          18,
          17.4,
          18,
          18,
          17.4,
          14,
          17.4,
          14,
          14,
          17.4,
          17.4,
          18,
          18,
          14,
          16,
          17.4,
          18,
          16,
          18,
          16,
          16,
          15.75,
          14,
          14,
          14,
          14,
          14
         ]
        },
        {
         "name": "koin_bisnis",
         "type": "box",
         "x": [
          24.7,
          24.86,
          24.7,
          24.7,
          24.86,
          24.86,
          24.86,
          24.7,
          24.86,
          24.86,
          24.86,
          24.7,
          24.7,
          24.86,
          24.86,
          24.86,
          24.86,
          24.7,
          24.86,
          26.1343,
          28.9735,
          24.13,
          24.7,
          24.7,
          24.7,
          24.86,
          28.9735,
          24.7,
          24.86,
          24.86,
          24.86,
          24.7,
          24.7,
          24.86,
          26.1343,
          29.8369,
          25.9237,
          29.8369,
          29.8369,
          29.8369,
          29.8369,
          24.86,
          29.8369,
          25.9237,
          24.86,
          25.9237,
          25.9237,
          29.8369,
          8.7469,
          8.7469,
          25.9237,
          8.7469,
          8.7469,
          25.9237,
          8.7469,
          25.9237,
          8.7469,
          25.9237,
          28.9582,
          25.9237,
          25.4786,
          25.9237,
          8.7469,
          8.7469,
          28.9582,
          8.7469,
          28.9735,
          8.7469,
          28.9582,
          8.7469,
          28.9735,
          28.9735,
          34.501,
          25.9237,
          60.167,
          28.9582,
          28.9582,
          8.7469,
          24.4052,
          25.9237,
          28.9735,
          14.1726,
          20.4998,
          20.4998,
          20.4998,
          20.4998,
          20.4998,
          20.4998,
          20.4998,
          20.4998,
          20.4998,
          20.4998,
          20.4998,
          20.4998,
          20.4998,
          20.4998,
          20.4998,
          20.4998,
          20.4998,
          20.4998,
          20.4998,
          20.4998,
          20.4998,
          20.4998,
          20.4998,
          20.4998,
          20.4998,
          20.4998,
          20.4998,
          20.4998,
          20.4998,
          20.4998,
          20.4998,
          20.4998,
          20.4998,
          20.4998,
          20.4998,
          20.4998,
          20.4998,
          20.4998,
          20.4998,
          20.4998,
          20.4998,
          20.4998,
          20.4998,
          20.4998,
          20.4998,
          20.4998,
          20.4998,
          20.4998,
          20.4998,
          20.4998,
          20.4998,
          20.4998,
          20.4998,
          20.4998,
          20.4998,
          20.4998,
          20.4998,
          20.4998,
          20.4998,
          20.4998,
          20.4998,
          20.4998,
          20.4998,
          20.4998,
          28.9735,
          20.4998,
          34.501,
          28.9735,
          20.4998,
          34.501,
          20.4998,
          20.4998,
          34.501,
          28.9735,
          28.9735,
          20.4998,
          34.501,
          28.9735,
          34.501,
          20.4998,
          28.9735,
          20.4998,
          20.4998,
          28.9735,
          28.9735,
          20.4998,
          34.501,
          20.4998,
          20.4998,
          34.501,
          28.9735,
          28.9735,
          20.4998,
          28.9735,
          34.501,
          28.9735,
          20.4998,
          20.4998,
          20.4998,
          20.4998,
          34.501,
          28.9735,
          20.4998,
          14.1726,
          14.1726,
          14.1726,
          20.4998,
          20.4998,
          20.4998,
          20.4998,
          20.4998,
          14.1726,
          20.4998,
          20.4998,
          14.1726,
          20.4998,
          28.9735,
          34.501,
          28.9735,
          20.4998,
          34.501,
          28.9735,
          20.4998,
          20.4998,
          20.4998,
          34.501,
          20.4998,
          20.4998,
          34.501,
          28.9735,
          20.4998,
          28.9735,
          20.4998,
          20.4998,
          34.501,
          34.501,
          34.501,
          20.4998,
          34.501,
          34.501,
          28.9735,
          34.501,
          20.4998,
          20.4998,
          22.5167,
          20.4998,
          14.1726,
          20.4998,
          14.1726,
          34.501,
          34.501,
          28.9735,
          28.9735,
          14.1726,
          34.501,
          19.1789,
          22.5167,
          20.4998,
          34.501,
          16.7014,
          34.501,
          34.501,
          34.501,
          34.501,
          16.7014,
          73.0556,
          22.5167,
          73.0556,
          34.501,
          34.501,
          16.7014,
          73.0556,
          28.9735,
          14.1726,
          14.1726,
          14.1726,
          14.1726,
          14.1726,
          20.4998,
          39.153,
          34.501,
          14.1726,
          34.501,
          39.153,
          28.9735,
          39.153,
          16.7014,
          19.1789,
          16.7014,
          39.153,
          73.0556,
          19.1789,
          16.7014,
          39.153,
          16.7014,
          19.0401,
          16.2503,
          14.1726,
          19.0401,
          60.167,
          28.9735,
          27.2548,
          46.9358,
          34.501,
          14.1726,
          14.1726,
          34.501,
          14.1726,
          19.0401,
          14.1726,
          14.1726,
          14.1726,
          19.0401,
          19.0401,
          14.1726,
          14.1726,
          34.501,
          73.0556,
          22.5167,
          16.7014,
          34.501,
          34.501,
          17.1026,
          34.501,
          22.9826,
          28.9735,
          28.9735,
          28.9735,
          28.9735,
          14.1726,
          14.1726,
          14.1726,
          14.1726
         ]
        },
        {
         "name": "koin_pintar",
         "type": "box",
         "x": [
          23.19,
          23.19,
          23.19,
          23.19,
          23.19,
          23.19,
          23.19,
          23.19,
          23.19,
          23.19,
          23.19,
          23.19,
          23.19,
          23.19,
          23.19,
          23.19,
          23.19,
          23.19,
          23.19,
          23.19,
          23.19,
          23.19,
          23.19,
          23.19,
          23.19,
          23.19,
          23.19,
          23.19,
          23.19,
          23.19,
          23.19,
          21.81,
          21.81,
          21.81,
          23.19,
          23.19,
          21.81
         ]
        },
        {
         "name": "koin_robo",
         "type": "box",
         "x": [
          13,
          5,
          6,
          12,
          13,
          13,
          13,
          5,
          6,
          8,
          13,
          13,
          13,
          13,
          10.5,
          13,
          8,
          4,
          14,
          5,
          5,
          5,
          13,
          11,
          5,
          5,
          6,
          11,
          8,
          4,
          6,
          6,
          5,
          4,
          13,
          5,
          6,
          8,
          13,
          5,
          9,
          5,
          13,
          14,
          8,
          13,
          5,
          6,
          8,
          10,
          13,
          13,
          13,
          5,
          8,
          13,
          13,
          11,
          5,
          6,
          8,
          13,
          11,
          13,
          5,
          5,
          5,
          5,
          13,
          6,
          13,
          13,
          8,
          5,
          13,
          5,
          5,
          6,
          11,
          8,
          5,
          4,
          4,
          5,
          12,
          4,
          6,
          5,
          4,
          5,
          8,
          5,
          6,
          8,
          5,
          13,
          13,
          5,
          5,
          6,
          5,
          13,
          5,
          6,
          8,
          11,
          13,
          13,
          13,
          5,
          8,
          5,
          8,
          6,
          13,
          13,
          13,
          5,
          13,
          8,
          5,
          6,
          13,
          12,
          13,
          6,
          5,
          5,
          5,
          13,
          5,
          13,
          13,
          13,
          5,
          8,
          13,
          6,
          11,
          13,
          13,
          5,
          10,
          13,
          13,
          5,
          8,
          6,
          11,
          10.5,
          4,
          5,
          5,
          13,
          4,
          5,
          5,
          10,
          14,
          5,
          5,
          13,
          13,
          13,
          12.5,
          13,
          5,
          6,
          5,
          10.5,
          13,
          13,
          5,
          13,
          5,
          14,
          5,
          5,
          6,
          8,
          7,
          13,
          13,
          8,
          6,
          8,
          5,
          13,
          5,
          6,
          8,
          5,
          10.5,
          6,
          8,
          13,
          13,
          13,
          13,
          5,
          13,
          5,
          6,
          8,
          11,
          13,
          13,
          5,
          12.5,
          13,
          4,
          6,
          5,
          8,
          11,
          7,
          13,
          13,
          13,
          13,
          13,
          13,
          5,
          6,
          8,
          11,
          13,
          13,
          13,
          4,
          5,
          13,
          10,
          5,
          6,
          13,
          5,
          7,
          11,
          14,
          13,
          13,
          5,
          13,
          13,
          13,
          5,
          5,
          5,
          13,
          13,
          13,
          7,
          13,
          8,
          5,
          13,
          7,
          13,
          14,
          13,
          8,
          5,
          6,
          13,
          8,
          11,
          5,
          5,
          8,
          13,
          10.5,
          5,
          13
         ]
        }
       ],
       "layout": {
        "template": {
         "data": {
          "bar": [
           {
            "error_x": {
             "color": "#2a3f5f"
            },
            "error_y": {
             "color": "#2a3f5f"
            },
            "marker": {
             "line": {
              "color": "#E5ECF6",
              "width": 0.5
             },
             "pattern": {
              "fillmode": "overlay",
              "size": 10,
              "solidity": 0.2
             }
            },
            "type": "bar"
           }
          ],
          "barpolar": [
           {
            "marker": {
             "line": {
              "color": "#E5ECF6",
              "width": 0.5
             },
             "pattern": {
              "fillmode": "overlay",
              "size": 10,
              "solidity": 0.2
             }
            },
            "type": "barpolar"
           }
          ],
          "carpet": [
           {
            "aaxis": {
             "endlinecolor": "#2a3f5f",
             "gridcolor": "white",
             "linecolor": "white",
             "minorgridcolor": "white",
             "startlinecolor": "#2a3f5f"
            },
            "baxis": {
             "endlinecolor": "#2a3f5f",
             "gridcolor": "white",
             "linecolor": "white",
             "minorgridcolor": "white",
             "startlinecolor": "#2a3f5f"
            },
            "type": "carpet"
           }
          ],
          "choropleth": [
           {
            "colorbar": {
             "outlinewidth": 0,
             "ticks": ""
            },
            "type": "choropleth"
           }
          ],
          "contour": [
           {
            "colorbar": {
             "outlinewidth": 0,
             "ticks": ""
            },
            "colorscale": [
             [
              0,
              "#0d0887"
             ],
             [
              0.1111111111111111,
              "#46039f"
             ],
             [
              0.2222222222222222,
              "#7201a8"
             ],
             [
              0.3333333333333333,
              "#9c179e"
             ],
             [
              0.4444444444444444,
              "#bd3786"
             ],
             [
              0.5555555555555556,
              "#d8576b"
             ],
             [
              0.6666666666666666,
              "#ed7953"
             ],
             [
              0.7777777777777778,
              "#fb9f3a"
             ],
             [
              0.8888888888888888,
              "#fdca26"
             ],
             [
              1,
              "#f0f921"
             ]
            ],
            "type": "contour"
           }
          ],
          "contourcarpet": [
           {
            "colorbar": {
             "outlinewidth": 0,
             "ticks": ""
            },
            "type": "contourcarpet"
           }
          ],
          "heatmap": [
           {
            "colorbar": {
             "outlinewidth": 0,
             "ticks": ""
            },
            "colorscale": [
             [
              0,
              "#0d0887"
             ],
             [
              0.1111111111111111,
              "#46039f"
             ],
             [
              0.2222222222222222,
              "#7201a8"
             ],
             [
              0.3333333333333333,
              "#9c179e"
             ],
             [
              0.4444444444444444,
              "#bd3786"
             ],
             [
              0.5555555555555556,
              "#d8576b"
             ],
             [
              0.6666666666666666,
              "#ed7953"
             ],
             [
              0.7777777777777778,
              "#fb9f3a"
             ],
             [
              0.8888888888888888,
              "#fdca26"
             ],
             [
              1,
              "#f0f921"
             ]
            ],
            "type": "heatmap"
           }
          ],
          "heatmapgl": [
           {
            "colorbar": {
             "outlinewidth": 0,
             "ticks": ""
            },
            "colorscale": [
             [
              0,
              "#0d0887"
             ],
             [
              0.1111111111111111,
              "#46039f"
             ],
             [
              0.2222222222222222,
              "#7201a8"
             ],
             [
              0.3333333333333333,
              "#9c179e"
             ],
             [
              0.4444444444444444,
              "#bd3786"
             ],
             [
              0.5555555555555556,
              "#d8576b"
             ],
             [
              0.6666666666666666,
              "#ed7953"
             ],
             [
              0.7777777777777778,
              "#fb9f3a"
             ],
             [
              0.8888888888888888,
              "#fdca26"
             ],
             [
              1,
              "#f0f921"
             ]
            ],
            "type": "heatmapgl"
           }
          ],
          "histogram": [
           {
            "marker": {
             "pattern": {
              "fillmode": "overlay",
              "size": 10,
              "solidity": 0.2
             }
            },
            "type": "histogram"
           }
          ],
          "histogram2d": [
           {
            "colorbar": {
             "outlinewidth": 0,
             "ticks": ""
            },
            "colorscale": [
             [
              0,
              "#0d0887"
             ],
             [
              0.1111111111111111,
              "#46039f"
             ],
             [
              0.2222222222222222,
              "#7201a8"
             ],
             [
              0.3333333333333333,
              "#9c179e"
             ],
             [
              0.4444444444444444,
              "#bd3786"
             ],
             [
              0.5555555555555556,
              "#d8576b"
             ],
             [
              0.6666666666666666,
              "#ed7953"
             ],
             [
              0.7777777777777778,
              "#fb9f3a"
             ],
             [
              0.8888888888888888,
              "#fdca26"
             ],
             [
              1,
              "#f0f921"
             ]
            ],
            "type": "histogram2d"
           }
          ],
          "histogram2dcontour": [
           {
            "colorbar": {
             "outlinewidth": 0,
             "ticks": ""
            },
            "colorscale": [
             [
              0,
              "#0d0887"
             ],
             [
              0.1111111111111111,
              "#46039f"
             ],
             [
              0.2222222222222222,
              "#7201a8"
             ],
             [
              0.3333333333333333,
              "#9c179e"
             ],
             [
              0.4444444444444444,
              "#bd3786"
             ],
             [
              0.5555555555555556,
              "#d8576b"
             ],
             [
              0.6666666666666666,
              "#ed7953"
             ],
             [
              0.7777777777777778,
              "#fb9f3a"
             ],
             [
              0.8888888888888888,
              "#fdca26"
             ],
             [
              1,
              "#f0f921"
             ]
            ],
            "type": "histogram2dcontour"
           }
          ],
          "mesh3d": [
           {
            "colorbar": {
             "outlinewidth": 0,
             "ticks": ""
            },
            "type": "mesh3d"
           }
          ],
          "parcoords": [
           {
            "line": {
             "colorbar": {
              "outlinewidth": 0,
              "ticks": ""
             }
            },
            "type": "parcoords"
           }
          ],
          "pie": [
           {
            "automargin": true,
            "type": "pie"
           }
          ],
          "scatter": [
           {
            "marker": {
             "colorbar": {
              "outlinewidth": 0,
              "ticks": ""
             }
            },
            "type": "scatter"
           }
          ],
          "scatter3d": [
           {
            "line": {
             "colorbar": {
              "outlinewidth": 0,
              "ticks": ""
             }
            },
            "marker": {
             "colorbar": {
              "outlinewidth": 0,
              "ticks": ""
             }
            },
            "type": "scatter3d"
           }
          ],
          "scattercarpet": [
           {
            "marker": {
             "colorbar": {
              "outlinewidth": 0,
              "ticks": ""
             }
            },
            "type": "scattercarpet"
           }
          ],
          "scattergeo": [
           {
            "marker": {
             "colorbar": {
              "outlinewidth": 0,
              "ticks": ""
             }
            },
            "type": "scattergeo"
           }
          ],
          "scattergl": [
           {
            "marker": {
             "colorbar": {
              "outlinewidth": 0,
              "ticks": ""
             }
            },
            "type": "scattergl"
           }
          ],
          "scattermapbox": [
           {
            "marker": {
             "colorbar": {
              "outlinewidth": 0,
              "ticks": ""
             }
            },
            "type": "scattermapbox"
           }
          ],
          "scatterpolar": [
           {
            "marker": {
             "colorbar": {
              "outlinewidth": 0,
              "ticks": ""
             }
            },
            "type": "scatterpolar"
           }
          ],
          "scatterpolargl": [
           {
            "marker": {
             "colorbar": {
              "outlinewidth": 0,
              "ticks": ""
             }
            },
            "type": "scatterpolargl"
           }
          ],
          "scatterternary": [
           {
            "marker": {
             "colorbar": {
              "outlinewidth": 0,
              "ticks": ""
             }
            },
            "type": "scatterternary"
           }
          ],
          "surface": [
           {
            "colorbar": {
             "outlinewidth": 0,
             "ticks": ""
            },
            "colorscale": [
             [
              0,
              "#0d0887"
             ],
             [
              0.1111111111111111,
              "#46039f"
             ],
             [
              0.2222222222222222,
              "#7201a8"
             ],
             [
              0.3333333333333333,
              "#9c179e"
             ],
             [
              0.4444444444444444,
              "#bd3786"
             ],
             [
              0.5555555555555556,
              "#d8576b"
             ],
             [
              0.6666666666666666,
              "#ed7953"
             ],
             [
              0.7777777777777778,
              "#fb9f3a"
             ],
             [
              0.8888888888888888,
              "#fdca26"
             ],
             [
              1,
              "#f0f921"
             ]
            ],
            "type": "surface"
           }
          ],
          "table": [
           {
            "cells": {
             "fill": {
              "color": "#EBF0F8"
             },
             "line": {
              "color": "white"
             }
            },
            "header": {
             "fill": {
              "color": "#C8D4E3"
             },
             "line": {
              "color": "white"
             }
            },
            "type": "table"
           }
          ]
         },
         "layout": {
          "annotationdefaults": {
           "arrowcolor": "#2a3f5f",
           "arrowhead": 0,
           "arrowwidth": 1
          },
          "autotypenumbers": "strict",
          "coloraxis": {
           "colorbar": {
            "outlinewidth": 0,
            "ticks": ""
           }
          },
          "colorscale": {
           "diverging": [
            [
             0,
             "#8e0152"
            ],
            [
             0.1,
             "#c51b7d"
            ],
            [
             0.2,
             "#de77ae"
            ],
            [
             0.3,
             "#f1b6da"
            ],
            [
             0.4,
             "#fde0ef"
            ],
            [
             0.5,
             "#f7f7f7"
            ],
            [
             0.6,
             "#e6f5d0"
            ],
            [
             0.7,
             "#b8e186"
            ],
            [
             0.8,
             "#7fbc41"
            ],
            [
             0.9,
             "#4d9221"
            ],
            [
             1,
             "#276419"
            ]
           ],
           "sequential": [
            [
             0,
             "#0d0887"
            ],
            [
             0.1111111111111111,
             "#46039f"
            ],
            [
             0.2222222222222222,
             "#7201a8"
            ],
            [
             0.3333333333333333,
             "#9c179e"
            ],
            [
             0.4444444444444444,
             "#bd3786"
            ],
            [
             0.5555555555555556,
             "#d8576b"
            ],
            [
             0.6666666666666666,
             "#ed7953"
            ],
            [
             0.7777777777777778,
             "#fb9f3a"
            ],
            [
             0.8888888888888888,
             "#fdca26"
            ],
            [
             1,
             "#f0f921"
            ]
           ],
           "sequentialminus": [
            [
             0,
             "#0d0887"
            ],
            [
             0.1111111111111111,
             "#46039f"
            ],
            [
             0.2222222222222222,
             "#7201a8"
            ],
            [
             0.3333333333333333,
             "#9c179e"
            ],
            [
             0.4444444444444444,
             "#bd3786"
            ],
            [
             0.5555555555555556,
             "#d8576b"
            ],
            [
             0.6666666666666666,
             "#ed7953"
            ],
            [
             0.7777777777777778,
             "#fb9f3a"
            ],
            [
             0.8888888888888888,
             "#fdca26"
            ],
            [
             1,
             "#f0f921"
            ]
           ]
          },
          "colorway": [
           "#636efa",
           "#EF553B",
           "#00cc96",
           "#ab63fa",
           "#FFA15A",
           "#19d3f3",
           "#FF6692",
           "#B6E880",
           "#FF97FF",
           "#FECB52"
          ],
          "font": {
           "color": "#2a3f5f"
          },
          "geo": {
           "bgcolor": "white",
           "lakecolor": "white",
           "landcolor": "#E5ECF6",
           "showlakes": true,
           "showland": true,
           "subunitcolor": "white"
          },
          "hoverlabel": {
           "align": "left"
          },
          "hovermode": "closest",
          "mapbox": {
           "style": "light"
          },
          "paper_bgcolor": "white",
          "plot_bgcolor": "#E5ECF6",
          "polar": {
           "angularaxis": {
            "gridcolor": "white",
            "linecolor": "white",
            "ticks": ""
           },
           "bgcolor": "#E5ECF6",
           "radialaxis": {
            "gridcolor": "white",
            "linecolor": "white",
            "ticks": ""
           }
          },
          "scene": {
           "xaxis": {
            "backgroundcolor": "#E5ECF6",
            "gridcolor": "white",
            "gridwidth": 2,
            "linecolor": "white",
            "showbackground": true,
            "ticks": "",
            "zerolinecolor": "white"
           },
           "yaxis": {
            "backgroundcolor": "#E5ECF6",
            "gridcolor": "white",
            "gridwidth": 2,
            "linecolor": "white",
            "showbackground": true,
            "ticks": "",
            "zerolinecolor": "white"
           },
           "zaxis": {
            "backgroundcolor": "#E5ECF6",
            "gridcolor": "white",
            "gridwidth": 2,
            "linecolor": "white",
            "showbackground": true,
            "ticks": "",
            "zerolinecolor": "white"
           }
          },
          "shapedefaults": {
           "line": {
            "color": "#2a3f5f"
           }
          },
          "ternary": {
           "aaxis": {
            "gridcolor": "white",
            "linecolor": "white",
            "ticks": ""
           },
           "baxis": {
            "gridcolor": "white",
            "linecolor": "white",
            "ticks": ""
           },
           "bgcolor": "#E5ECF6",
           "caxis": {
            "gridcolor": "white",
            "linecolor": "white",
            "ticks": ""
           }
          },
          "title": {
           "x": 0.05
          },
          "xaxis": {
           "automargin": true,
           "gridcolor": "white",
           "linecolor": "white",
           "ticks": "",
           "title": {
            "standoff": 15
           },
           "zerolinecolor": "white",
           "zerolinewidth": 2
          },
          "yaxis": {
           "automargin": true,
           "gridcolor": "white",
           "linecolor": "white",
           "ticks": "",
           "title": {
            "standoff": 15
           },
           "zerolinecolor": "white",
           "zerolinewidth": 2
          }
         }
        }
       }
      },
      "text/html": [
       "<div>                            <div id=\"05d7f8e8-7e66-4b54-9611-435448c84d8a\" class=\"plotly-graph-div\" style=\"height:525px; width:100%;\"></div>            <script type=\"text/javascript\">                require([\"plotly\"], function(Plotly) {                    window.PLOTLYENV=window.PLOTLYENV || {};                                    if (document.getElementById(\"05d7f8e8-7e66-4b54-9611-435448c84d8a\")) {                    Plotly.newPlot(                        \"05d7f8e8-7e66-4b54-9611-435448c84d8a\",                        [{\"name\":\"koin_invoice\",\"type\":\"box\",\"x\":[14.4,14.0,14.0,14.4,16.6,14.4,14.4,14.4,17.2,14.4,14.4,17.2,17.8,14.4,14.4,14.4,17.8,16.6,14.4,16.6,16.6,15.6,15.6,14.4,14.4,16.6,16.6,17.2,17.2,15.3,18.0,14.0,17.8,14.0,17.8,18.0,14.0,16.6,16.0,16.0,14.0,14.4,16.6,17.8,18.0,16.0,14.0,15.3,16.6,14.0,14.0,14.4,14.0,17.2,14.0,14.0,17.8,16.6,16.0,16.0,14.4,14.4,14.4,14.4,14.4,14.0,17.8,21.0,14.4,14.4,14.4,14.4,14.4,14.0,17.2,18.0,14.4,14.4,14.4,17.2,14.4,21.0,14.4,18.0,14.0,15.3,14.4,17.2,15.6,16.6,17.2,14.0,14.0,18.0,17.2,17.8,16.6,16.6,18.0,14.4,14.4,14.4,14.4,14.4,18.0,14.4,15.6,15.6,14.4,14.4,14.4,17.2,18.0,14.0,14.4,17.2,17.8,17.8,16.6,16.6,14.4,14.4,14.4,14.4,17.82,18.0,14.4,14.4,15.3,17.2,17.8,14.4,15.3,14.4,14.4,14.4,21.0,14.4,15.6,14.4,18.0,14.0,14.4,14.4,14.4,14.4,14.4,17.2,15.3,17.2,16.6,14.4,14.4,15.6,15.3,21.0,21.0,21.0,17.2,16.6,16.6,17.2,15.6,15.0,17.82,17.82,21.0,15.3,18.0,14.0,18.0,14.4,14.4,14.4,14.4,14.4,14.4,14.4,14.4,14.4,14.4,14.4,21.0,18.0,14.4,14.4,14.4,14.4,14.4,17.2,14.4,14.4,14.4,14.4,14.4,15.3,14.4,18.0,18.0,18.0,18.0,18.0,14.0,16.0,18.0,19.71,14.0,19.71,14.0,14.0,14.0,18.0,19.71,19.71,14.0,19.71,19.71,18.0,18.0,14.0,16.2,19.0,14.2,14.2,14.2,14.2,14.2,14.2,14.2,15.5,17.0,17.0,14.2,15.5,15.5,19.0,17.0,15.44,15.44,17.4,17.4,19.0,16.2,14.0,17.4,15.44,17.4,14.2,14.0,14.0,16.2,14.2,14.2,14.79,14.0,17.0,14.2,14.2,14.2,14.2,19.0,14.0,14.0,14.79,14.0,18.0,19.0,17.0,17.0,15.5,17.0,15.5,15.5,17.4,14.0,17.4,17.4,17.4,14.2,14.2,14.2,14.2,14.2,14.2,14.2,14.2,14.2,14.2,14.2,14.2,14.2,14.2,14.2,14.2,14.2,14.2,14.2,14.2,14.2,14.2,14.2,14.2,14.2,14.2,14.2,14.2,14.2,15.44,15.5,14.0,18.0,15.44,14.79,18.0,16.2,19.0,14.0,14.0,14.0,14.2,16.2,14.2,14.2,14.2,14.2,14.2,16.63,17.0,17.0,17.0,19.0,15.5,18.0,18.0,17.0,14.0,15.44,14.0,18.0,14.0,18.0,19.0,18.0,15.5,17.0,17.0,17.0,15.44,18.0,14.0,14.0,17.4,17.4,15.5,17.4,17.0,17.4,15.5,15.5,17.4,15.44,17.4,17.0,17.4,15.44,17.4,15.5,15.5,17.4,18.0,17.0,17.4,17.4,17.4,15.44,17.4,15.5,14.0,17.4,17.4,16.63,17.0,17.4,14.0,15.5,17.4,15.5,17.4,18.0,18.0,17.4,17.4,18.0,15.44,17.4,18.0,18.0,18.0,14.0,17.4,14.0,14.0,17.4,15.5,17.0,17.0,17.4,17.4,17.4,14.0,14.0,14.0,17.4,14.0,17.4,18.0,15.44,17.0,17.4,17.0,17.0,17.4,14.0,15.44,17.4,17.4,17.4,17.4,17.4,17.4,17.4,15.5,17.0,17.0,17.4,18.0,17.0,16.2,16.2,17.4,14.0,17.0,17.4,17.0,17.4,14.0,15.3,17.4,16.2,16.2,17.4,17.4,15.3,16.2,15.3,16.2,16.2,16.2,16.2,17.0,17.0,17.4,17.4,16.2,17.4,14.0,16.2,14.79,14.0,17.4,14.0,14.0,17.4,14.0,17.4,17.4,17.4,17.4,17.4,16.2,14.79,17.4,14.79,14.79,16.2,14.79,17.4,14.0,17.4,14.0,14.0,14.79,16.2,16.2,17.4,16.2,16.2,16.2,15.3,16.2,16.2,16.2,17.0,17.0,17.4,16.2,17.0,14.79,16.2,17.4,17.4,17.4,14.0,17.4,17.4,16.2,16.2,14.79,14.79,17.4,14.0,16.2,14.79,16.2,17.4,17.4,14.0,15.3,16.2,16.2,15.3,16.63,16.2,15.3,15.3,16.2,16.2,15.3,15.3,15.3,15.3,15.3,15.3,16.2,16.2,16.2,15.3,15.3,15.3,16.2,16.2,16.2,16.63,15.3,15.3,15.3,15.3,16.63,16.2,15.3,16.2,15.3,15.3,16.2,16.63,15.3,15.3,15.3,15.3,15.3,15.3,16.63,16.63,16.63,16.63,16.63,16.63,16.63,16.63,16.63,16.63,16.63,16.63,16.63,16.63,16.63,16.63,16.63,16.63,16.63,16.63,16.63,16.63,16.63,16.63,16.63,16.63,16.63,14.79,16.63,16.63,16.63,16.63,16.63,16.63,14.79,16.63,16.63,16.63,16.63,16.63,16.63,14.79,16.63,16.63,16.63,16.63,16.63,16.63,16.63,16.63,14.0,14.0,14.0,14.0,14.0,14.0,14.0,14.0,14.0,14.0,14.0,14.0,14.0,14.0,14.0,14.0,14.0,14.0,16.63,14.0,14.0,15.75,16.63,14.0,14.0,14.0,15.75,14.0,14.0,15.75,14.0,15.75,15.75,15.75,15.75,14.0,14.0,16.63,14.48,14.58,14.58,15.75,14.0,14.2,14.0,14.0,14.0,14.0,14.0,14.0,14.0,14.0,14.58,14.0,14.58,14.48,14.58,14.48,14.2,14.0,15.0,14.2,16.34,16.34,14.0,14.0,14.2,14.2,14.0,16.34,16.34,16.34,14.0,14.0,14.0,14.0,14.0,14.0,14.0,14.0,14.0,15.75,14.0,14.2,14.0,14.0,14.0,14.0,14.0,14.0,14.2,15.2,15.2,15.0,14.58,14.58,14.0,14.0,14.0,14.0,14.0,14.58,14.2,14.0,14.0,14.0,14.0,14.0,14.0,14.0,14.58,14.0,14.0,14.58,15.0,16.34,14.2,14.58,14.0,15.75,14.2,14.0,14.0,14.0,14.58,15.75,16.34,15.0,14.48,14.58,14.58,14.0,14.0,15.75,16.34,14.0,14.0,14.0,14.0,14.0,14.0,14.0,16.34,14.58,14.2,14.0,14.0,14.0,14.0,15.0,15.0,16.34,14.0,14.0,14.0,14.0,14.0,14.0,14.0,14.2,14.58,14.58,14.48,14.58,14.58,15.75,15.75,16.34,14.2,16.34,16.34,16.34,16.34,16.34,15.0,14.2,16.34,16.34,16.34,16.34,14.48,14.58,14.48,14.48,14.0,16.34,16.34,16.34,16.34,16.34,16.34,16.34,16.34,14.2,16.34,16.34,16.34,16.34,16.34,16.34,16.34,14.2,14.58,14.2,16.34,14.0,14.0,16.34,14.48,14.2,16.34,16.34,16.34,14.2,16.34,14.0,14.48,14.2,16.34,16.34,16.34,14.2,14.2,16.34,16.34,16.34,16.34,16.34,16.34,14.2,16.34,16.34,16.34,16.34,16.34,16.34,16.34,16.34,14.0,14.2,16.34,16.34,14.2,14.2,14.2,14.2,14.2,14.2,16.34,15.0,15.0,15.0,15.0,15.0,15.0,16.34,16.34,14.0,16.34,14.48,14.2,16.34,14.0,14.48,16.34,14.48,14.58,14.0,14.48,14.58,16.34,14.2,14.0,16.34,15.0,16.34,16.34,14.0,16.34,16.34,16.34,14.2,14.58,14.58,14.48,14.58,15.0,15.0,14.0,14.2,16.34,14.2,14.0,14.58,16.34,16.34,16.34,16.34,14.2,16.34,14.0,14.2,16.34,14.58,14.0,16.34,14.2,16.34,16.34,16.34,16.34,14.2,16.34,16.34,14.2,15.0,16.34,14.0,14.2,14.48,14.58,14.58,14.48,14.58,14.0,14.2,16.2,14.2,14.2,14.2,14.2,14.2,14.2,14.2,14.2,14.2,14.2,14.2,14.2,14.2,14.2,14.2,14.2,14.2,14.2,14.0,14.0,17.53,17.53,17.53,17.53,17.53,17.53,17.53,17.53,17.8,17.8,17.8,17.53,17.53,17.53,17.53,17.53,17.53,17.8,17.53,17.53,17.53,17.53,17.8,17.8,17.8,17.8,17.8,17.8,17.8,17.8,17.8,17.8,17.8,17.8,17.8,17.8,17.8,17.8,17.8,17.8,17.8,17.8,17.8,17.8,17.8,17.8,17.8,17.8,17.8,17.8,17.53,17.8,17.8,17.8,17.8,17.8,17.8,17.8,17.53,17.8,17.8,17.8,17.53,17.8,17.53,17.8,17.53,17.53,17.53,17.8,17.8,17.53,17.53,17.53,17.53,17.53,17.53,17.53,17.53,17.53,17.53,17.53,17.53,17.8,17.8,17.53,17.8,17.53,17.53,17.53,17.53,17.8,17.8,17.8,17.53,17.8,17.53,17.8,17.53,17.53,17.8,17.53,17.8,17.53,17.8,17.53,17.8,17.8,17.53,17.53,17.8,17.8,17.8,17.53,17.8,17.8,17.8,17.8,17.53,17.53,17.53,17.53,17.8,17.8,17.53,17.53,17.53,17.8,17.53,17.53,17.8,17.53,17.8,17.8,17.8,17.53,17.53,17.53,17.53,17.53,17.53,17.8,17.53,17.53,17.53,17.53,17.53,17.53,17.53,17.8,17.53,17.53,17.53,17.53,17.8,17.53,17.8,17.53,17.53,17.53,17.8,17.8,17.8,17.8,17.53,17.8,17.53,17.53,17.53,17.53,17.53,17.53,17.53,17.8,16.88,17.53,17.8,17.8,17.53,17.53,17.53,17.53,17.53,17.8,17.53,17.53,17.53,17.53,17.53,17.53,17.53,17.53,17.53,17.53,17.53,17.53,16.88,16.88,17.53,17.53,17.8,17.8,17.53,17.8,17.8,17.8,17.8,17.8,17.8,17.8,17.8,17.8,17.8,17.8,17.8,17.8,17.53,17.8,17.8,17.8,17.8,17.8,17.8,17.53,17.8,17.53,17.53,17.53,17.53,17.8,16.88,17.8,17.53,17.8,17.53,17.53,17.8,17.8,17.53,17.8,17.8,17.8,17.8,17.8,17.8,17.8,17.53,17.8,17.8,16.2,15.5,15.5,16.88,15.3,15.3,14.4,16.88,16.88,17.53,16.88,16.88,15.5,15.5,15.5,17.53,16.0,16.2,16.88,16.88,17.53,16.0,17.82,16.0,16.88,17.82,17.53,15.3,14.4,14.4,17.8,16.88,17.82,15.5,15.5,15.5,16.88,16.2,16.88,16.88,16.0,15.5,17.53,16.88,17.53,17.8,17.82,16.0,16.0,16.88,17.8,17.53,17.82,17.82,17.82,14.0,17.53,17.53,14.0,14.0,17.82,16.88,14.0,16.2,14.0,17.82,17.82,16.2,14.0,17.53,16.2,16.2,17.82,17.82,17.82,16.2,14.0,16.2,14.0,14.0,17.82,16.2,16.88,16.2,16.2,16.88,16.88,16.88,16.88,16.0,16.2,16.88,16.88,16.0,16.0,16.0,16.0,16.0,16.2,16.2,16.88,16.0,16.63,16.2,16.88,16.88,16.2,16.2,16.88,16.63,16.2,16.88,16.88,16.88,16.2,16.63,16.88,16.63,16.2,16.2,16.63,16.88,16.0,16.63,16.0,16.63,16.63,16.2,16.2,16.2,16.88,16.63,16.2,15.3,16.88,16.2,16.2,16.63,16.63,16.88,16.2,16.63,16.88,16.88,16.88,16.88,16.88,16.63,16.2,16.88,16.88,14.65,16.2,16.63,16.2,16.2,16.88,16.2,15.3,15.3,16.2,16.2,15.75,16.63,15.3,16.88,16.88,15.3,16.2,16.63,16.2,16.2,16.88,16.88,16.88,16.88,15.3,16.2,16.63,16.88,16.88,16.2,16.88,16.2,16.2,16.88,16.2,15.75,15.75,16.88,16.88,16.88,15.75,14.79,14.79,16.88,16.88,16.88,16.88,16.88,16.88,16.88,15.75,15.75,16.88,15.75,16.0,16.88,15.75,15.75,15.75,15.75,15.75,15.75,15.75,16.0,15.75,15.75,14.79,14.79,16.88,16.88,16.88,16.88,16.0,15.3,15.3,16.0,16.88,16.88,16.88,16.88,16.0,15.75,15.75,15.75,16.88,16.88,16.88,15.75,15.75,15.75,16.0,15.75,16.88,15.75,16.88,14.79,16.0,15.75,16.88,15.3,15.75,15.3,15.3,15.3,15.3,15.75,15.75,15.75,16.88,16.0,15.75,15.75,16.5,16.0,16.5,16.5,15.75,15.75,16.5,16.5,16.88,15.75,15.75,15.75,16.88,16.88,16.88,15.75,16.5,16.0,16.0,15.75,15.75,15.75,16.0,15.75,15.75,15.75,15.75,15.75,15.75,15.75,15.75,16.5,16.5,16.5,15.75,15.75,15.75,16.0,15.75,15.75,15.75,16.0,16.5,16.88,16.0,14.4,16.88,15.75,16.0,16.88,16.5,16.0,15.75,15.75,16.0,16.0,16.0,15.75,16.88,16.5,16.88,16.88,16.0,16.0,16.0,16.0,15.75,15.75,14.0,18.0,14.0,15.75,14.0,14.0,16.5,17.4,16.88,18.0,16.0,15.75,17.4,16.0,17.4,16.5,14.0,14.0,14.79,16.88,16.0,14.79,14.79,17.4,16.88,16.88,15.75,14.4,15.75,14.79,18.0,17.0,18.0,16.0,14.4,14.4,18.0,16.0,16.0,14.0,14.0,16.88,16.0,14.0,17.4,14.0,15.75,16.5,16.0,16.0,14.0,14.0,17.4,18.0,17.4,18.0,16.0,15.75,14.79,14.0,14.0,16.0,14.0,16.0,16.88,14.79,15.75,14.0,15.75,15.75,14.0,16.0,14.0,18.0,14.0,14.0,18.0,16.0,14.0,15.75,15.75,14.79,14.0,16.88,14.79,15.75,18.0,17.4,14.0,14.4,15.75,14.0,17.4,15.75,17.4,18.0,16.0,16.88,14.79,16.0,16.88,17.0,17.4,17.4,18.0,14.0,16.0,14.0,18.0,17.4,14.0,14.65,14.0,14.0,16.0,16.88,14.79,14.0,16.0,14.0,14.79,16.88,18.0,16.0,16.0,16.0,14.79,14.4,14.0,14.0,14.0,16.0,14.0,16.0,16.0,16.0,16.0,16.88,16.88,16.5,16.5,14.79,14.0,17.0,14.0,17.4,16.88,16.0,17.4,17.4,16.88,15.75,15.75,16.0,16.0,16.0,14.0,14.79,16.5,14.0,14.0,16.0,14.0,16.0,14.0,18.0,17.4,17.4,17.0,18.0,18.0,15.75,15.75,16.88,16.88,16.88,18.0,14.4,14.4,16.88,16.88,16.88,18.0,15.75,17.4,16.0,14.0,15.75,14.0,18.0,17.4,18.0,15.75,16.88,17.4,18.0,18.0,16.88,16.88,18.0,16.88,18.0,18.0,18.0,14.0,16.0,14.0,14.0,14.0,16.2,16.88,14.0,17.4,18.0,14.0,14.0,14.0,16.88,16.88,16.88,15.75,14.0,17.4,16.0,17.4,14.4,14.0,17.4,16.0,17.4,14.0,14.0,18.0,17.4,18.0,17.4,14.0,14.0,14.0,14.0,16.0,16.0,17.4,14.0,18.0,18.0,17.4,18.0,18.0,17.4,14.0,17.4,14.0,14.0,17.4,17.4,18.0,18.0,14.0,16.0,17.4,18.0,16.0,18.0,16.0,16.0,15.75,14.0,14.0,14.0,14.0,14.0]},{\"name\":\"koin_bisnis\",\"type\":\"box\",\"x\":[24.7,24.86,24.7,24.7,24.86,24.86,24.86,24.7,24.86,24.86,24.86,24.7,24.7,24.86,24.86,24.86,24.86,24.7,24.86,26.1343,28.9735,24.13,24.7,24.7,24.7,24.86,28.9735,24.7,24.86,24.86,24.86,24.7,24.7,24.86,26.1343,29.8369,25.9237,29.8369,29.8369,29.8369,29.8369,24.86,29.8369,25.9237,24.86,25.9237,25.9237,29.8369,8.7469,8.7469,25.9237,8.7469,8.7469,25.9237,8.7469,25.9237,8.7469,25.9237,28.9582,25.9237,25.4786,25.9237,8.7469,8.7469,28.9582,8.7469,28.9735,8.7469,28.9582,8.7469,28.9735,28.9735,34.501,25.9237,60.167,28.9582,28.9582,8.7469,24.4052,25.9237,28.9735,14.1726,20.4998,20.4998,20.4998,20.4998,20.4998,20.4998,20.4998,20.4998,20.4998,20.4998,20.4998,20.4998,20.4998,20.4998,20.4998,20.4998,20.4998,20.4998,20.4998,20.4998,20.4998,20.4998,20.4998,20.4998,20.4998,20.4998,20.4998,20.4998,20.4998,20.4998,20.4998,20.4998,20.4998,20.4998,20.4998,20.4998,20.4998,20.4998,20.4998,20.4998,20.4998,20.4998,20.4998,20.4998,20.4998,20.4998,20.4998,20.4998,20.4998,20.4998,20.4998,20.4998,20.4998,20.4998,20.4998,20.4998,20.4998,20.4998,20.4998,20.4998,20.4998,20.4998,20.4998,20.4998,28.9735,20.4998,34.501,28.9735,20.4998,34.501,20.4998,20.4998,34.501,28.9735,28.9735,20.4998,34.501,28.9735,34.501,20.4998,28.9735,20.4998,20.4998,28.9735,28.9735,20.4998,34.501,20.4998,20.4998,34.501,28.9735,28.9735,20.4998,28.9735,34.501,28.9735,20.4998,20.4998,20.4998,20.4998,34.501,28.9735,20.4998,14.1726,14.1726,14.1726,20.4998,20.4998,20.4998,20.4998,20.4998,14.1726,20.4998,20.4998,14.1726,20.4998,28.9735,34.501,28.9735,20.4998,34.501,28.9735,20.4998,20.4998,20.4998,34.501,20.4998,20.4998,34.501,28.9735,20.4998,28.9735,20.4998,20.4998,34.501,34.501,34.501,20.4998,34.501,34.501,28.9735,34.501,20.4998,20.4998,22.5167,20.4998,14.1726,20.4998,14.1726,34.501,34.501,28.9735,28.9735,14.1726,34.501,19.1789,22.5167,20.4998,34.501,16.7014,34.501,34.501,34.501,34.501,16.7014,73.0556,22.5167,73.0556,34.501,34.501,16.7014,73.0556,28.9735,14.1726,14.1726,14.1726,14.1726,14.1726,20.4998,39.153,34.501,14.1726,34.501,39.153,28.9735,39.153,16.7014,19.1789,16.7014,39.153,73.0556,19.1789,16.7014,39.153,16.7014,19.0401,16.2503,14.1726,19.0401,60.167,28.9735,27.2548,46.9358,34.501,14.1726,14.1726,34.501,14.1726,19.0401,14.1726,14.1726,14.1726,19.0401,19.0401,14.1726,14.1726,34.501,73.0556,22.5167,16.7014,34.501,34.501,17.1026,34.501,22.9826,28.9735,28.9735,28.9735,28.9735,14.1726,14.1726,14.1726,14.1726]},{\"name\":\"koin_pintar\",\"type\":\"box\",\"x\":[23.19,23.19,23.19,23.19,23.19,23.19,23.19,23.19,23.19,23.19,23.19,23.19,23.19,23.19,23.19,23.19,23.19,23.19,23.19,23.19,23.19,23.19,23.19,23.19,23.19,23.19,23.19,23.19,23.19,23.19,23.19,21.81,21.81,21.81,23.19,23.19,21.81]},{\"name\":\"koin_robo\",\"type\":\"box\",\"x\":[13.0,5.0,6.0,12.0,13.0,13.0,13.0,5.0,6.0,8.0,13.0,13.0,13.0,13.0,10.5,13.0,8.0,4.0,14.0,5.0,5.0,5.0,13.0,11.0,5.0,5.0,6.0,11.0,8.0,4.0,6.0,6.0,5.0,4.0,13.0,5.0,6.0,8.0,13.0,5.0,9.0,5.0,13.0,14.0,8.0,13.0,5.0,6.0,8.0,10.0,13.0,13.0,13.0,5.0,8.0,13.0,13.0,11.0,5.0,6.0,8.0,13.0,11.0,13.0,5.0,5.0,5.0,5.0,13.0,6.0,13.0,13.0,8.0,5.0,13.0,5.0,5.0,6.0,11.0,8.0,5.0,4.0,4.0,5.0,12.0,4.0,6.0,5.0,4.0,5.0,8.0,5.0,6.0,8.0,5.0,13.0,13.0,5.0,5.0,6.0,5.0,13.0,5.0,6.0,8.0,11.0,13.0,13.0,13.0,5.0,8.0,5.0,8.0,6.0,13.0,13.0,13.0,5.0,13.0,8.0,5.0,6.0,13.0,12.0,13.0,6.0,5.0,5.0,5.0,13.0,5.0,13.0,13.0,13.0,5.0,8.0,13.0,6.0,11.0,13.0,13.0,5.0,10.0,13.0,13.0,5.0,8.0,6.0,11.0,10.5,4.0,5.0,5.0,13.0,4.0,5.0,5.0,10.0,14.0,5.0,5.0,13.0,13.0,13.0,12.5,13.0,5.0,6.0,5.0,10.5,13.0,13.0,5.0,13.0,5.0,14.0,5.0,5.0,6.0,8.0,7.0,13.0,13.0,8.0,6.0,8.0,5.0,13.0,5.0,6.0,8.0,5.0,10.5,6.0,8.0,13.0,13.0,13.0,13.0,5.0,13.0,5.0,6.0,8.0,11.0,13.0,13.0,5.0,12.5,13.0,4.0,6.0,5.0,8.0,11.0,7.0,13.0,13.0,13.0,13.0,13.0,13.0,5.0,6.0,8.0,11.0,13.0,13.0,13.0,4.0,5.0,13.0,10.0,5.0,6.0,13.0,5.0,7.0,11.0,14.0,13.0,13.0,5.0,13.0,13.0,13.0,5.0,5.0,5.0,13.0,13.0,13.0,7.0,13.0,8.0,5.0,13.0,7.0,13.0,14.0,13.0,8.0,5.0,6.0,13.0,8.0,11.0,5.0,5.0,8.0,13.0,10.5,5.0,13.0]}],                        {\"template\":{\"data\":{\"bar\":[{\"error_x\":{\"color\":\"#2a3f5f\"},\"error_y\":{\"color\":\"#2a3f5f\"},\"marker\":{\"line\":{\"color\":\"#E5ECF6\",\"width\":0.5},\"pattern\":{\"fillmode\":\"overlay\",\"size\":10,\"solidity\":0.2}},\"type\":\"bar\"}],\"barpolar\":[{\"marker\":{\"line\":{\"color\":\"#E5ECF6\",\"width\":0.5},\"pattern\":{\"fillmode\":\"overlay\",\"size\":10,\"solidity\":0.2}},\"type\":\"barpolar\"}],\"carpet\":[{\"aaxis\":{\"endlinecolor\":\"#2a3f5f\",\"gridcolor\":\"white\",\"linecolor\":\"white\",\"minorgridcolor\":\"white\",\"startlinecolor\":\"#2a3f5f\"},\"baxis\":{\"endlinecolor\":\"#2a3f5f\",\"gridcolor\":\"white\",\"linecolor\":\"white\",\"minorgridcolor\":\"white\",\"startlinecolor\":\"#2a3f5f\"},\"type\":\"carpet\"}],\"choropleth\":[{\"colorbar\":{\"outlinewidth\":0,\"ticks\":\"\"},\"type\":\"choropleth\"}],\"contour\":[{\"colorbar\":{\"outlinewidth\":0,\"ticks\":\"\"},\"colorscale\":[[0.0,\"#0d0887\"],[0.1111111111111111,\"#46039f\"],[0.2222222222222222,\"#7201a8\"],[0.3333333333333333,\"#9c179e\"],[0.4444444444444444,\"#bd3786\"],[0.5555555555555556,\"#d8576b\"],[0.6666666666666666,\"#ed7953\"],[0.7777777777777778,\"#fb9f3a\"],[0.8888888888888888,\"#fdca26\"],[1.0,\"#f0f921\"]],\"type\":\"contour\"}],\"contourcarpet\":[{\"colorbar\":{\"outlinewidth\":0,\"ticks\":\"\"},\"type\":\"contourcarpet\"}],\"heatmap\":[{\"colorbar\":{\"outlinewidth\":0,\"ticks\":\"\"},\"colorscale\":[[0.0,\"#0d0887\"],[0.1111111111111111,\"#46039f\"],[0.2222222222222222,\"#7201a8\"],[0.3333333333333333,\"#9c179e\"],[0.4444444444444444,\"#bd3786\"],[0.5555555555555556,\"#d8576b\"],[0.6666666666666666,\"#ed7953\"],[0.7777777777777778,\"#fb9f3a\"],[0.8888888888888888,\"#fdca26\"],[1.0,\"#f0f921\"]],\"type\":\"heatmap\"}],\"heatmapgl\":[{\"colorbar\":{\"outlinewidth\":0,\"ticks\":\"\"},\"colorscale\":[[0.0,\"#0d0887\"],[0.1111111111111111,\"#46039f\"],[0.2222222222222222,\"#7201a8\"],[0.3333333333333333,\"#9c179e\"],[0.4444444444444444,\"#bd3786\"],[0.5555555555555556,\"#d8576b\"],[0.6666666666666666,\"#ed7953\"],[0.7777777777777778,\"#fb9f3a\"],[0.8888888888888888,\"#fdca26\"],[1.0,\"#f0f921\"]],\"type\":\"heatmapgl\"}],\"histogram\":[{\"marker\":{\"pattern\":{\"fillmode\":\"overlay\",\"size\":10,\"solidity\":0.2}},\"type\":\"histogram\"}],\"histogram2d\":[{\"colorbar\":{\"outlinewidth\":0,\"ticks\":\"\"},\"colorscale\":[[0.0,\"#0d0887\"],[0.1111111111111111,\"#46039f\"],[0.2222222222222222,\"#7201a8\"],[0.3333333333333333,\"#9c179e\"],[0.4444444444444444,\"#bd3786\"],[0.5555555555555556,\"#d8576b\"],[0.6666666666666666,\"#ed7953\"],[0.7777777777777778,\"#fb9f3a\"],[0.8888888888888888,\"#fdca26\"],[1.0,\"#f0f921\"]],\"type\":\"histogram2d\"}],\"histogram2dcontour\":[{\"colorbar\":{\"outlinewidth\":0,\"ticks\":\"\"},\"colorscale\":[[0.0,\"#0d0887\"],[0.1111111111111111,\"#46039f\"],[0.2222222222222222,\"#7201a8\"],[0.3333333333333333,\"#9c179e\"],[0.4444444444444444,\"#bd3786\"],[0.5555555555555556,\"#d8576b\"],[0.6666666666666666,\"#ed7953\"],[0.7777777777777778,\"#fb9f3a\"],[0.8888888888888888,\"#fdca26\"],[1.0,\"#f0f921\"]],\"type\":\"histogram2dcontour\"}],\"mesh3d\":[{\"colorbar\":{\"outlinewidth\":0,\"ticks\":\"\"},\"type\":\"mesh3d\"}],\"parcoords\":[{\"line\":{\"colorbar\":{\"outlinewidth\":0,\"ticks\":\"\"}},\"type\":\"parcoords\"}],\"pie\":[{\"automargin\":true,\"type\":\"pie\"}],\"scatter\":[{\"marker\":{\"colorbar\":{\"outlinewidth\":0,\"ticks\":\"\"}},\"type\":\"scatter\"}],\"scatter3d\":[{\"line\":{\"colorbar\":{\"outlinewidth\":0,\"ticks\":\"\"}},\"marker\":{\"colorbar\":{\"outlinewidth\":0,\"ticks\":\"\"}},\"type\":\"scatter3d\"}],\"scattercarpet\":[{\"marker\":{\"colorbar\":{\"outlinewidth\":0,\"ticks\":\"\"}},\"type\":\"scattercarpet\"}],\"scattergeo\":[{\"marker\":{\"colorbar\":{\"outlinewidth\":0,\"ticks\":\"\"}},\"type\":\"scattergeo\"}],\"scattergl\":[{\"marker\":{\"colorbar\":{\"outlinewidth\":0,\"ticks\":\"\"}},\"type\":\"scattergl\"}],\"scattermapbox\":[{\"marker\":{\"colorbar\":{\"outlinewidth\":0,\"ticks\":\"\"}},\"type\":\"scattermapbox\"}],\"scatterpolar\":[{\"marker\":{\"colorbar\":{\"outlinewidth\":0,\"ticks\":\"\"}},\"type\":\"scatterpolar\"}],\"scatterpolargl\":[{\"marker\":{\"colorbar\":{\"outlinewidth\":0,\"ticks\":\"\"}},\"type\":\"scatterpolargl\"}],\"scatterternary\":[{\"marker\":{\"colorbar\":{\"outlinewidth\":0,\"ticks\":\"\"}},\"type\":\"scatterternary\"}],\"surface\":[{\"colorbar\":{\"outlinewidth\":0,\"ticks\":\"\"},\"colorscale\":[[0.0,\"#0d0887\"],[0.1111111111111111,\"#46039f\"],[0.2222222222222222,\"#7201a8\"],[0.3333333333333333,\"#9c179e\"],[0.4444444444444444,\"#bd3786\"],[0.5555555555555556,\"#d8576b\"],[0.6666666666666666,\"#ed7953\"],[0.7777777777777778,\"#fb9f3a\"],[0.8888888888888888,\"#fdca26\"],[1.0,\"#f0f921\"]],\"type\":\"surface\"}],\"table\":[{\"cells\":{\"fill\":{\"color\":\"#EBF0F8\"},\"line\":{\"color\":\"white\"}},\"header\":{\"fill\":{\"color\":\"#C8D4E3\"},\"line\":{\"color\":\"white\"}},\"type\":\"table\"}]},\"layout\":{\"annotationdefaults\":{\"arrowcolor\":\"#2a3f5f\",\"arrowhead\":0,\"arrowwidth\":1},\"autotypenumbers\":\"strict\",\"coloraxis\":{\"colorbar\":{\"outlinewidth\":0,\"ticks\":\"\"}},\"colorscale\":{\"diverging\":[[0,\"#8e0152\"],[0.1,\"#c51b7d\"],[0.2,\"#de77ae\"],[0.3,\"#f1b6da\"],[0.4,\"#fde0ef\"],[0.5,\"#f7f7f7\"],[0.6,\"#e6f5d0\"],[0.7,\"#b8e186\"],[0.8,\"#7fbc41\"],[0.9,\"#4d9221\"],[1,\"#276419\"]],\"sequential\":[[0.0,\"#0d0887\"],[0.1111111111111111,\"#46039f\"],[0.2222222222222222,\"#7201a8\"],[0.3333333333333333,\"#9c179e\"],[0.4444444444444444,\"#bd3786\"],[0.5555555555555556,\"#d8576b\"],[0.6666666666666666,\"#ed7953\"],[0.7777777777777778,\"#fb9f3a\"],[0.8888888888888888,\"#fdca26\"],[1.0,\"#f0f921\"]],\"sequentialminus\":[[0.0,\"#0d0887\"],[0.1111111111111111,\"#46039f\"],[0.2222222222222222,\"#7201a8\"],[0.3333333333333333,\"#9c179e\"],[0.4444444444444444,\"#bd3786\"],[0.5555555555555556,\"#d8576b\"],[0.6666666666666666,\"#ed7953\"],[0.7777777777777778,\"#fb9f3a\"],[0.8888888888888888,\"#fdca26\"],[1.0,\"#f0f921\"]]},\"colorway\":[\"#636efa\",\"#EF553B\",\"#00cc96\",\"#ab63fa\",\"#FFA15A\",\"#19d3f3\",\"#FF6692\",\"#B6E880\",\"#FF97FF\",\"#FECB52\"],\"font\":{\"color\":\"#2a3f5f\"},\"geo\":{\"bgcolor\":\"white\",\"lakecolor\":\"white\",\"landcolor\":\"#E5ECF6\",\"showlakes\":true,\"showland\":true,\"subunitcolor\":\"white\"},\"hoverlabel\":{\"align\":\"left\"},\"hovermode\":\"closest\",\"mapbox\":{\"style\":\"light\"},\"paper_bgcolor\":\"white\",\"plot_bgcolor\":\"#E5ECF6\",\"polar\":{\"angularaxis\":{\"gridcolor\":\"white\",\"linecolor\":\"white\",\"ticks\":\"\"},\"bgcolor\":\"#E5ECF6\",\"radialaxis\":{\"gridcolor\":\"white\",\"linecolor\":\"white\",\"ticks\":\"\"}},\"scene\":{\"xaxis\":{\"backgroundcolor\":\"#E5ECF6\",\"gridcolor\":\"white\",\"gridwidth\":2,\"linecolor\":\"white\",\"showbackground\":true,\"ticks\":\"\",\"zerolinecolor\":\"white\"},\"yaxis\":{\"backgroundcolor\":\"#E5ECF6\",\"gridcolor\":\"white\",\"gridwidth\":2,\"linecolor\":\"white\",\"showbackground\":true,\"ticks\":\"\",\"zerolinecolor\":\"white\"},\"zaxis\":{\"backgroundcolor\":\"#E5ECF6\",\"gridcolor\":\"white\",\"gridwidth\":2,\"linecolor\":\"white\",\"showbackground\":true,\"ticks\":\"\",\"zerolinecolor\":\"white\"}},\"shapedefaults\":{\"line\":{\"color\":\"#2a3f5f\"}},\"ternary\":{\"aaxis\":{\"gridcolor\":\"white\",\"linecolor\":\"white\",\"ticks\":\"\"},\"baxis\":{\"gridcolor\":\"white\",\"linecolor\":\"white\",\"ticks\":\"\"},\"bgcolor\":\"#E5ECF6\",\"caxis\":{\"gridcolor\":\"white\",\"linecolor\":\"white\",\"ticks\":\"\"}},\"title\":{\"x\":0.05},\"xaxis\":{\"automargin\":true,\"gridcolor\":\"white\",\"linecolor\":\"white\",\"ticks\":\"\",\"title\":{\"standoff\":15},\"zerolinecolor\":\"white\",\"zerolinewidth\":2},\"yaxis\":{\"automargin\":true,\"gridcolor\":\"white\",\"linecolor\":\"white\",\"ticks\":\"\",\"title\":{\"standoff\":15},\"zerolinecolor\":\"white\",\"zerolinewidth\":2}}}},                        {\"responsive\": true}                    ).then(function(){\n",
       "                            \n",
       "var gd = document.getElementById('05d7f8e8-7e66-4b54-9611-435448c84d8a');\n",
       "var x = new MutationObserver(function (mutations, observer) {{\n",
       "        var display = window.getComputedStyle(gd).display;\n",
       "        if (!display || display === 'none') {{\n",
       "            console.log([gd, 'removed!']);\n",
       "            Plotly.purge(gd);\n",
       "            observer.disconnect();\n",
       "        }}\n",
       "}});\n",
       "\n",
       "// Listen for the removal of the full notebook cells\n",
       "var notebookContainer = gd.closest('#notebook-container');\n",
       "if (notebookContainer) {{\n",
       "    x.observe(notebookContainer, {childList: true});\n",
       "}}\n",
       "\n",
       "// Listen for the clearing of the current output cell\n",
       "var outputEl = gd.closest('.output');\n",
       "if (outputEl) {{\n",
       "    x.observe(outputEl, {childList: true});\n",
       "}}\n",
       "\n",
       "                        })                };                });            </script>        </div>"
      ]
     },
     "metadata": {},
     "output_type": "display_data"
    }
   ],
   "source": [
    "##Exploratory Data Analysis of Numerical Data    \n",
    "#Boxplot: Lender Interest\n",
    "Category1 = koin[koin.sub_product==\"koin_invoice\"].lender_interest\n",
    "Category2 = koin[koin.sub_product==\"koin_bisnis\"].lender_interest\n",
    "Category3 = koin[koin.sub_product==\"koin_pintar\"].lender_interest\n",
    "Category4 = koin[koin.sub_product==\"koin_robo\"].lender_interest\n",
    "\n",
    "fig = go.Figure()\n",
    "# Use x instead of y argument for horizontal plot\n",
    "fig.add_trace(go.Box(x=Category1, name='koin_invoice'))\n",
    "fig.add_trace(go.Box(x=Category2, name='koin_bisnis'))\n",
    "fig.add_trace(go.Box(x=Category3, name='koin_pintar'))\n",
    "fig.add_trace(go.Box(x=Category4, name='koin_robo'))\n",
    "\n",
    "fig.show()"
   ]
  },
  {
   "cell_type": "code",
   "execution_count": 12,
   "id": "eb6f6862",
   "metadata": {
    "scrolled": true
   },
   "outputs": [
    {
     "data": {
      "application/vnd.plotly.v1+json": {
       "config": {
        "plotlyServerURL": "https://plot.ly"
       },
       "data": [
        {
         "hole": 0.2,
         "labels": [
          "koin_invoice",
          "koin_bisnis",
          "koin_pintar",
          "koin_robo"
         ],
         "type": "pie",
         "values": [
          1821,
          315,
          37,
          274
         ]
        }
       ],
       "layout": {
        "template": {
         "data": {
          "bar": [
           {
            "error_x": {
             "color": "#2a3f5f"
            },
            "error_y": {
             "color": "#2a3f5f"
            },
            "marker": {
             "line": {
              "color": "#E5ECF6",
              "width": 0.5
             },
             "pattern": {
              "fillmode": "overlay",
              "size": 10,
              "solidity": 0.2
             }
            },
            "type": "bar"
           }
          ],
          "barpolar": [
           {
            "marker": {
             "line": {
              "color": "#E5ECF6",
              "width": 0.5
             },
             "pattern": {
              "fillmode": "overlay",
              "size": 10,
              "solidity": 0.2
             }
            },
            "type": "barpolar"
           }
          ],
          "carpet": [
           {
            "aaxis": {
             "endlinecolor": "#2a3f5f",
             "gridcolor": "white",
             "linecolor": "white",
             "minorgridcolor": "white",
             "startlinecolor": "#2a3f5f"
            },
            "baxis": {
             "endlinecolor": "#2a3f5f",
             "gridcolor": "white",
             "linecolor": "white",
             "minorgridcolor": "white",
             "startlinecolor": "#2a3f5f"
            },
            "type": "carpet"
           }
          ],
          "choropleth": [
           {
            "colorbar": {
             "outlinewidth": 0,
             "ticks": ""
            },
            "type": "choropleth"
           }
          ],
          "contour": [
           {
            "colorbar": {
             "outlinewidth": 0,
             "ticks": ""
            },
            "colorscale": [
             [
              0,
              "#0d0887"
             ],
             [
              0.1111111111111111,
              "#46039f"
             ],
             [
              0.2222222222222222,
              "#7201a8"
             ],
             [
              0.3333333333333333,
              "#9c179e"
             ],
             [
              0.4444444444444444,
              "#bd3786"
             ],
             [
              0.5555555555555556,
              "#d8576b"
             ],
             [
              0.6666666666666666,
              "#ed7953"
             ],
             [
              0.7777777777777778,
              "#fb9f3a"
             ],
             [
              0.8888888888888888,
              "#fdca26"
             ],
             [
              1,
              "#f0f921"
             ]
            ],
            "type": "contour"
           }
          ],
          "contourcarpet": [
           {
            "colorbar": {
             "outlinewidth": 0,
             "ticks": ""
            },
            "type": "contourcarpet"
           }
          ],
          "heatmap": [
           {
            "colorbar": {
             "outlinewidth": 0,
             "ticks": ""
            },
            "colorscale": [
             [
              0,
              "#0d0887"
             ],
             [
              0.1111111111111111,
              "#46039f"
             ],
             [
              0.2222222222222222,
              "#7201a8"
             ],
             [
              0.3333333333333333,
              "#9c179e"
             ],
             [
              0.4444444444444444,
              "#bd3786"
             ],
             [
              0.5555555555555556,
              "#d8576b"
             ],
             [
              0.6666666666666666,
              "#ed7953"
             ],
             [
              0.7777777777777778,
              "#fb9f3a"
             ],
             [
              0.8888888888888888,
              "#fdca26"
             ],
             [
              1,
              "#f0f921"
             ]
            ],
            "type": "heatmap"
           }
          ],
          "heatmapgl": [
           {
            "colorbar": {
             "outlinewidth": 0,
             "ticks": ""
            },
            "colorscale": [
             [
              0,
              "#0d0887"
             ],
             [
              0.1111111111111111,
              "#46039f"
             ],
             [
              0.2222222222222222,
              "#7201a8"
             ],
             [
              0.3333333333333333,
              "#9c179e"
             ],
             [
              0.4444444444444444,
              "#bd3786"
             ],
             [
              0.5555555555555556,
              "#d8576b"
             ],
             [
              0.6666666666666666,
              "#ed7953"
             ],
             [
              0.7777777777777778,
              "#fb9f3a"
             ],
             [
              0.8888888888888888,
              "#fdca26"
             ],
             [
              1,
              "#f0f921"
             ]
            ],
            "type": "heatmapgl"
           }
          ],
          "histogram": [
           {
            "marker": {
             "pattern": {
              "fillmode": "overlay",
              "size": 10,
              "solidity": 0.2
             }
            },
            "type": "histogram"
           }
          ],
          "histogram2d": [
           {
            "colorbar": {
             "outlinewidth": 0,
             "ticks": ""
            },
            "colorscale": [
             [
              0,
              "#0d0887"
             ],
             [
              0.1111111111111111,
              "#46039f"
             ],
             [
              0.2222222222222222,
              "#7201a8"
             ],
             [
              0.3333333333333333,
              "#9c179e"
             ],
             [
              0.4444444444444444,
              "#bd3786"
             ],
             [
              0.5555555555555556,
              "#d8576b"
             ],
             [
              0.6666666666666666,
              "#ed7953"
             ],
             [
              0.7777777777777778,
              "#fb9f3a"
             ],
             [
              0.8888888888888888,
              "#fdca26"
             ],
             [
              1,
              "#f0f921"
             ]
            ],
            "type": "histogram2d"
           }
          ],
          "histogram2dcontour": [
           {
            "colorbar": {
             "outlinewidth": 0,
             "ticks": ""
            },
            "colorscale": [
             [
              0,
              "#0d0887"
             ],
             [
              0.1111111111111111,
              "#46039f"
             ],
             [
              0.2222222222222222,
              "#7201a8"
             ],
             [
              0.3333333333333333,
              "#9c179e"
             ],
             [
              0.4444444444444444,
              "#bd3786"
             ],
             [
              0.5555555555555556,
              "#d8576b"
             ],
             [
              0.6666666666666666,
              "#ed7953"
             ],
             [
              0.7777777777777778,
              "#fb9f3a"
             ],
             [
              0.8888888888888888,
              "#fdca26"
             ],
             [
              1,
              "#f0f921"
             ]
            ],
            "type": "histogram2dcontour"
           }
          ],
          "mesh3d": [
           {
            "colorbar": {
             "outlinewidth": 0,
             "ticks": ""
            },
            "type": "mesh3d"
           }
          ],
          "parcoords": [
           {
            "line": {
             "colorbar": {
              "outlinewidth": 0,
              "ticks": ""
             }
            },
            "type": "parcoords"
           }
          ],
          "pie": [
           {
            "automargin": true,
            "type": "pie"
           }
          ],
          "scatter": [
           {
            "marker": {
             "colorbar": {
              "outlinewidth": 0,
              "ticks": ""
             }
            },
            "type": "scatter"
           }
          ],
          "scatter3d": [
           {
            "line": {
             "colorbar": {
              "outlinewidth": 0,
              "ticks": ""
             }
            },
            "marker": {
             "colorbar": {
              "outlinewidth": 0,
              "ticks": ""
             }
            },
            "type": "scatter3d"
           }
          ],
          "scattercarpet": [
           {
            "marker": {
             "colorbar": {
              "outlinewidth": 0,
              "ticks": ""
             }
            },
            "type": "scattercarpet"
           }
          ],
          "scattergeo": [
           {
            "marker": {
             "colorbar": {
              "outlinewidth": 0,
              "ticks": ""
             }
            },
            "type": "scattergeo"
           }
          ],
          "scattergl": [
           {
            "marker": {
             "colorbar": {
              "outlinewidth": 0,
              "ticks": ""
             }
            },
            "type": "scattergl"
           }
          ],
          "scattermapbox": [
           {
            "marker": {
             "colorbar": {
              "outlinewidth": 0,
              "ticks": ""
             }
            },
            "type": "scattermapbox"
           }
          ],
          "scatterpolar": [
           {
            "marker": {
             "colorbar": {
              "outlinewidth": 0,
              "ticks": ""
             }
            },
            "type": "scatterpolar"
           }
          ],
          "scatterpolargl": [
           {
            "marker": {
             "colorbar": {
              "outlinewidth": 0,
              "ticks": ""
             }
            },
            "type": "scatterpolargl"
           }
          ],
          "scatterternary": [
           {
            "marker": {
             "colorbar": {
              "outlinewidth": 0,
              "ticks": ""
             }
            },
            "type": "scatterternary"
           }
          ],
          "surface": [
           {
            "colorbar": {
             "outlinewidth": 0,
             "ticks": ""
            },
            "colorscale": [
             [
              0,
              "#0d0887"
             ],
             [
              0.1111111111111111,
              "#46039f"
             ],
             [
              0.2222222222222222,
              "#7201a8"
             ],
             [
              0.3333333333333333,
              "#9c179e"
             ],
             [
              0.4444444444444444,
              "#bd3786"
             ],
             [
              0.5555555555555556,
              "#d8576b"
             ],
             [
              0.6666666666666666,
              "#ed7953"
             ],
             [
              0.7777777777777778,
              "#fb9f3a"
             ],
             [
              0.8888888888888888,
              "#fdca26"
             ],
             [
              1,
              "#f0f921"
             ]
            ],
            "type": "surface"
           }
          ],
          "table": [
           {
            "cells": {
             "fill": {
              "color": "#EBF0F8"
             },
             "line": {
              "color": "white"
             }
            },
            "header": {
             "fill": {
              "color": "#C8D4E3"
             },
             "line": {
              "color": "white"
             }
            },
            "type": "table"
           }
          ]
         },
         "layout": {
          "annotationdefaults": {
           "arrowcolor": "#2a3f5f",
           "arrowhead": 0,
           "arrowwidth": 1
          },
          "autotypenumbers": "strict",
          "coloraxis": {
           "colorbar": {
            "outlinewidth": 0,
            "ticks": ""
           }
          },
          "colorscale": {
           "diverging": [
            [
             0,
             "#8e0152"
            ],
            [
             0.1,
             "#c51b7d"
            ],
            [
             0.2,
             "#de77ae"
            ],
            [
             0.3,
             "#f1b6da"
            ],
            [
             0.4,
             "#fde0ef"
            ],
            [
             0.5,
             "#f7f7f7"
            ],
            [
             0.6,
             "#e6f5d0"
            ],
            [
             0.7,
             "#b8e186"
            ],
            [
             0.8,
             "#7fbc41"
            ],
            [
             0.9,
             "#4d9221"
            ],
            [
             1,
             "#276419"
            ]
           ],
           "sequential": [
            [
             0,
             "#0d0887"
            ],
            [
             0.1111111111111111,
             "#46039f"
            ],
            [
             0.2222222222222222,
             "#7201a8"
            ],
            [
             0.3333333333333333,
             "#9c179e"
            ],
            [
             0.4444444444444444,
             "#bd3786"
            ],
            [
             0.5555555555555556,
             "#d8576b"
            ],
            [
             0.6666666666666666,
             "#ed7953"
            ],
            [
             0.7777777777777778,
             "#fb9f3a"
            ],
            [
             0.8888888888888888,
             "#fdca26"
            ],
            [
             1,
             "#f0f921"
            ]
           ],
           "sequentialminus": [
            [
             0,
             "#0d0887"
            ],
            [
             0.1111111111111111,
             "#46039f"
            ],
            [
             0.2222222222222222,
             "#7201a8"
            ],
            [
             0.3333333333333333,
             "#9c179e"
            ],
            [
             0.4444444444444444,
             "#bd3786"
            ],
            [
             0.5555555555555556,
             "#d8576b"
            ],
            [
             0.6666666666666666,
             "#ed7953"
            ],
            [
             0.7777777777777778,
             "#fb9f3a"
            ],
            [
             0.8888888888888888,
             "#fdca26"
            ],
            [
             1,
             "#f0f921"
            ]
           ]
          },
          "colorway": [
           "#636efa",
           "#EF553B",
           "#00cc96",
           "#ab63fa",
           "#FFA15A",
           "#19d3f3",
           "#FF6692",
           "#B6E880",
           "#FF97FF",
           "#FECB52"
          ],
          "font": {
           "color": "#2a3f5f"
          },
          "geo": {
           "bgcolor": "white",
           "lakecolor": "white",
           "landcolor": "#E5ECF6",
           "showlakes": true,
           "showland": true,
           "subunitcolor": "white"
          },
          "hoverlabel": {
           "align": "left"
          },
          "hovermode": "closest",
          "mapbox": {
           "style": "light"
          },
          "paper_bgcolor": "white",
          "plot_bgcolor": "#E5ECF6",
          "polar": {
           "angularaxis": {
            "gridcolor": "white",
            "linecolor": "white",
            "ticks": ""
           },
           "bgcolor": "#E5ECF6",
           "radialaxis": {
            "gridcolor": "white",
            "linecolor": "white",
            "ticks": ""
           }
          },
          "scene": {
           "xaxis": {
            "backgroundcolor": "#E5ECF6",
            "gridcolor": "white",
            "gridwidth": 2,
            "linecolor": "white",
            "showbackground": true,
            "ticks": "",
            "zerolinecolor": "white"
           },
           "yaxis": {
            "backgroundcolor": "#E5ECF6",
            "gridcolor": "white",
            "gridwidth": 2,
            "linecolor": "white",
            "showbackground": true,
            "ticks": "",
            "zerolinecolor": "white"
           },
           "zaxis": {
            "backgroundcolor": "#E5ECF6",
            "gridcolor": "white",
            "gridwidth": 2,
            "linecolor": "white",
            "showbackground": true,
            "ticks": "",
            "zerolinecolor": "white"
           }
          },
          "shapedefaults": {
           "line": {
            "color": "#2a3f5f"
           }
          },
          "ternary": {
           "aaxis": {
            "gridcolor": "white",
            "linecolor": "white",
            "ticks": ""
           },
           "baxis": {
            "gridcolor": "white",
            "linecolor": "white",
            "ticks": ""
           },
           "bgcolor": "#E5ECF6",
           "caxis": {
            "gridcolor": "white",
            "linecolor": "white",
            "ticks": ""
           }
          },
          "title": {
           "x": 0.05
          },
          "xaxis": {
           "automargin": true,
           "gridcolor": "white",
           "linecolor": "white",
           "ticks": "",
           "title": {
            "standoff": 15
           },
           "zerolinecolor": "white",
           "zerolinewidth": 2
          },
          "yaxis": {
           "automargin": true,
           "gridcolor": "white",
           "linecolor": "white",
           "ticks": "",
           "title": {
            "standoff": 15
           },
           "zerolinecolor": "white",
           "zerolinewidth": 2
          }
         }
        }
       }
      },
      "text/html": [
       "<div>                            <div id=\"9a79bcf0-d6c2-4b59-b450-525901d30fc1\" class=\"plotly-graph-div\" style=\"height:525px; width:100%;\"></div>            <script type=\"text/javascript\">                require([\"plotly\"], function(Plotly) {                    window.PLOTLYENV=window.PLOTLYENV || {};                                    if (document.getElementById(\"9a79bcf0-d6c2-4b59-b450-525901d30fc1\")) {                    Plotly.newPlot(                        \"9a79bcf0-d6c2-4b59-b450-525901d30fc1\",                        [{\"hole\":0.2,\"labels\":[\"koin_invoice\",\"koin_bisnis\",\"koin_pintar\",\"koin_robo\"],\"type\":\"pie\",\"values\":[1821,315,37,274]}],                        {\"template\":{\"data\":{\"bar\":[{\"error_x\":{\"color\":\"#2a3f5f\"},\"error_y\":{\"color\":\"#2a3f5f\"},\"marker\":{\"line\":{\"color\":\"#E5ECF6\",\"width\":0.5},\"pattern\":{\"fillmode\":\"overlay\",\"size\":10,\"solidity\":0.2}},\"type\":\"bar\"}],\"barpolar\":[{\"marker\":{\"line\":{\"color\":\"#E5ECF6\",\"width\":0.5},\"pattern\":{\"fillmode\":\"overlay\",\"size\":10,\"solidity\":0.2}},\"type\":\"barpolar\"}],\"carpet\":[{\"aaxis\":{\"endlinecolor\":\"#2a3f5f\",\"gridcolor\":\"white\",\"linecolor\":\"white\",\"minorgridcolor\":\"white\",\"startlinecolor\":\"#2a3f5f\"},\"baxis\":{\"endlinecolor\":\"#2a3f5f\",\"gridcolor\":\"white\",\"linecolor\":\"white\",\"minorgridcolor\":\"white\",\"startlinecolor\":\"#2a3f5f\"},\"type\":\"carpet\"}],\"choropleth\":[{\"colorbar\":{\"outlinewidth\":0,\"ticks\":\"\"},\"type\":\"choropleth\"}],\"contour\":[{\"colorbar\":{\"outlinewidth\":0,\"ticks\":\"\"},\"colorscale\":[[0.0,\"#0d0887\"],[0.1111111111111111,\"#46039f\"],[0.2222222222222222,\"#7201a8\"],[0.3333333333333333,\"#9c179e\"],[0.4444444444444444,\"#bd3786\"],[0.5555555555555556,\"#d8576b\"],[0.6666666666666666,\"#ed7953\"],[0.7777777777777778,\"#fb9f3a\"],[0.8888888888888888,\"#fdca26\"],[1.0,\"#f0f921\"]],\"type\":\"contour\"}],\"contourcarpet\":[{\"colorbar\":{\"outlinewidth\":0,\"ticks\":\"\"},\"type\":\"contourcarpet\"}],\"heatmap\":[{\"colorbar\":{\"outlinewidth\":0,\"ticks\":\"\"},\"colorscale\":[[0.0,\"#0d0887\"],[0.1111111111111111,\"#46039f\"],[0.2222222222222222,\"#7201a8\"],[0.3333333333333333,\"#9c179e\"],[0.4444444444444444,\"#bd3786\"],[0.5555555555555556,\"#d8576b\"],[0.6666666666666666,\"#ed7953\"],[0.7777777777777778,\"#fb9f3a\"],[0.8888888888888888,\"#fdca26\"],[1.0,\"#f0f921\"]],\"type\":\"heatmap\"}],\"heatmapgl\":[{\"colorbar\":{\"outlinewidth\":0,\"ticks\":\"\"},\"colorscale\":[[0.0,\"#0d0887\"],[0.1111111111111111,\"#46039f\"],[0.2222222222222222,\"#7201a8\"],[0.3333333333333333,\"#9c179e\"],[0.4444444444444444,\"#bd3786\"],[0.5555555555555556,\"#d8576b\"],[0.6666666666666666,\"#ed7953\"],[0.7777777777777778,\"#fb9f3a\"],[0.8888888888888888,\"#fdca26\"],[1.0,\"#f0f921\"]],\"type\":\"heatmapgl\"}],\"histogram\":[{\"marker\":{\"pattern\":{\"fillmode\":\"overlay\",\"size\":10,\"solidity\":0.2}},\"type\":\"histogram\"}],\"histogram2d\":[{\"colorbar\":{\"outlinewidth\":0,\"ticks\":\"\"},\"colorscale\":[[0.0,\"#0d0887\"],[0.1111111111111111,\"#46039f\"],[0.2222222222222222,\"#7201a8\"],[0.3333333333333333,\"#9c179e\"],[0.4444444444444444,\"#bd3786\"],[0.5555555555555556,\"#d8576b\"],[0.6666666666666666,\"#ed7953\"],[0.7777777777777778,\"#fb9f3a\"],[0.8888888888888888,\"#fdca26\"],[1.0,\"#f0f921\"]],\"type\":\"histogram2d\"}],\"histogram2dcontour\":[{\"colorbar\":{\"outlinewidth\":0,\"ticks\":\"\"},\"colorscale\":[[0.0,\"#0d0887\"],[0.1111111111111111,\"#46039f\"],[0.2222222222222222,\"#7201a8\"],[0.3333333333333333,\"#9c179e\"],[0.4444444444444444,\"#bd3786\"],[0.5555555555555556,\"#d8576b\"],[0.6666666666666666,\"#ed7953\"],[0.7777777777777778,\"#fb9f3a\"],[0.8888888888888888,\"#fdca26\"],[1.0,\"#f0f921\"]],\"type\":\"histogram2dcontour\"}],\"mesh3d\":[{\"colorbar\":{\"outlinewidth\":0,\"ticks\":\"\"},\"type\":\"mesh3d\"}],\"parcoords\":[{\"line\":{\"colorbar\":{\"outlinewidth\":0,\"ticks\":\"\"}},\"type\":\"parcoords\"}],\"pie\":[{\"automargin\":true,\"type\":\"pie\"}],\"scatter\":[{\"marker\":{\"colorbar\":{\"outlinewidth\":0,\"ticks\":\"\"}},\"type\":\"scatter\"}],\"scatter3d\":[{\"line\":{\"colorbar\":{\"outlinewidth\":0,\"ticks\":\"\"}},\"marker\":{\"colorbar\":{\"outlinewidth\":0,\"ticks\":\"\"}},\"type\":\"scatter3d\"}],\"scattercarpet\":[{\"marker\":{\"colorbar\":{\"outlinewidth\":0,\"ticks\":\"\"}},\"type\":\"scattercarpet\"}],\"scattergeo\":[{\"marker\":{\"colorbar\":{\"outlinewidth\":0,\"ticks\":\"\"}},\"type\":\"scattergeo\"}],\"scattergl\":[{\"marker\":{\"colorbar\":{\"outlinewidth\":0,\"ticks\":\"\"}},\"type\":\"scattergl\"}],\"scattermapbox\":[{\"marker\":{\"colorbar\":{\"outlinewidth\":0,\"ticks\":\"\"}},\"type\":\"scattermapbox\"}],\"scatterpolar\":[{\"marker\":{\"colorbar\":{\"outlinewidth\":0,\"ticks\":\"\"}},\"type\":\"scatterpolar\"}],\"scatterpolargl\":[{\"marker\":{\"colorbar\":{\"outlinewidth\":0,\"ticks\":\"\"}},\"type\":\"scatterpolargl\"}],\"scatterternary\":[{\"marker\":{\"colorbar\":{\"outlinewidth\":0,\"ticks\":\"\"}},\"type\":\"scatterternary\"}],\"surface\":[{\"colorbar\":{\"outlinewidth\":0,\"ticks\":\"\"},\"colorscale\":[[0.0,\"#0d0887\"],[0.1111111111111111,\"#46039f\"],[0.2222222222222222,\"#7201a8\"],[0.3333333333333333,\"#9c179e\"],[0.4444444444444444,\"#bd3786\"],[0.5555555555555556,\"#d8576b\"],[0.6666666666666666,\"#ed7953\"],[0.7777777777777778,\"#fb9f3a\"],[0.8888888888888888,\"#fdca26\"],[1.0,\"#f0f921\"]],\"type\":\"surface\"}],\"table\":[{\"cells\":{\"fill\":{\"color\":\"#EBF0F8\"},\"line\":{\"color\":\"white\"}},\"header\":{\"fill\":{\"color\":\"#C8D4E3\"},\"line\":{\"color\":\"white\"}},\"type\":\"table\"}]},\"layout\":{\"annotationdefaults\":{\"arrowcolor\":\"#2a3f5f\",\"arrowhead\":0,\"arrowwidth\":1},\"autotypenumbers\":\"strict\",\"coloraxis\":{\"colorbar\":{\"outlinewidth\":0,\"ticks\":\"\"}},\"colorscale\":{\"diverging\":[[0,\"#8e0152\"],[0.1,\"#c51b7d\"],[0.2,\"#de77ae\"],[0.3,\"#f1b6da\"],[0.4,\"#fde0ef\"],[0.5,\"#f7f7f7\"],[0.6,\"#e6f5d0\"],[0.7,\"#b8e186\"],[0.8,\"#7fbc41\"],[0.9,\"#4d9221\"],[1,\"#276419\"]],\"sequential\":[[0.0,\"#0d0887\"],[0.1111111111111111,\"#46039f\"],[0.2222222222222222,\"#7201a8\"],[0.3333333333333333,\"#9c179e\"],[0.4444444444444444,\"#bd3786\"],[0.5555555555555556,\"#d8576b\"],[0.6666666666666666,\"#ed7953\"],[0.7777777777777778,\"#fb9f3a\"],[0.8888888888888888,\"#fdca26\"],[1.0,\"#f0f921\"]],\"sequentialminus\":[[0.0,\"#0d0887\"],[0.1111111111111111,\"#46039f\"],[0.2222222222222222,\"#7201a8\"],[0.3333333333333333,\"#9c179e\"],[0.4444444444444444,\"#bd3786\"],[0.5555555555555556,\"#d8576b\"],[0.6666666666666666,\"#ed7953\"],[0.7777777777777778,\"#fb9f3a\"],[0.8888888888888888,\"#fdca26\"],[1.0,\"#f0f921\"]]},\"colorway\":[\"#636efa\",\"#EF553B\",\"#00cc96\",\"#ab63fa\",\"#FFA15A\",\"#19d3f3\",\"#FF6692\",\"#B6E880\",\"#FF97FF\",\"#FECB52\"],\"font\":{\"color\":\"#2a3f5f\"},\"geo\":{\"bgcolor\":\"white\",\"lakecolor\":\"white\",\"landcolor\":\"#E5ECF6\",\"showlakes\":true,\"showland\":true,\"subunitcolor\":\"white\"},\"hoverlabel\":{\"align\":\"left\"},\"hovermode\":\"closest\",\"mapbox\":{\"style\":\"light\"},\"paper_bgcolor\":\"white\",\"plot_bgcolor\":\"#E5ECF6\",\"polar\":{\"angularaxis\":{\"gridcolor\":\"white\",\"linecolor\":\"white\",\"ticks\":\"\"},\"bgcolor\":\"#E5ECF6\",\"radialaxis\":{\"gridcolor\":\"white\",\"linecolor\":\"white\",\"ticks\":\"\"}},\"scene\":{\"xaxis\":{\"backgroundcolor\":\"#E5ECF6\",\"gridcolor\":\"white\",\"gridwidth\":2,\"linecolor\":\"white\",\"showbackground\":true,\"ticks\":\"\",\"zerolinecolor\":\"white\"},\"yaxis\":{\"backgroundcolor\":\"#E5ECF6\",\"gridcolor\":\"white\",\"gridwidth\":2,\"linecolor\":\"white\",\"showbackground\":true,\"ticks\":\"\",\"zerolinecolor\":\"white\"},\"zaxis\":{\"backgroundcolor\":\"#E5ECF6\",\"gridcolor\":\"white\",\"gridwidth\":2,\"linecolor\":\"white\",\"showbackground\":true,\"ticks\":\"\",\"zerolinecolor\":\"white\"}},\"shapedefaults\":{\"line\":{\"color\":\"#2a3f5f\"}},\"ternary\":{\"aaxis\":{\"gridcolor\":\"white\",\"linecolor\":\"white\",\"ticks\":\"\"},\"baxis\":{\"gridcolor\":\"white\",\"linecolor\":\"white\",\"ticks\":\"\"},\"bgcolor\":\"#E5ECF6\",\"caxis\":{\"gridcolor\":\"white\",\"linecolor\":\"white\",\"ticks\":\"\"}},\"title\":{\"x\":0.05},\"xaxis\":{\"automargin\":true,\"gridcolor\":\"white\",\"linecolor\":\"white\",\"ticks\":\"\",\"title\":{\"standoff\":15},\"zerolinecolor\":\"white\",\"zerolinewidth\":2},\"yaxis\":{\"automargin\":true,\"gridcolor\":\"white\",\"linecolor\":\"white\",\"ticks\":\"\",\"title\":{\"standoff\":15},\"zerolinecolor\":\"white\",\"zerolinewidth\":2}}}},                        {\"responsive\": true}                    ).then(function(){\n",
       "                            \n",
       "var gd = document.getElementById('9a79bcf0-d6c2-4b59-b450-525901d30fc1');\n",
       "var x = new MutationObserver(function (mutations, observer) {{\n",
       "        var display = window.getComputedStyle(gd).display;\n",
       "        if (!display || display === 'none') {{\n",
       "            console.log([gd, 'removed!']);\n",
       "            Plotly.purge(gd);\n",
       "            observer.disconnect();\n",
       "        }}\n",
       "}});\n",
       "\n",
       "// Listen for the removal of the full notebook cells\n",
       "var notebookContainer = gd.closest('#notebook-container');\n",
       "if (notebookContainer) {{\n",
       "    x.observe(notebookContainer, {childList: true});\n",
       "}}\n",
       "\n",
       "// Listen for the clearing of the current output cell\n",
       "var outputEl = gd.closest('.output');\n",
       "if (outputEl) {{\n",
       "    x.observe(outputEl, {childList: true});\n",
       "}}\n",
       "\n",
       "                        })                };                });            </script>        </div>"
      ]
     },
     "metadata": {},
     "output_type": "display_data"
    },
    {
     "name": "stdout",
     "output_type": "stream",
     "text": [
      "koin_invoice    1821\n",
      "koin_bisnis      315\n",
      "koin_robo        274\n",
      "koin_pintar       37\n",
      "Name: sub_product, dtype: int64\n"
     ]
    }
   ],
   "source": [
    "##Exploratory Data Analysis of Categorical Data \n",
    "#Subproduct Distribution\n",
    "labels = koin.sub_product.unique()\n",
    "values=[]\n",
    "for each in labels:\n",
    "    values.append(len(koin[koin.sub_product==each]))\n",
    "\n",
    "#donut-like pie chart\n",
    "fig = go.Figure(data=[go.Pie(labels=labels, values=values, hole=.2)])\n",
    "fig.show()\n",
    "\n",
    "subprod = koin[\"sub_product\"]\n",
    "print(subprod.value_counts())"
   ]
  },
  {
   "cell_type": "code",
   "execution_count": 13,
   "id": "cda41fc2",
   "metadata": {},
   "outputs": [
    {
     "name": "stdout",
     "output_type": "stream",
     "text": [
      "success                 1944\n",
      "failed                   337\n",
      "internal_cancel          145\n",
      "waiting_for_transfer      21\n",
      "Name: order_status, dtype: int64\n"
     ]
    },
    {
     "name": "stderr",
     "output_type": "stream",
     "text": [
      "<ipython-input-13-8e714421ead1>:16: UserWarning:\n",
      "\n",
      "Matplotlib is currently using agg, which is a non-GUI backend, so cannot show the figure.\n",
      "\n"
     ]
    }
   ],
   "source": [
    "#Order status Distribution\n",
    "status = koin[\"order_status\"]\n",
    "print(status.value_counts())\n",
    "\n",
    "#visualization\n",
    "labels = ['success', 'failed', 'internal_cancel', 'waiting_for_transfer']\n",
    "size = koin['order_status'].value_counts()\n",
    "colors = ['lightgreen', 'orange','yellow','lightblue']\n",
    "explode = [0, 0.1]\n",
    "\n",
    "plt.rcParams['figure.figsize'] = (10, 8)\n",
    "plt.pie(size, colors = colors, labels = labels, shadow = True, autopct = '%.2f%%')\n",
    "plt.title('Order Status', fontsize = 15)\n",
    "plt.axis('off')\n",
    "plt.legend()\n",
    "plt.show()\n",
    "\n",
    "%matplotlib inline"
   ]
  },
  {
   "cell_type": "code",
   "execution_count": 14,
   "id": "5aa5620b",
   "metadata": {
    "scrolled": true
   },
   "outputs": [
    {
     "data": {
      "image/png": "[encoded data removed]",
      "text/plain": [
       "<Figure size 576x432 with 1 Axes>"
      ]
     },
     "metadata": {
      "needs_background": "light"
     },
     "output_type": "display_data"
    },
    {
     "name": "stdout",
     "output_type": "stream",
     "text": [
      "C1    658\n",
      "A     274\n",
      "B2    273\n",
      "B4    235\n",
      "B5    175\n",
      "A1    167\n",
      "B3    140\n",
      "A2    110\n",
      "E4    105\n",
      "B1     96\n",
      "A5     82\n",
      "D1     64\n",
      "C2     58\n",
      "C5      8\n",
      "A4      2\n",
      "Name: loan_grade, dtype: int64\n"
     ]
    }
   ],
   "source": [
    "plt.figure(figsize=(8,6))\n",
    "sns.countplot(data=koin, x='loan_grade')\n",
    "plt.xticks(rotation=80)\n",
    "plt.title('Loan Grade',color = 'blue',fontsize=15)\n",
    "plt.show()\n",
    "\n",
    "%matplotlib inline\n",
    "\n",
    "loangrade = koin[\"loan_grade\"]\n",
    "print(loangrade.value_counts())"
   ]
  },
  {
   "cell_type": "code",
   "execution_count": 15,
   "id": "a2b7692c",
   "metadata": {},
   "outputs": [
    {
     "data": {
      "image/png": "[encoded data removed]",
      "text/plain": [
       "<Figure size 1440x432 with 1 Axes>"
      ]
     },
     "metadata": {},
     "output_type": "display_data"
    }
   ],
   "source": [
    "sns.set_theme(style='darkgrid')\n",
    "sns.set(rc = {'figure.figsize':(20, 6)})\n",
    "grade = sns.countplot(x=\"sub_product\", data = koin, hue = \"order_status\", order = koin[\"sub_product\"].value_counts().index)\n",
    "grade.tick_params(axis='x', rotation=60)\n",
    "plt.title(\"Analisis Bivariate hubungan antara 'sub produk' dan 'order status'\")\n",
    "plt.show()\n",
    "\n",
    "%matplotlib inline"
   ]
  },
  {
   "cell_type": "code",
   "execution_count": 16,
   "id": "a7271c1e",
   "metadata": {},
   "outputs": [
    {
     "data": {
      "image/png": "[encoded data removed]",
      "text/plain": [
       "<Figure size 1080x720 with 1 Axes>"
      ]
     },
     "metadata": {
      "needs_background": "light"
     },
     "output_type": "display_data"
    }
   ],
   "source": [
    "plt.subplots(figsize=(15,10))\n",
    "wordcloud = WordCloud(\n",
    "                          background_color='black',\n",
    "                          width=1920,\n",
    "                          height=1080\n",
    "                         ).generate(\" \".join(koin.loan_grade))\n",
    "plt.imshow(wordcloud)\n",
    "plt.axis('off')\n",
    "plt.show()\n",
    "\n",
    "%matplotlib inline"
   ]
  },
  {
   "cell_type": "code",
   "execution_count": 17,
   "id": "ca70a792",
   "metadata": {
    "scrolled": false
   },
   "outputs": [
    {
     "data": {
      "text/html": [
       "<div>\n",
       "<style scoped>\n",
       "    .dataframe tbody tr th:only-of-type {\n",
       "        vertical-align: middle;\n",
       "    }\n",
       "\n",
       "    .dataframe tbody tr th {\n",
       "        vertical-align: top;\n",
       "    }\n",
       "\n",
       "    .dataframe thead th {\n",
       "        text-align: right;\n",
       "    }\n",
       "</style>\n",
       "<table border=\"1\" class=\"dataframe\">\n",
       "  <thead>\n",
       "    <tr style=\"text-align: right;\">\n",
       "      <th></th>\n",
       "      <th>user_name</th>\n",
       "      <th>loan_duration</th>\n",
       "      <th>loan_grade</th>\n",
       "      <th>lender_interest</th>\n",
       "      <th>totalpurc</th>\n",
       "      <th>order_status</th>\n",
       "      <th>order_type</th>\n",
       "      <th>sub_product</th>\n",
       "    </tr>\n",
       "  </thead>\n",
       "  <tbody>\n",
       "    <tr>\n",
       "      <th>0</th>\n",
       "      <td>User 1580</td>\n",
       "      <td>2</td>\n",
       "      <td>A5</td>\n",
       "      <td>14.4</td>\n",
       "      <td>&gt;=100000-4999999</td>\n",
       "      <td>success</td>\n",
       "      <td>auto</td>\n",
       "      <td>koin_invoice</td>\n",
       "    </tr>\n",
       "    <tr>\n",
       "      <th>1</th>\n",
       "      <td>User 1581</td>\n",
       "      <td>3</td>\n",
       "      <td>B2</td>\n",
       "      <td>14.0</td>\n",
       "      <td>&lt;100000</td>\n",
       "      <td>failed</td>\n",
       "      <td>auto</td>\n",
       "      <td>koin_invoice</td>\n",
       "    </tr>\n",
       "    <tr>\n",
       "      <th>2</th>\n",
       "      <td>User 1582</td>\n",
       "      <td>3</td>\n",
       "      <td>B2</td>\n",
       "      <td>14.0</td>\n",
       "      <td>&lt;100000</td>\n",
       "      <td>failed</td>\n",
       "      <td>auto</td>\n",
       "      <td>koin_invoice</td>\n",
       "    </tr>\n",
       "    <tr>\n",
       "      <th>3</th>\n",
       "      <td>User 1583</td>\n",
       "      <td>2</td>\n",
       "      <td>A5</td>\n",
       "      <td>14.4</td>\n",
       "      <td>&gt;=100000-4999999</td>\n",
       "      <td>success</td>\n",
       "      <td>manual</td>\n",
       "      <td>koin_invoice</td>\n",
       "    </tr>\n",
       "    <tr>\n",
       "      <th>4</th>\n",
       "      <td>User 1584</td>\n",
       "      <td>1</td>\n",
       "      <td>B2</td>\n",
       "      <td>16.6</td>\n",
       "      <td>&gt;=100000-4999999</td>\n",
       "      <td>success</td>\n",
       "      <td>auto</td>\n",
       "      <td>koin_invoice</td>\n",
       "    </tr>\n",
       "  </tbody>\n",
       "</table>\n",
       "</div>"
      ],
      "text/plain": [
       "   user_name  loan_duration loan_grade  lender_interest         totalpurc  \\\n",
       "0  User 1580              2         A5             14.4  >=100000-4999999   \n",
       "1  User 1581              3         B2             14.0           <100000   \n",
       "2  User 1582              3         B2             14.0           <100000   \n",
       "3  User 1583              2         A5             14.4  >=100000-4999999   \n",
       "4  User 1584              1         B2             16.6  >=100000-4999999   \n",
       "\n",
       "  order_status order_type   sub_product  \n",
       "0      success       auto  koin_invoice  \n",
       "1       failed       auto  koin_invoice  \n",
       "2       failed       auto  koin_invoice  \n",
       "3      success     manual  koin_invoice  \n",
       "4      success       auto  koin_invoice  "
      ]
     },
     "execution_count": 17,
     "metadata": {},
     "output_type": "execute_result"
    }
   ],
   "source": [
    "df2 = koin.drop(['product','order_date','total_purchase'], axis=1)\n",
    "\n",
    "df2.head()"
   ]
  },
  {
   "cell_type": "code",
   "execution_count": 18,
   "id": "022e41be",
   "metadata": {
    "scrolled": true
   },
   "outputs": [
    {
     "name": "stderr",
     "output_type": "stream",
     "text": [
      "<ipython-input-18-869573d0c220>:1: SettingWithCopyWarning:\n",
      "\n",
      "\n",
      "A value is trying to be set on a copy of a slice from a DataFrame.\n",
      "Try using .loc[row_indexer,col_indexer] = value instead\n",
      "\n",
      "See the caveats in the documentation: https://pandas.pydata.org/pandas-docs/stable/user_guide/indexing.html#returning-a-view-versus-a-copy\n",
      "\n"
     ]
    },
    {
     "data": {
      "text/plain": [
       "0    2339\n",
       "1     108\n",
       "Name: order_type, dtype: int64"
      ]
     },
     "execution_count": 18,
     "metadata": {},
     "output_type": "execute_result"
    }
   ],
   "source": [
    "koin['order_type'] = koin['order_type'].replace({'manual': 0, 'auto': 1})\n",
    "koin['order_type'].value_counts()"
   ]
  },
  {
   "cell_type": "code",
   "execution_count": 19,
   "id": "3df1edea",
   "metadata": {},
   "outputs": [
    {
     "name": "stderr",
     "output_type": "stream",
     "text": [
      "<ipython-input-19-9d040ca14e79>:1: SettingWithCopyWarning:\n",
      "\n",
      "\n",
      "A value is trying to be set on a copy of a slice from a DataFrame.\n",
      "Try using .loc[row_indexer,col_indexer] = value instead\n",
      "\n",
      "See the caveats in the documentation: https://pandas.pydata.org/pandas-docs/stable/user_guide/indexing.html#returning-a-view-versus-a-copy\n",
      "\n"
     ]
    },
    {
     "data": {
      "text/plain": [
       "0    1821\n",
       "1     315\n",
       "3     274\n",
       "2      37\n",
       "Name: sub_product, dtype: int64"
      ]
     },
     "execution_count": 19,
     "metadata": {},
     "output_type": "execute_result"
    }
   ],
   "source": [
    "koin['sub_product'] = koin['sub_product'].replace({'koin_invoice': 0, 'koin_bisnis': 1,'koin_pintar':2,'koin_robo':3})\n",
    "koin['sub_product'].value_counts()"
   ]
  },
  {
   "cell_type": "code",
   "execution_count": 20,
   "id": "73144b7e",
   "metadata": {},
   "outputs": [
    {
     "name": "stderr",
     "output_type": "stream",
     "text": [
      "<ipython-input-20-0ea6ce0549a2>:1: SettingWithCopyWarning:\n",
      "\n",
      "\n",
      "A value is trying to be set on a copy of a slice from a DataFrame.\n",
      "Try using .loc[row_indexer,col_indexer] = value instead\n",
      "\n",
      "See the caveats in the documentation: https://pandas.pydata.org/pandas-docs/stable/user_guide/indexing.html#returning-a-view-versus-a-copy\n",
      "\n"
     ]
    },
    {
     "data": {
      "text/plain": [
       "0    1944\n",
       "1     337\n",
       "2     145\n",
       "3      21\n",
       "Name: order_status, dtype: int64"
      ]
     },
     "execution_count": 20,
     "metadata": {},
     "output_type": "execute_result"
    }
   ],
   "source": [
    "koin['order_status'] = koin['order_status'].replace({'success': 0, 'failed': 1,'internal_cancel':2,'waiting_for_transfer':3})\n",
    "koin['order_status'].value_counts()"
   ]
  },
  {
   "cell_type": "code",
   "execution_count": 21,
   "id": "0981e4cc",
   "metadata": {
    "scrolled": true
   },
   "outputs": [
    {
     "name": "stderr",
     "output_type": "stream",
     "text": [
      "<ipython-input-21-4e9a6cf14b23>:1: SettingWithCopyWarning:\n",
      "\n",
      "\n",
      "A value is trying to be set on a copy of a slice from a DataFrame.\n",
      "Try using .loc[row_indexer,col_indexer] = value instead\n",
      "\n",
      "See the caveats in the documentation: https://pandas.pydata.org/pandas-docs/stable/user_guide/indexing.html#returning-a-view-versus-a-copy\n",
      "\n"
     ]
    },
    {
     "data": {
      "text/plain": [
       "1    1749\n",
       "0     502\n",
       "2     146\n",
       "3      50\n",
       "Name: totalpurc, dtype: int64"
      ]
     },
     "execution_count": 21,
     "metadata": {},
     "output_type": "execute_result"
    }
   ],
   "source": [
    "koin['totalpurc'] = koin['totalpurc'].replace({'<100000': 0, '>=100000-4999999': 1,'>=5000000-49999999':2,'>=50000000':3})\n",
    "koin['totalpurc'].value_counts()"
   ]
  },
  {
   "cell_type": "code",
   "execution_count": 22,
   "id": "68107947",
   "metadata": {
    "scrolled": true
   },
   "outputs": [
    {
     "name": "stderr",
     "output_type": "stream",
     "text": [
      "<ipython-input-22-0ce5833064cc>:1: SettingWithCopyWarning:\n",
      "\n",
      "\n",
      "A value is trying to be set on a copy of a slice from a DataFrame.\n",
      "Try using .loc[row_indexer,col_indexer] = value instead\n",
      "\n",
      "See the caveats in the documentation: https://pandas.pydata.org/pandas-docs/stable/user_guide/indexing.html#returning-a-view-versus-a-copy\n",
      "\n"
     ]
    },
    {
     "data": {
      "text/plain": [
       "11    658\n",
       "0     274\n",
       "7     273\n",
       "9     235\n",
       "10    175\n",
       "1     167\n",
       "8     140\n",
       "2     110\n",
       "15    105\n",
       "6      96\n",
       "5      82\n",
       "14     64\n",
       "12     58\n",
       "13      8\n",
       "4       2\n",
       "Name: loan_grade, dtype: int64"
      ]
     },
     "execution_count": 22,
     "metadata": {},
     "output_type": "execute_result"
    }
   ],
   "source": [
    "koin['loan_grade'] = koin['loan_grade'].replace({'A': 0, 'A1': 1,'A2':2,'A4':4,'A5':5,'B1':6,'B2':7,'B3':8,'B4':9,'B5':10,'C1':11,'C2':12,'C5':13,'D1':14,'E4':15})\n",
    "koin['loan_grade'].value_counts()"
   ]
  },
  {
   "cell_type": "code",
   "execution_count": 23,
   "id": "f92c9a0c",
   "metadata": {
    "scrolled": true
   },
   "outputs": [
    {
     "name": "stdout",
     "output_type": "stream",
     "text": [
      "(2447, 14)\n"
     ]
    }
   ],
   "source": [
    "#Now one hot encoding\n",
    "koin_new=pd.get_dummies(koin, columns=['order_status'],drop_first=False)\n",
    "print(koin_new.shape)"
   ]
  },
  {
   "cell_type": "code",
   "execution_count": 24,
   "id": "63c68de7",
   "metadata": {
    "scrolled": false
   },
   "outputs": [
    {
     "data": {
      "text/plain": [
       "Index(['user_name', 'loan_duration', 'loan_grade', 'lender_interest',\n",
       "       'totalpurc', 'total_purchase', 'order_type', 'order_date', 'product',\n",
       "       'sub_product', 'order_status_0', 'order_status_1', 'order_status_2',\n",
       "       'order_status_3'],\n",
       "      dtype='object')"
      ]
     },
     "execution_count": 24,
     "metadata": {},
     "output_type": "execute_result"
    }
   ],
   "source": [
    "koin_new.columns"
   ]
  },
  {
   "cell_type": "code",
   "execution_count": 25,
   "id": "13b74017",
   "metadata": {},
   "outputs": [
    {
     "data": {
      "text/html": [
       "<div>\n",
       "<style scoped>\n",
       "    .dataframe tbody tr th:only-of-type {\n",
       "        vertical-align: middle;\n",
       "    }\n",
       "\n",
       "    .dataframe tbody tr th {\n",
       "        vertical-align: top;\n",
       "    }\n",
       "\n",
       "    .dataframe thead th {\n",
       "        text-align: right;\n",
       "    }\n",
       "</style>\n",
       "<table border=\"1\" class=\"dataframe\">\n",
       "  <thead>\n",
       "    <tr style=\"text-align: right;\">\n",
       "      <th></th>\n",
       "      <th>loan_duration</th>\n",
       "      <th>loan_grade</th>\n",
       "      <th>lender_interest</th>\n",
       "      <th>totalpurc</th>\n",
       "      <th>total_purchase</th>\n",
       "      <th>order_type</th>\n",
       "      <th>sub_product</th>\n",
       "      <th>order_status_0</th>\n",
       "      <th>order_status_1</th>\n",
       "      <th>order_status_2</th>\n",
       "      <th>order_status_3</th>\n",
       "    </tr>\n",
       "  </thead>\n",
       "  <tbody>\n",
       "    <tr>\n",
       "      <th>loan_duration</th>\n",
       "      <td>1.000000</td>\n",
       "      <td>0.328564</td>\n",
       "      <td>0.351152</td>\n",
       "      <td>-0.241729</td>\n",
       "      <td>-0.046374</td>\n",
       "      <td>0.022451</td>\n",
       "      <td>0.420481</td>\n",
       "      <td>-0.302720</td>\n",
       "      <td>0.316181</td>\n",
       "      <td>0.072908</td>\n",
       "      <td>-0.041625</td>\n",
       "    </tr>\n",
       "    <tr>\n",
       "      <th>loan_grade</th>\n",
       "      <td>0.328564</td>\n",
       "      <td>1.000000</td>\n",
       "      <td>0.616004</td>\n",
       "      <td>-0.394251</td>\n",
       "      <td>-0.143416</td>\n",
       "      <td>0.030590</td>\n",
       "      <td>-0.426617</td>\n",
       "      <td>-0.389799</td>\n",
       "      <td>0.339422</td>\n",
       "      <td>0.192547</td>\n",
       "      <td>-0.053196</td>\n",
       "    </tr>\n",
       "    <tr>\n",
       "      <th>lender_interest</th>\n",
       "      <td>0.351152</td>\n",
       "      <td>0.616004</td>\n",
       "      <td>1.000000</td>\n",
       "      <td>-0.307686</td>\n",
       "      <td>-0.087174</td>\n",
       "      <td>0.033346</td>\n",
       "      <td>-0.240272</td>\n",
       "      <td>-0.338019</td>\n",
       "      <td>0.347730</td>\n",
       "      <td>0.077445</td>\n",
       "      <td>-0.016459</td>\n",
       "    </tr>\n",
       "    <tr>\n",
       "      <th>totalpurc</th>\n",
       "      <td>-0.241729</td>\n",
       "      <td>-0.394251</td>\n",
       "      <td>-0.307686</td>\n",
       "      <td>1.000000</td>\n",
       "      <td>0.540952</td>\n",
       "      <td>-0.009277</td>\n",
       "      <td>0.140757</td>\n",
       "      <td>0.784453</td>\n",
       "      <td>-0.617689</td>\n",
       "      <td>-0.384919</td>\n",
       "      <td>-0.143801</td>\n",
       "    </tr>\n",
       "    <tr>\n",
       "      <th>total_purchase</th>\n",
       "      <td>-0.046374</td>\n",
       "      <td>-0.143416</td>\n",
       "      <td>-0.087174</td>\n",
       "      <td>0.540952</td>\n",
       "      <td>1.000000</td>\n",
       "      <td>-0.012528</td>\n",
       "      <td>0.156582</td>\n",
       "      <td>0.097846</td>\n",
       "      <td>-0.076880</td>\n",
       "      <td>-0.048269</td>\n",
       "      <td>-0.017898</td>\n",
       "    </tr>\n",
       "    <tr>\n",
       "      <th>order_type</th>\n",
       "      <td>0.022451</td>\n",
       "      <td>0.030590</td>\n",
       "      <td>0.033346</td>\n",
       "      <td>-0.009277</td>\n",
       "      <td>-0.012528</td>\n",
       "      <td>1.000000</td>\n",
       "      <td>-0.051892</td>\n",
       "      <td>-0.008861</td>\n",
       "      <td>-0.074328</td>\n",
       "      <td>0.131463</td>\n",
       "      <td>-0.019992</td>\n",
       "    </tr>\n",
       "    <tr>\n",
       "      <th>sub_product</th>\n",
       "      <td>0.420481</td>\n",
       "      <td>-0.426617</td>\n",
       "      <td>-0.240272</td>\n",
       "      <td>0.140757</td>\n",
       "      <td>0.156582</td>\n",
       "      <td>-0.051892</td>\n",
       "      <td>1.000000</td>\n",
       "      <td>0.035166</td>\n",
       "      <td>0.001485</td>\n",
       "      <td>-0.043921</td>\n",
       "      <td>-0.047189</td>\n",
       "    </tr>\n",
       "    <tr>\n",
       "      <th>order_status_0</th>\n",
       "      <td>-0.302720</td>\n",
       "      <td>-0.389799</td>\n",
       "      <td>-0.338019</td>\n",
       "      <td>0.784453</td>\n",
       "      <td>0.097846</td>\n",
       "      <td>-0.008861</td>\n",
       "      <td>0.035166</td>\n",
       "      <td>1.000000</td>\n",
       "      <td>-0.785666</td>\n",
       "      <td>-0.493396</td>\n",
       "      <td>-0.182906</td>\n",
       "    </tr>\n",
       "    <tr>\n",
       "      <th>order_status_1</th>\n",
       "      <td>0.316181</td>\n",
       "      <td>0.339422</td>\n",
       "      <td>0.347730</td>\n",
       "      <td>-0.617689</td>\n",
       "      <td>-0.076880</td>\n",
       "      <td>-0.074328</td>\n",
       "      <td>0.001485</td>\n",
       "      <td>-0.785666</td>\n",
       "      <td>1.000000</td>\n",
       "      <td>-0.100301</td>\n",
       "      <td>-0.037182</td>\n",
       "    </tr>\n",
       "    <tr>\n",
       "      <th>order_status_2</th>\n",
       "      <td>0.072908</td>\n",
       "      <td>0.192547</td>\n",
       "      <td>0.077445</td>\n",
       "      <td>-0.384919</td>\n",
       "      <td>-0.048269</td>\n",
       "      <td>0.131463</td>\n",
       "      <td>-0.043921</td>\n",
       "      <td>-0.493396</td>\n",
       "      <td>-0.100301</td>\n",
       "      <td>1.000000</td>\n",
       "      <td>-0.023350</td>\n",
       "    </tr>\n",
       "    <tr>\n",
       "      <th>order_status_3</th>\n",
       "      <td>-0.041625</td>\n",
       "      <td>-0.053196</td>\n",
       "      <td>-0.016459</td>\n",
       "      <td>-0.143801</td>\n",
       "      <td>-0.017898</td>\n",
       "      <td>-0.019992</td>\n",
       "      <td>-0.047189</td>\n",
       "      <td>-0.182906</td>\n",
       "      <td>-0.037182</td>\n",
       "      <td>-0.023350</td>\n",
       "      <td>1.000000</td>\n",
       "    </tr>\n",
       "  </tbody>\n",
       "</table>\n",
       "</div>"
      ],
      "text/plain": [
       "                 loan_duration  loan_grade  lender_interest  totalpurc  \\\n",
       "loan_duration         1.000000    0.328564         0.351152  -0.241729   \n",
       "loan_grade            0.328564    1.000000         0.616004  -0.394251   \n",
       "lender_interest       0.351152    0.616004         1.000000  -0.307686   \n",
       "totalpurc            -0.241729   -0.394251        -0.307686   1.000000   \n",
       "total_purchase       -0.046374   -0.143416        -0.087174   0.540952   \n",
       "order_type            0.022451    0.030590         0.033346  -0.009277   \n",
       "sub_product           0.420481   -0.426617        -0.240272   0.140757   \n",
       "order_status_0       -0.302720   -0.389799        -0.338019   0.784453   \n",
       "order_status_1        0.316181    0.339422         0.347730  -0.617689   \n",
       "order_status_2        0.072908    0.192547         0.077445  -0.384919   \n",
       "order_status_3       -0.041625   -0.053196        -0.016459  -0.143801   \n",
       "\n",
       "                 total_purchase  order_type  sub_product  order_status_0  \\\n",
       "loan_duration         -0.046374    0.022451     0.420481       -0.302720   \n",
       "loan_grade            -0.143416    0.030590    -0.426617       -0.389799   \n",
       "lender_interest       -0.087174    0.033346    -0.240272       -0.338019   \n",
       "totalpurc              0.540952   -0.009277     0.140757        0.784453   \n",
       "total_purchase         1.000000   -0.012528     0.156582        0.097846   \n",
       "order_type            -0.012528    1.000000    -0.051892       -0.008861   \n",
       "sub_product            0.156582   -0.051892     1.000000        0.035166   \n",
       "order_status_0         0.097846   -0.008861     0.035166        1.000000   \n",
       "order_status_1        -0.076880   -0.074328     0.001485       -0.785666   \n",
       "order_status_2        -0.048269    0.131463    -0.043921       -0.493396   \n",
       "order_status_3        -0.017898   -0.019992    -0.047189       -0.182906   \n",
       "\n",
       "                 order_status_1  order_status_2  order_status_3  \n",
       "loan_duration          0.316181        0.072908       -0.041625  \n",
       "loan_grade             0.339422        0.192547       -0.053196  \n",
       "lender_interest        0.347730        0.077445       -0.016459  \n",
       "totalpurc             -0.617689       -0.384919       -0.143801  \n",
       "total_purchase        -0.076880       -0.048269       -0.017898  \n",
       "order_type            -0.074328        0.131463       -0.019992  \n",
       "sub_product            0.001485       -0.043921       -0.047189  \n",
       "order_status_0        -0.785666       -0.493396       -0.182906  \n",
       "order_status_1         1.000000       -0.100301       -0.037182  \n",
       "order_status_2        -0.100301        1.000000       -0.023350  \n",
       "order_status_3        -0.037182       -0.023350        1.000000  "
      ]
     },
     "execution_count": 25,
     "metadata": {},
     "output_type": "execute_result"
    }
   ],
   "source": [
    "cor=koin_new.corr()\n",
    "cor"
   ]
  },
  {
   "cell_type": "code",
   "execution_count": 26,
   "id": "1d7d0cea",
   "metadata": {},
   "outputs": [
    {
     "data": {
      "text/html": [
       "<div>\n",
       "<style scoped>\n",
       "    .dataframe tbody tr th:only-of-type {\n",
       "        vertical-align: middle;\n",
       "    }\n",
       "\n",
       "    .dataframe tbody tr th {\n",
       "        vertical-align: top;\n",
       "    }\n",
       "\n",
       "    .dataframe thead th {\n",
       "        text-align: right;\n",
       "    }\n",
       "</style>\n",
       "<table border=\"1\" class=\"dataframe\">\n",
       "  <thead>\n",
       "    <tr style=\"text-align: right;\">\n",
       "      <th></th>\n",
       "      <th>loan_duration</th>\n",
       "      <th>lender_interest</th>\n",
       "      <th>totalpurc</th>\n",
       "      <th>order_status_0</th>\n",
       "      <th>order_status_1</th>\n",
       "      <th>order_status_2</th>\n",
       "      <th>order_status_3</th>\n",
       "    </tr>\n",
       "  </thead>\n",
       "  <tbody>\n",
       "    <tr>\n",
       "      <th>0</th>\n",
       "      <td>2</td>\n",
       "      <td>14.4</td>\n",
       "      <td>1</td>\n",
       "      <td>1</td>\n",
       "      <td>0</td>\n",
       "      <td>0</td>\n",
       "      <td>0</td>\n",
       "    </tr>\n",
       "    <tr>\n",
       "      <th>1</th>\n",
       "      <td>3</td>\n",
       "      <td>14.0</td>\n",
       "      <td>0</td>\n",
       "      <td>0</td>\n",
       "      <td>1</td>\n",
       "      <td>0</td>\n",
       "      <td>0</td>\n",
       "    </tr>\n",
       "    <tr>\n",
       "      <th>2</th>\n",
       "      <td>3</td>\n",
       "      <td>14.0</td>\n",
       "      <td>0</td>\n",
       "      <td>0</td>\n",
       "      <td>1</td>\n",
       "      <td>0</td>\n",
       "      <td>0</td>\n",
       "    </tr>\n",
       "    <tr>\n",
       "      <th>3</th>\n",
       "      <td>2</td>\n",
       "      <td>14.4</td>\n",
       "      <td>1</td>\n",
       "      <td>1</td>\n",
       "      <td>0</td>\n",
       "      <td>0</td>\n",
       "      <td>0</td>\n",
       "    </tr>\n",
       "    <tr>\n",
       "      <th>4</th>\n",
       "      <td>1</td>\n",
       "      <td>16.6</td>\n",
       "      <td>1</td>\n",
       "      <td>1</td>\n",
       "      <td>0</td>\n",
       "      <td>0</td>\n",
       "      <td>0</td>\n",
       "    </tr>\n",
       "    <tr>\n",
       "      <th>5</th>\n",
       "      <td>2</td>\n",
       "      <td>14.4</td>\n",
       "      <td>1</td>\n",
       "      <td>1</td>\n",
       "      <td>0</td>\n",
       "      <td>0</td>\n",
       "      <td>0</td>\n",
       "    </tr>\n",
       "    <tr>\n",
       "      <th>6</th>\n",
       "      <td>2</td>\n",
       "      <td>14.4</td>\n",
       "      <td>0</td>\n",
       "      <td>0</td>\n",
       "      <td>1</td>\n",
       "      <td>0</td>\n",
       "      <td>0</td>\n",
       "    </tr>\n",
       "    <tr>\n",
       "      <th>7</th>\n",
       "      <td>2</td>\n",
       "      <td>14.4</td>\n",
       "      <td>1</td>\n",
       "      <td>1</td>\n",
       "      <td>0</td>\n",
       "      <td>0</td>\n",
       "      <td>0</td>\n",
       "    </tr>\n",
       "    <tr>\n",
       "      <th>8</th>\n",
       "      <td>3</td>\n",
       "      <td>17.2</td>\n",
       "      <td>1</td>\n",
       "      <td>1</td>\n",
       "      <td>0</td>\n",
       "      <td>0</td>\n",
       "      <td>0</td>\n",
       "    </tr>\n",
       "    <tr>\n",
       "      <th>9</th>\n",
       "      <td>2</td>\n",
       "      <td>14.4</td>\n",
       "      <td>3</td>\n",
       "      <td>1</td>\n",
       "      <td>0</td>\n",
       "      <td>0</td>\n",
       "      <td>0</td>\n",
       "    </tr>\n",
       "  </tbody>\n",
       "</table>\n",
       "</div>"
      ],
      "text/plain": [
       "   loan_duration  lender_interest  totalpurc  order_status_0  order_status_1  \\\n",
       "0              2             14.4          1               1               0   \n",
       "1              3             14.0          0               0               1   \n",
       "2              3             14.0          0               0               1   \n",
       "3              2             14.4          1               1               0   \n",
       "4              1             16.6          1               1               0   \n",
       "5              2             14.4          1               1               0   \n",
       "6              2             14.4          0               0               1   \n",
       "7              2             14.4          1               1               0   \n",
       "8              3             17.2          1               1               0   \n",
       "9              2             14.4          3               1               0   \n",
       "\n",
       "   order_status_2  order_status_3  \n",
       "0               0               0  \n",
       "1               0               0  \n",
       "2               0               0  \n",
       "3               0               0  \n",
       "4               0               0  \n",
       "5               0               0  \n",
       "6               0               0  \n",
       "7               0               0  \n",
       "8               0               0  \n",
       "9               0               0  "
      ]
     },
     "execution_count": 26,
     "metadata": {},
     "output_type": "execute_result"
    }
   ],
   "source": [
    "df = koin_new[['loan_duration', 'lender_interest', 'totalpurc',\n",
    "        'order_status_0', 'order_status_1', 'order_status_2', 'order_status_3']]\n",
    "df.head(10)"
   ]
  },
  {
   "cell_type": "code",
   "execution_count": 27,
   "id": "1d27033b",
   "metadata": {},
   "outputs": [
    {
     "data": {
      "text/html": [
       "<div>\n",
       "<style scoped>\n",
       "    .dataframe tbody tr th:only-of-type {\n",
       "        vertical-align: middle;\n",
       "    }\n",
       "\n",
       "    .dataframe tbody tr th {\n",
       "        vertical-align: top;\n",
       "    }\n",
       "\n",
       "    .dataframe thead th {\n",
       "        text-align: right;\n",
       "    }\n",
       "</style>\n",
       "<table border=\"1\" class=\"dataframe\">\n",
       "  <thead>\n",
       "    <tr style=\"text-align: right;\">\n",
       "      <th></th>\n",
       "      <th>loan_duration</th>\n",
       "      <th>lender_interest</th>\n",
       "      <th>totalpurc</th>\n",
       "      <th>order_status_0</th>\n",
       "      <th>order_status_1</th>\n",
       "      <th>order_status_2</th>\n",
       "      <th>order_status_3</th>\n",
       "    </tr>\n",
       "  </thead>\n",
       "  <tbody>\n",
       "    <tr>\n",
       "      <th>loan_duration</th>\n",
       "      <td>1.000000</td>\n",
       "      <td>0.351152</td>\n",
       "      <td>-0.241729</td>\n",
       "      <td>-0.302720</td>\n",
       "      <td>0.316181</td>\n",
       "      <td>0.072908</td>\n",
       "      <td>-0.041625</td>\n",
       "    </tr>\n",
       "    <tr>\n",
       "      <th>lender_interest</th>\n",
       "      <td>0.351152</td>\n",
       "      <td>1.000000</td>\n",
       "      <td>-0.307686</td>\n",
       "      <td>-0.338019</td>\n",
       "      <td>0.347730</td>\n",
       "      <td>0.077445</td>\n",
       "      <td>-0.016459</td>\n",
       "    </tr>\n",
       "    <tr>\n",
       "      <th>totalpurc</th>\n",
       "      <td>-0.241729</td>\n",
       "      <td>-0.307686</td>\n",
       "      <td>1.000000</td>\n",
       "      <td>0.784453</td>\n",
       "      <td>-0.617689</td>\n",
       "      <td>-0.384919</td>\n",
       "      <td>-0.143801</td>\n",
       "    </tr>\n",
       "    <tr>\n",
       "      <th>order_status_0</th>\n",
       "      <td>-0.302720</td>\n",
       "      <td>-0.338019</td>\n",
       "      <td>0.784453</td>\n",
       "      <td>1.000000</td>\n",
       "      <td>-0.785666</td>\n",
       "      <td>-0.493396</td>\n",
       "      <td>-0.182906</td>\n",
       "    </tr>\n",
       "    <tr>\n",
       "      <th>order_status_1</th>\n",
       "      <td>0.316181</td>\n",
       "      <td>0.347730</td>\n",
       "      <td>-0.617689</td>\n",
       "      <td>-0.785666</td>\n",
       "      <td>1.000000</td>\n",
       "      <td>-0.100301</td>\n",
       "      <td>-0.037182</td>\n",
       "    </tr>\n",
       "    <tr>\n",
       "      <th>order_status_2</th>\n",
       "      <td>0.072908</td>\n",
       "      <td>0.077445</td>\n",
       "      <td>-0.384919</td>\n",
       "      <td>-0.493396</td>\n",
       "      <td>-0.100301</td>\n",
       "      <td>1.000000</td>\n",
       "      <td>-0.023350</td>\n",
       "    </tr>\n",
       "    <tr>\n",
       "      <th>order_status_3</th>\n",
       "      <td>-0.041625</td>\n",
       "      <td>-0.016459</td>\n",
       "      <td>-0.143801</td>\n",
       "      <td>-0.182906</td>\n",
       "      <td>-0.037182</td>\n",
       "      <td>-0.023350</td>\n",
       "      <td>1.000000</td>\n",
       "    </tr>\n",
       "  </tbody>\n",
       "</table>\n",
       "</div>"
      ],
      "text/plain": [
       "                 loan_duration  lender_interest  totalpurc  order_status_0  \\\n",
       "loan_duration         1.000000         0.351152  -0.241729       -0.302720   \n",
       "lender_interest       0.351152         1.000000  -0.307686       -0.338019   \n",
       "totalpurc            -0.241729        -0.307686   1.000000        0.784453   \n",
       "order_status_0       -0.302720        -0.338019   0.784453        1.000000   \n",
       "order_status_1        0.316181         0.347730  -0.617689       -0.785666   \n",
       "order_status_2        0.072908         0.077445  -0.384919       -0.493396   \n",
       "order_status_3       -0.041625        -0.016459  -0.143801       -0.182906   \n",
       "\n",
       "                 order_status_1  order_status_2  order_status_3  \n",
       "loan_duration          0.316181        0.072908       -0.041625  \n",
       "lender_interest        0.347730        0.077445       -0.016459  \n",
       "totalpurc             -0.617689       -0.384919       -0.143801  \n",
       "order_status_0        -0.785666       -0.493396       -0.182906  \n",
       "order_status_1         1.000000       -0.100301       -0.037182  \n",
       "order_status_2        -0.100301        1.000000       -0.023350  \n",
       "order_status_3        -0.037182       -0.023350        1.000000  "
      ]
     },
     "execution_count": 27,
     "metadata": {},
     "output_type": "execute_result"
    }
   ],
   "source": [
    "df.corr()"
   ]
  },
  {
   "cell_type": "code",
   "execution_count": 28,
   "id": "67286899",
   "metadata": {},
   "outputs": [
    {
     "data": {
      "image/png": "[encoded data removed]",
      "text/plain": [
       "<Figure size 864x864 with 2 Axes>"
      ]
     },
     "metadata": {
      "needs_background": "light"
     },
     "output_type": "display_data"
    }
   ],
   "source": [
    "#correlation map\n",
    "f,ax = plt.subplots(figsize=(12, 12))\n",
    "sns.heatmap(df.corr(), annot=True, linewidths=.5, fmt= '.1f',ax=ax)\n",
    "plt.show()"
   ]
  },
  {
   "cell_type": "code",
   "execution_count": 29,
   "id": "f935411d",
   "metadata": {},
   "outputs": [],
   "source": [
    "from sklearn.preprocessing import MinMaxScaler\n",
    "scaler = MinMaxScaler()\n",
    "scaler.fit_transform(df.drop('totalpurc',axis=1))\n",
    "scaled_features = scaler.transform(df.drop('totalpurc',axis=1))"
   ]
  },
  {
   "cell_type": "code",
   "execution_count": 30,
   "id": "eab21a2e",
   "metadata": {},
   "outputs": [
    {
     "data": {
      "text/html": [
       "<style  type=\"text/css\" >\n",
       "#T_9afdb_row0_col0,#T_9afdb_row0_col1,#T_9afdb_row0_col2,#T_9afdb_row0_col3,#T_9afdb_row0_col4,#T_9afdb_row0_col5,#T_9afdb_row1_col0,#T_9afdb_row1_col1,#T_9afdb_row1_col2,#T_9afdb_row1_col3,#T_9afdb_row1_col4,#T_9afdb_row1_col5,#T_9afdb_row2_col0,#T_9afdb_row2_col1,#T_9afdb_row2_col2,#T_9afdb_row2_col3,#T_9afdb_row2_col4,#T_9afdb_row2_col5,#T_9afdb_row3_col0,#T_9afdb_row3_col1,#T_9afdb_row3_col2,#T_9afdb_row3_col3,#T_9afdb_row3_col4,#T_9afdb_row3_col5,#T_9afdb_row4_col0,#T_9afdb_row4_col1,#T_9afdb_row4_col2,#T_9afdb_row4_col3,#T_9afdb_row4_col4,#T_9afdb_row4_col5,#T_9afdb_row5_col0,#T_9afdb_row5_col1,#T_9afdb_row5_col2,#T_9afdb_row5_col3,#T_9afdb_row5_col4,#T_9afdb_row5_col5,#T_9afdb_row6_col0,#T_9afdb_row6_col1,#T_9afdb_row6_col2,#T_9afdb_row6_col3,#T_9afdb_row6_col4,#T_9afdb_row6_col5,#T_9afdb_row7_col0,#T_9afdb_row7_col1,#T_9afdb_row7_col2,#T_9afdb_row7_col3,#T_9afdb_row7_col4,#T_9afdb_row7_col5,#T_9afdb_row8_col0,#T_9afdb_row8_col1,#T_9afdb_row8_col2,#T_9afdb_row8_col3,#T_9afdb_row8_col4,#T_9afdb_row8_col5,#T_9afdb_row9_col0,#T_9afdb_row9_col1,#T_9afdb_row9_col2,#T_9afdb_row9_col3,#T_9afdb_row9_col4,#T_9afdb_row9_col5,#T_9afdb_row10_col0,#T_9afdb_row10_col1,#T_9afdb_row10_col2,#T_9afdb_row10_col3,#T_9afdb_row10_col4,#T_9afdb_row10_col5,#T_9afdb_row11_col0,#T_9afdb_row11_col1,#T_9afdb_row11_col2,#T_9afdb_row11_col3,#T_9afdb_row11_col4,#T_9afdb_row11_col5,#T_9afdb_row12_col0,#T_9afdb_row12_col1,#T_9afdb_row12_col2,#T_9afdb_row12_col3,#T_9afdb_row12_col4,#T_9afdb_row12_col5,#T_9afdb_row13_col0,#T_9afdb_row13_col1,#T_9afdb_row13_col2,#T_9afdb_row13_col3,#T_9afdb_row13_col4,#T_9afdb_row13_col5,#T_9afdb_row14_col0,#T_9afdb_row14_col1,#T_9afdb_row14_col2,#T_9afdb_row14_col3,#T_9afdb_row14_col4,#T_9afdb_row14_col5,#T_9afdb_row15_col0,#T_9afdb_row15_col1,#T_9afdb_row15_col2,#T_9afdb_row15_col3,#T_9afdb_row15_col4,#T_9afdb_row15_col5,#T_9afdb_row16_col0,#T_9afdb_row16_col1,#T_9afdb_row16_col2,#T_9afdb_row16_col3,#T_9afdb_row16_col4,#T_9afdb_row16_col5,#T_9afdb_row17_col0,#T_9afdb_row17_col1,#T_9afdb_row17_col2,#T_9afdb_row17_col3,#T_9afdb_row17_col4,#T_9afdb_row17_col5,#T_9afdb_row18_col0,#T_9afdb_row18_col1,#T_9afdb_row18_col2,#T_9afdb_row18_col3,#T_9afdb_row18_col4,#T_9afdb_row18_col5,#T_9afdb_row19_col0,#T_9afdb_row19_col1,#T_9afdb_row19_col2,#T_9afdb_row19_col3,#T_9afdb_row19_col4,#T_9afdb_row19_col5,#T_9afdb_row20_col0,#T_9afdb_row20_col1,#T_9afdb_row20_col2,#T_9afdb_row20_col3,#T_9afdb_row20_col4,#T_9afdb_row20_col5,#T_9afdb_row21_col0,#T_9afdb_row21_col1,#T_9afdb_row21_col2,#T_9afdb_row21_col3,#T_9afdb_row21_col4,#T_9afdb_row21_col5,#T_9afdb_row22_col0,#T_9afdb_row22_col1,#T_9afdb_row22_col2,#T_9afdb_row22_col3,#T_9afdb_row22_col4,#T_9afdb_row22_col5,#T_9afdb_row23_col0,#T_9afdb_row23_col1,#T_9afdb_row23_col2,#T_9afdb_row23_col3,#T_9afdb_row23_col4,#T_9afdb_row23_col5,#T_9afdb_row24_col0,#T_9afdb_row24_col1,#T_9afdb_row24_col2,#T_9afdb_row24_col3,#T_9afdb_row24_col4,#T_9afdb_row24_col5,#T_9afdb_row25_col0,#T_9afdb_row25_col1,#T_9afdb_row25_col2,#T_9afdb_row25_col3,#T_9afdb_row25_col4,#T_9afdb_row25_col5,#T_9afdb_row26_col0,#T_9afdb_row26_col1,#T_9afdb_row26_col2,#T_9afdb_row26_col3,#T_9afdb_row26_col4,#T_9afdb_row26_col5,#T_9afdb_row27_col0,#T_9afdb_row27_col1,#T_9afdb_row27_col2,#T_9afdb_row27_col3,#T_9afdb_row27_col4,#T_9afdb_row27_col5,#T_9afdb_row28_col0,#T_9afdb_row28_col1,#T_9afdb_row28_col2,#T_9afdb_row28_col3,#T_9afdb_row28_col4,#T_9afdb_row28_col5,#T_9afdb_row29_col0,#T_9afdb_row29_col1,#T_9afdb_row29_col2,#T_9afdb_row29_col3,#T_9afdb_row29_col4,#T_9afdb_row29_col5{\n",
       "            background-color:  black;\n",
       "            color:  white;\n",
       "            border-color:  black;\n",
       "            font-size:  11.5pt;\n",
       "            width:  200;\n",
       "        }</style><table id=\"T_9afdb_\" ><thead>    <tr>        <th class=\"blank level0\" ></th>        <th class=\"col_heading level0 col0\" >loan_duration</th>        <th class=\"col_heading level0 col1\" >lender_interest</th>        <th class=\"col_heading level0 col2\" >totalpurc</th>        <th class=\"col_heading level0 col3\" >order_status_0</th>        <th class=\"col_heading level0 col4\" >order_status_1</th>        <th class=\"col_heading level0 col5\" >order_status_2</th>    </tr></thead><tbody>\n",
       "                <tr>\n",
       "                        <th id=\"T_9afdb_level0_row0\" class=\"row_heading level0 row0\" >0</th>\n",
       "                        <td id=\"T_9afdb_row0_col0\" class=\"data row0 col0\" >0.043478</td>\n",
       "                        <td id=\"T_9afdb_row0_col1\" class=\"data row0 col1\" >0.150603</td>\n",
       "                        <td id=\"T_9afdb_row0_col2\" class=\"data row0 col2\" >1.000000</td>\n",
       "                        <td id=\"T_9afdb_row0_col3\" class=\"data row0 col3\" >0.000000</td>\n",
       "                        <td id=\"T_9afdb_row0_col4\" class=\"data row0 col4\" >0.000000</td>\n",
       "                        <td id=\"T_9afdb_row0_col5\" class=\"data row0 col5\" >0.000000</td>\n",
       "            </tr>\n",
       "            <tr>\n",
       "                        <th id=\"T_9afdb_level0_row1\" class=\"row_heading level0 row1\" >1</th>\n",
       "                        <td id=\"T_9afdb_row1_col0\" class=\"data row1 col0\" >0.086957</td>\n",
       "                        <td id=\"T_9afdb_row1_col1\" class=\"data row1 col1\" >0.144811</td>\n",
       "                        <td id=\"T_9afdb_row1_col2\" class=\"data row1 col2\" >0.000000</td>\n",
       "                        <td id=\"T_9afdb_row1_col3\" class=\"data row1 col3\" >1.000000</td>\n",
       "                        <td id=\"T_9afdb_row1_col4\" class=\"data row1 col4\" >0.000000</td>\n",
       "                        <td id=\"T_9afdb_row1_col5\" class=\"data row1 col5\" >0.000000</td>\n",
       "            </tr>\n",
       "            <tr>\n",
       "                        <th id=\"T_9afdb_level0_row2\" class=\"row_heading level0 row2\" >2</th>\n",
       "                        <td id=\"T_9afdb_row2_col0\" class=\"data row2 col0\" >0.086957</td>\n",
       "                        <td id=\"T_9afdb_row2_col1\" class=\"data row2 col1\" >0.144811</td>\n",
       "                        <td id=\"T_9afdb_row2_col2\" class=\"data row2 col2\" >0.000000</td>\n",
       "                        <td id=\"T_9afdb_row2_col3\" class=\"data row2 col3\" >1.000000</td>\n",
       "                        <td id=\"T_9afdb_row2_col4\" class=\"data row2 col4\" >0.000000</td>\n",
       "                        <td id=\"T_9afdb_row2_col5\" class=\"data row2 col5\" >0.000000</td>\n",
       "            </tr>\n",
       "            <tr>\n",
       "                        <th id=\"T_9afdb_level0_row3\" class=\"row_heading level0 row3\" >3</th>\n",
       "                        <td id=\"T_9afdb_row3_col0\" class=\"data row3 col0\" >0.043478</td>\n",
       "                        <td id=\"T_9afdb_row3_col1\" class=\"data row3 col1\" >0.150603</td>\n",
       "                        <td id=\"T_9afdb_row3_col2\" class=\"data row3 col2\" >1.000000</td>\n",
       "                        <td id=\"T_9afdb_row3_col3\" class=\"data row3 col3\" >0.000000</td>\n",
       "                        <td id=\"T_9afdb_row3_col4\" class=\"data row3 col4\" >0.000000</td>\n",
       "                        <td id=\"T_9afdb_row3_col5\" class=\"data row3 col5\" >0.000000</td>\n",
       "            </tr>\n",
       "            <tr>\n",
       "                        <th id=\"T_9afdb_level0_row4\" class=\"row_heading level0 row4\" >4</th>\n",
       "                        <td id=\"T_9afdb_row4_col0\" class=\"data row4 col0\" >0.000000</td>\n",
       "                        <td id=\"T_9afdb_row4_col1\" class=\"data row4 col1\" >0.182462</td>\n",
       "                        <td id=\"T_9afdb_row4_col2\" class=\"data row4 col2\" >1.000000</td>\n",
       "                        <td id=\"T_9afdb_row4_col3\" class=\"data row4 col3\" >0.000000</td>\n",
       "                        <td id=\"T_9afdb_row4_col4\" class=\"data row4 col4\" >0.000000</td>\n",
       "                        <td id=\"T_9afdb_row4_col5\" class=\"data row4 col5\" >0.000000</td>\n",
       "            </tr>\n",
       "            <tr>\n",
       "                        <th id=\"T_9afdb_level0_row5\" class=\"row_heading level0 row5\" >5</th>\n",
       "                        <td id=\"T_9afdb_row5_col0\" class=\"data row5 col0\" >0.043478</td>\n",
       "                        <td id=\"T_9afdb_row5_col1\" class=\"data row5 col1\" >0.150603</td>\n",
       "                        <td id=\"T_9afdb_row5_col2\" class=\"data row5 col2\" >1.000000</td>\n",
       "                        <td id=\"T_9afdb_row5_col3\" class=\"data row5 col3\" >0.000000</td>\n",
       "                        <td id=\"T_9afdb_row5_col4\" class=\"data row5 col4\" >0.000000</td>\n",
       "                        <td id=\"T_9afdb_row5_col5\" class=\"data row5 col5\" >0.000000</td>\n",
       "            </tr>\n",
       "            <tr>\n",
       "                        <th id=\"T_9afdb_level0_row6\" class=\"row_heading level0 row6\" >6</th>\n",
       "                        <td id=\"T_9afdb_row6_col0\" class=\"data row6 col0\" >0.043478</td>\n",
       "                        <td id=\"T_9afdb_row6_col1\" class=\"data row6 col1\" >0.150603</td>\n",
       "                        <td id=\"T_9afdb_row6_col2\" class=\"data row6 col2\" >0.000000</td>\n",
       "                        <td id=\"T_9afdb_row6_col3\" class=\"data row6 col3\" >1.000000</td>\n",
       "                        <td id=\"T_9afdb_row6_col4\" class=\"data row6 col4\" >0.000000</td>\n",
       "                        <td id=\"T_9afdb_row6_col5\" class=\"data row6 col5\" >0.000000</td>\n",
       "            </tr>\n",
       "            <tr>\n",
       "                        <th id=\"T_9afdb_level0_row7\" class=\"row_heading level0 row7\" >7</th>\n",
       "                        <td id=\"T_9afdb_row7_col0\" class=\"data row7 col0\" >0.043478</td>\n",
       "                        <td id=\"T_9afdb_row7_col1\" class=\"data row7 col1\" >0.150603</td>\n",
       "                        <td id=\"T_9afdb_row7_col2\" class=\"data row7 col2\" >1.000000</td>\n",
       "                        <td id=\"T_9afdb_row7_col3\" class=\"data row7 col3\" >0.000000</td>\n",
       "                        <td id=\"T_9afdb_row7_col4\" class=\"data row7 col4\" >0.000000</td>\n",
       "                        <td id=\"T_9afdb_row7_col5\" class=\"data row7 col5\" >0.000000</td>\n",
       "            </tr>\n",
       "            <tr>\n",
       "                        <th id=\"T_9afdb_level0_row8\" class=\"row_heading level0 row8\" >8</th>\n",
       "                        <td id=\"T_9afdb_row8_col0\" class=\"data row8 col0\" >0.086957</td>\n",
       "                        <td id=\"T_9afdb_row8_col1\" class=\"data row8 col1\" >0.191150</td>\n",
       "                        <td id=\"T_9afdb_row8_col2\" class=\"data row8 col2\" >1.000000</td>\n",
       "                        <td id=\"T_9afdb_row8_col3\" class=\"data row8 col3\" >0.000000</td>\n",
       "                        <td id=\"T_9afdb_row8_col4\" class=\"data row8 col4\" >0.000000</td>\n",
       "                        <td id=\"T_9afdb_row8_col5\" class=\"data row8 col5\" >0.000000</td>\n",
       "            </tr>\n",
       "            <tr>\n",
       "                        <th id=\"T_9afdb_level0_row9\" class=\"row_heading level0 row9\" >9</th>\n",
       "                        <td id=\"T_9afdb_row9_col0\" class=\"data row9 col0\" >0.043478</td>\n",
       "                        <td id=\"T_9afdb_row9_col1\" class=\"data row9 col1\" >0.150603</td>\n",
       "                        <td id=\"T_9afdb_row9_col2\" class=\"data row9 col2\" >1.000000</td>\n",
       "                        <td id=\"T_9afdb_row9_col3\" class=\"data row9 col3\" >0.000000</td>\n",
       "                        <td id=\"T_9afdb_row9_col4\" class=\"data row9 col4\" >0.000000</td>\n",
       "                        <td id=\"T_9afdb_row9_col5\" class=\"data row9 col5\" >0.000000</td>\n",
       "            </tr>\n",
       "            <tr>\n",
       "                        <th id=\"T_9afdb_level0_row10\" class=\"row_heading level0 row10\" >10</th>\n",
       "                        <td id=\"T_9afdb_row10_col0\" class=\"data row10 col0\" >0.043478</td>\n",
       "                        <td id=\"T_9afdb_row10_col1\" class=\"data row10 col1\" >0.150603</td>\n",
       "                        <td id=\"T_9afdb_row10_col2\" class=\"data row10 col2\" >0.000000</td>\n",
       "                        <td id=\"T_9afdb_row10_col3\" class=\"data row10 col3\" >0.000000</td>\n",
       "                        <td id=\"T_9afdb_row10_col4\" class=\"data row10 col4\" >0.000000</td>\n",
       "                        <td id=\"T_9afdb_row10_col5\" class=\"data row10 col5\" >1.000000</td>\n",
       "            </tr>\n",
       "            <tr>\n",
       "                        <th id=\"T_9afdb_level0_row11\" class=\"row_heading level0 row11\" >11</th>\n",
       "                        <td id=\"T_9afdb_row11_col0\" class=\"data row11 col0\" >0.086957</td>\n",
       "                        <td id=\"T_9afdb_row11_col1\" class=\"data row11 col1\" >0.191150</td>\n",
       "                        <td id=\"T_9afdb_row11_col2\" class=\"data row11 col2\" >0.000000</td>\n",
       "                        <td id=\"T_9afdb_row11_col3\" class=\"data row11 col3\" >0.000000</td>\n",
       "                        <td id=\"T_9afdb_row11_col4\" class=\"data row11 col4\" >0.000000</td>\n",
       "                        <td id=\"T_9afdb_row11_col5\" class=\"data row11 col5\" >1.000000</td>\n",
       "            </tr>\n",
       "            <tr>\n",
       "                        <th id=\"T_9afdb_level0_row12\" class=\"row_heading level0 row12\" >12</th>\n",
       "                        <td id=\"T_9afdb_row12_col0\" class=\"data row12 col0\" >0.000000</td>\n",
       "                        <td id=\"T_9afdb_row12_col1\" class=\"data row12 col1\" >0.199839</td>\n",
       "                        <td id=\"T_9afdb_row12_col2\" class=\"data row12 col2\" >1.000000</td>\n",
       "                        <td id=\"T_9afdb_row12_col3\" class=\"data row12 col3\" >0.000000</td>\n",
       "                        <td id=\"T_9afdb_row12_col4\" class=\"data row12 col4\" >0.000000</td>\n",
       "                        <td id=\"T_9afdb_row12_col5\" class=\"data row12 col5\" >0.000000</td>\n",
       "            </tr>\n",
       "            <tr>\n",
       "                        <th id=\"T_9afdb_level0_row13\" class=\"row_heading level0 row13\" >13</th>\n",
       "                        <td id=\"T_9afdb_row13_col0\" class=\"data row13 col0\" >1.000000</td>\n",
       "                        <td id=\"T_9afdb_row13_col1\" class=\"data row13 col1\" >0.299758</td>\n",
       "                        <td id=\"T_9afdb_row13_col2\" class=\"data row13 col2\" >1.000000</td>\n",
       "                        <td id=\"T_9afdb_row13_col3\" class=\"data row13 col3\" >0.000000</td>\n",
       "                        <td id=\"T_9afdb_row13_col4\" class=\"data row13 col4\" >0.000000</td>\n",
       "                        <td id=\"T_9afdb_row13_col5\" class=\"data row13 col5\" >0.000000</td>\n",
       "            </tr>\n",
       "            <tr>\n",
       "                        <th id=\"T_9afdb_level0_row14\" class=\"row_heading level0 row14\" >14</th>\n",
       "                        <td id=\"T_9afdb_row14_col0\" class=\"data row14 col0\" >1.000000</td>\n",
       "                        <td id=\"T_9afdb_row14_col1\" class=\"data row14 col1\" >0.277892</td>\n",
       "                        <td id=\"T_9afdb_row14_col2\" class=\"data row14 col2\" >1.000000</td>\n",
       "                        <td id=\"T_9afdb_row14_col3\" class=\"data row14 col3\" >0.000000</td>\n",
       "                        <td id=\"T_9afdb_row14_col4\" class=\"data row14 col4\" >0.000000</td>\n",
       "                        <td id=\"T_9afdb_row14_col5\" class=\"data row14 col5\" >0.000000</td>\n",
       "            </tr>\n",
       "            <tr>\n",
       "                        <th id=\"T_9afdb_level0_row15\" class=\"row_heading level0 row15\" >15</th>\n",
       "                        <td id=\"T_9afdb_row15_col0\" class=\"data row15 col0\" >1.000000</td>\n",
       "                        <td id=\"T_9afdb_row15_col1\" class=\"data row15 col1\" >0.302075</td>\n",
       "                        <td id=\"T_9afdb_row15_col2\" class=\"data row15 col2\" >1.000000</td>\n",
       "                        <td id=\"T_9afdb_row15_col3\" class=\"data row15 col3\" >0.000000</td>\n",
       "                        <td id=\"T_9afdb_row15_col4\" class=\"data row15 col4\" >0.000000</td>\n",
       "                        <td id=\"T_9afdb_row15_col5\" class=\"data row15 col5\" >0.000000</td>\n",
       "            </tr>\n",
       "            <tr>\n",
       "                        <th id=\"T_9afdb_level0_row16\" class=\"row_heading level0 row16\" >16</th>\n",
       "                        <td id=\"T_9afdb_row16_col0\" class=\"data row16 col0\" >0.043478</td>\n",
       "                        <td id=\"T_9afdb_row16_col1\" class=\"data row16 col1\" >0.150603</td>\n",
       "                        <td id=\"T_9afdb_row16_col2\" class=\"data row16 col2\" >1.000000</td>\n",
       "                        <td id=\"T_9afdb_row16_col3\" class=\"data row16 col3\" >0.000000</td>\n",
       "                        <td id=\"T_9afdb_row16_col4\" class=\"data row16 col4\" >0.000000</td>\n",
       "                        <td id=\"T_9afdb_row16_col5\" class=\"data row16 col5\" >0.000000</td>\n",
       "            </tr>\n",
       "            <tr>\n",
       "                        <th id=\"T_9afdb_level0_row17\" class=\"row_heading level0 row17\" >17</th>\n",
       "                        <td id=\"T_9afdb_row17_col0\" class=\"data row17 col0\" >0.043478</td>\n",
       "                        <td id=\"T_9afdb_row17_col1\" class=\"data row17 col1\" >0.150603</td>\n",
       "                        <td id=\"T_9afdb_row17_col2\" class=\"data row17 col2\" >1.000000</td>\n",
       "                        <td id=\"T_9afdb_row17_col3\" class=\"data row17 col3\" >0.000000</td>\n",
       "                        <td id=\"T_9afdb_row17_col4\" class=\"data row17 col4\" >0.000000</td>\n",
       "                        <td id=\"T_9afdb_row17_col5\" class=\"data row17 col5\" >0.000000</td>\n",
       "            </tr>\n",
       "            <tr>\n",
       "                        <th id=\"T_9afdb_level0_row18\" class=\"row_heading level0 row18\" >18</th>\n",
       "                        <td id=\"T_9afdb_row18_col0\" class=\"data row18 col0\" >0.043478</td>\n",
       "                        <td id=\"T_9afdb_row18_col1\" class=\"data row18 col1\" >0.150603</td>\n",
       "                        <td id=\"T_9afdb_row18_col2\" class=\"data row18 col2\" >1.000000</td>\n",
       "                        <td id=\"T_9afdb_row18_col3\" class=\"data row18 col3\" >0.000000</td>\n",
       "                        <td id=\"T_9afdb_row18_col4\" class=\"data row18 col4\" >0.000000</td>\n",
       "                        <td id=\"T_9afdb_row18_col5\" class=\"data row18 col5\" >0.000000</td>\n",
       "            </tr>\n",
       "            <tr>\n",
       "                        <th id=\"T_9afdb_level0_row19\" class=\"row_heading level0 row19\" >19</th>\n",
       "                        <td id=\"T_9afdb_row19_col0\" class=\"data row19 col0\" >0.000000</td>\n",
       "                        <td id=\"T_9afdb_row19_col1\" class=\"data row19 col1\" >0.199839</td>\n",
       "                        <td id=\"T_9afdb_row19_col2\" class=\"data row19 col2\" >1.000000</td>\n",
       "                        <td id=\"T_9afdb_row19_col3\" class=\"data row19 col3\" >0.000000</td>\n",
       "                        <td id=\"T_9afdb_row19_col4\" class=\"data row19 col4\" >0.000000</td>\n",
       "                        <td id=\"T_9afdb_row19_col5\" class=\"data row19 col5\" >0.000000</td>\n",
       "            </tr>\n",
       "            <tr>\n",
       "                        <th id=\"T_9afdb_level0_row20\" class=\"row_heading level0 row20\" >20</th>\n",
       "                        <td id=\"T_9afdb_row20_col0\" class=\"data row20 col0\" >0.000000</td>\n",
       "                        <td id=\"T_9afdb_row20_col1\" class=\"data row20 col1\" >0.182462</td>\n",
       "                        <td id=\"T_9afdb_row20_col2\" class=\"data row20 col2\" >1.000000</td>\n",
       "                        <td id=\"T_9afdb_row20_col3\" class=\"data row20 col3\" >0.000000</td>\n",
       "                        <td id=\"T_9afdb_row20_col4\" class=\"data row20 col4\" >0.000000</td>\n",
       "                        <td id=\"T_9afdb_row20_col5\" class=\"data row20 col5\" >0.000000</td>\n",
       "            </tr>\n",
       "            <tr>\n",
       "                        <th id=\"T_9afdb_level0_row21\" class=\"row_heading level0 row21\" >21</th>\n",
       "                        <td id=\"T_9afdb_row21_col0\" class=\"data row21 col0\" >0.043478</td>\n",
       "                        <td id=\"T_9afdb_row21_col1\" class=\"data row21 col1\" >0.150603</td>\n",
       "                        <td id=\"T_9afdb_row21_col2\" class=\"data row21 col2\" >1.000000</td>\n",
       "                        <td id=\"T_9afdb_row21_col3\" class=\"data row21 col3\" >0.000000</td>\n",
       "                        <td id=\"T_9afdb_row21_col4\" class=\"data row21 col4\" >0.000000</td>\n",
       "                        <td id=\"T_9afdb_row21_col5\" class=\"data row21 col5\" >0.000000</td>\n",
       "            </tr>\n",
       "            <tr>\n",
       "                        <th id=\"T_9afdb_level0_row22\" class=\"row_heading level0 row22\" >22</th>\n",
       "                        <td id=\"T_9afdb_row22_col0\" class=\"data row22 col0\" >0.000000</td>\n",
       "                        <td id=\"T_9afdb_row22_col1\" class=\"data row22 col1\" >0.182462</td>\n",
       "                        <td id=\"T_9afdb_row22_col2\" class=\"data row22 col2\" >1.000000</td>\n",
       "                        <td id=\"T_9afdb_row22_col3\" class=\"data row22 col3\" >0.000000</td>\n",
       "                        <td id=\"T_9afdb_row22_col4\" class=\"data row22 col4\" >0.000000</td>\n",
       "                        <td id=\"T_9afdb_row22_col5\" class=\"data row22 col5\" >0.000000</td>\n",
       "            </tr>\n",
       "            <tr>\n",
       "                        <th id=\"T_9afdb_level0_row23\" class=\"row_heading level0 row23\" >23</th>\n",
       "                        <td id=\"T_9afdb_row23_col0\" class=\"data row23 col0\" >0.000000</td>\n",
       "                        <td id=\"T_9afdb_row23_col1\" class=\"data row23 col1\" >0.182462</td>\n",
       "                        <td id=\"T_9afdb_row23_col2\" class=\"data row23 col2\" >1.000000</td>\n",
       "                        <td id=\"T_9afdb_row23_col3\" class=\"data row23 col3\" >0.000000</td>\n",
       "                        <td id=\"T_9afdb_row23_col4\" class=\"data row23 col4\" >0.000000</td>\n",
       "                        <td id=\"T_9afdb_row23_col5\" class=\"data row23 col5\" >0.000000</td>\n",
       "            </tr>\n",
       "            <tr>\n",
       "                        <th id=\"T_9afdb_level0_row24\" class=\"row_heading level0 row24\" >24</th>\n",
       "                        <td id=\"T_9afdb_row24_col0\" class=\"data row24 col0\" >0.043478</td>\n",
       "                        <td id=\"T_9afdb_row24_col1\" class=\"data row24 col1\" >0.167981</td>\n",
       "                        <td id=\"T_9afdb_row24_col2\" class=\"data row24 col2\" >1.000000</td>\n",
       "                        <td id=\"T_9afdb_row24_col3\" class=\"data row24 col3\" >0.000000</td>\n",
       "                        <td id=\"T_9afdb_row24_col4\" class=\"data row24 col4\" >0.000000</td>\n",
       "                        <td id=\"T_9afdb_row24_col5\" class=\"data row24 col5\" >0.000000</td>\n",
       "            </tr>\n",
       "            <tr>\n",
       "                        <th id=\"T_9afdb_level0_row25\" class=\"row_heading level0 row25\" >25</th>\n",
       "                        <td id=\"T_9afdb_row25_col0\" class=\"data row25 col0\" >0.043478</td>\n",
       "                        <td id=\"T_9afdb_row25_col1\" class=\"data row25 col1\" >0.167981</td>\n",
       "                        <td id=\"T_9afdb_row25_col2\" class=\"data row25 col2\" >1.000000</td>\n",
       "                        <td id=\"T_9afdb_row25_col3\" class=\"data row25 col3\" >0.000000</td>\n",
       "                        <td id=\"T_9afdb_row25_col4\" class=\"data row25 col4\" >0.000000</td>\n",
       "                        <td id=\"T_9afdb_row25_col5\" class=\"data row25 col5\" >0.000000</td>\n",
       "            </tr>\n",
       "            <tr>\n",
       "                        <th id=\"T_9afdb_level0_row26\" class=\"row_heading level0 row26\" >26</th>\n",
       "                        <td id=\"T_9afdb_row26_col0\" class=\"data row26 col0\" >0.043478</td>\n",
       "                        <td id=\"T_9afdb_row26_col1\" class=\"data row26 col1\" >0.150603</td>\n",
       "                        <td id=\"T_9afdb_row26_col2\" class=\"data row26 col2\" >1.000000</td>\n",
       "                        <td id=\"T_9afdb_row26_col3\" class=\"data row26 col3\" >0.000000</td>\n",
       "                        <td id=\"T_9afdb_row26_col4\" class=\"data row26 col4\" >0.000000</td>\n",
       "                        <td id=\"T_9afdb_row26_col5\" class=\"data row26 col5\" >0.000000</td>\n",
       "            </tr>\n",
       "            <tr>\n",
       "                        <th id=\"T_9afdb_level0_row27\" class=\"row_heading level0 row27\" >27</th>\n",
       "                        <td id=\"T_9afdb_row27_col0\" class=\"data row27 col0\" >0.043478</td>\n",
       "                        <td id=\"T_9afdb_row27_col1\" class=\"data row27 col1\" >0.150603</td>\n",
       "                        <td id=\"T_9afdb_row27_col2\" class=\"data row27 col2\" >1.000000</td>\n",
       "                        <td id=\"T_9afdb_row27_col3\" class=\"data row27 col3\" >0.000000</td>\n",
       "                        <td id=\"T_9afdb_row27_col4\" class=\"data row27 col4\" >0.000000</td>\n",
       "                        <td id=\"T_9afdb_row27_col5\" class=\"data row27 col5\" >0.000000</td>\n",
       "            </tr>\n",
       "            <tr>\n",
       "                        <th id=\"T_9afdb_level0_row28\" class=\"row_heading level0 row28\" >28</th>\n",
       "                        <td id=\"T_9afdb_row28_col0\" class=\"data row28 col0\" >0.086957</td>\n",
       "                        <td id=\"T_9afdb_row28_col1\" class=\"data row28 col1\" >0.182462</td>\n",
       "                        <td id=\"T_9afdb_row28_col2\" class=\"data row28 col2\" >1.000000</td>\n",
       "                        <td id=\"T_9afdb_row28_col3\" class=\"data row28 col3\" >0.000000</td>\n",
       "                        <td id=\"T_9afdb_row28_col4\" class=\"data row28 col4\" >0.000000</td>\n",
       "                        <td id=\"T_9afdb_row28_col5\" class=\"data row28 col5\" >0.000000</td>\n",
       "            </tr>\n",
       "            <tr>\n",
       "                        <th id=\"T_9afdb_level0_row29\" class=\"row_heading level0 row29\" >29</th>\n",
       "                        <td id=\"T_9afdb_row29_col0\" class=\"data row29 col0\" >0.086957</td>\n",
       "                        <td id=\"T_9afdb_row29_col1\" class=\"data row29 col1\" >0.182462</td>\n",
       "                        <td id=\"T_9afdb_row29_col2\" class=\"data row29 col2\" >1.000000</td>\n",
       "                        <td id=\"T_9afdb_row29_col3\" class=\"data row29 col3\" >0.000000</td>\n",
       "                        <td id=\"T_9afdb_row29_col4\" class=\"data row29 col4\" >0.000000</td>\n",
       "                        <td id=\"T_9afdb_row29_col5\" class=\"data row29 col5\" >0.000000</td>\n",
       "            </tr>\n",
       "    </tbody></table>"
      ],
      "text/plain": [
       "<pandas.io.formats.style.Styler at 0x19161ec5400>"
      ]
     },
     "execution_count": 30,
     "metadata": {},
     "output_type": "execute_result"
    }
   ],
   "source": [
    "scaled_features = pd.DataFrame(scaled_features, columns = df.columns[:-1])\n",
    "scaled_features.head(30).style.set_properties(**{\"background-color\": \"black\",\"color\": \"white\", \"border-color\": \"black\",\"font-size\":\"11.5pt\",'width': 200})"
   ]
  },
  {
   "cell_type": "code",
   "execution_count": 31,
   "id": "def1cf4d",
   "metadata": {},
   "outputs": [],
   "source": [
    "X = scaled_features\n",
    "y = df['totalpurc']"
   ]
  },
  {
   "cell_type": "code",
   "execution_count": 32,
   "id": "55409d93",
   "metadata": {},
   "outputs": [],
   "source": [
    "from sklearn.model_selection import train_test_split\n",
    "X_train, X_test, y_train, y_test = train_test_split(X,y,test_size = 0.30,random_state = 42)"
   ]
  },
  {
   "cell_type": "code",
   "execution_count": 33,
   "id": "97b56505",
   "metadata": {},
   "outputs": [],
   "source": [
    "from sklearn.neighbors import KNeighborsClassifier\n",
    "from sklearn.model_selection import GridSearchCV, cross_val_score, StratifiedKFold, learning_curve ,KFold\n",
    "from sklearn.metrics import roc_curve,accuracy_score,f1_score,auc,confusion_matrix,roc_auc_score,plot_confusion_matrix\n",
    "from sklearn.metrics import classification_report,confusion_matrix,accuracy_score\n",
    "from sklearn.metrics import precision_score"
   ]
  },
  {
   "cell_type": "code",
   "execution_count": 34,
   "id": "55e3cdf4",
   "metadata": {
    "scrolled": false
   },
   "outputs": [
    {
     "name": "stdout",
     "output_type": "stream",
     "text": [
      "accuracy score for classification:  0.9292517006802721\n"
     ]
    }
   ],
   "source": [
    "knn = KNeighborsClassifier(n_neighbors=4)\n",
    "knn = knn.fit(X_train, y_train)\n",
    "preds= knn.predict(X_test)\n",
    "acc = accuracy_score(y_test,preds)\n",
    "\n",
    "print(\"accuracy score for classification: \",acc)\n"
   ]
  },
  {
   "cell_type": "code",
   "execution_count": null,
   "id": "8fcec8d4",
   "metadata": {},
   "outputs": [],
   "source": []
  },
  {
   "cell_type": "code",
   "execution_count": null,
   "id": "8cc6ea4f",
   "metadata": {},
   "outputs": [],
   "source": []
  },
  {
   "cell_type": "code",
   "execution_count": null,
   "id": "b00102d3",
   "metadata": {},
   "outputs": [],
   "source": []
  },
  {
   "cell_type": "code",
   "execution_count": null,
   "id": "12c35fce",
   "metadata": {},
   "outputs": [],
   "source": []
  },
  {
   "cell_type": "code",
   "execution_count": null,
   "id": "041a0d9a",
   "metadata": {},
   "outputs": [],
   "source": []
  },
  {
   "cell_type": "code",
   "execution_count": null,
   "id": "01ef4284",
   "metadata": {},
   "outputs": [],
   "source": []
  },
  {
   "cell_type": "code",
   "execution_count": null,
   "id": "91101ce0",
   "metadata": {},
   "outputs": [],
   "source": []
  }
 ],
 "metadata": {
  "kernelspec": {
   "display_name": "Python 3",
   "language": "python",
   "name": "python3"
  },
  "language_info": {
   "codemirror_mode": {
    "name": "ipython",
    "version": 3
   },
   "file_extension": ".py",
   "mimetype": "text/x-python",
   "name": "python",
   "nbconvert_exporter": "python",
   "pygments_lexer": "ipython3",
   "version": "3.8.8"
  }
 },
 "nbformat": 4,
 "nbformat_minor": 5
}
